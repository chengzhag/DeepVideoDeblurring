{
 "cells": [
  {
   "cell_type": "code",
   "execution_count": 24,
   "metadata": {},
   "outputs": [],
   "source": [
    "-- option settings\n",
    "local rootDir = '../'\n",
    "local date = '1118'\n",
    "-- local dateLoad = '1108'\n",
    "-- local itLoadFix = ''\n",
    "-- local dateLoad = '1107'\n",
    "-- local itLoadFix = '_iteration_80000'\n",
    "local dateLoad = '1117'\n",
    "local itLoadFix = '_iteration_120000'\n",
    "\n",
    "local align = \"_nowarp\"\n",
    "local modelName = 'model2_symskip_nngraph2_deeper'\n",
    "local epochTest = '400' -- don't know what this means\n",
    "\n",
    "local dataFolder = rootDir..\"data/training_augumented_all_nostab\"..align\n",
    "local modelDir = rootDir..\"models/\"..modelName..\".lua\"\n",
    "local paramLoadFolder = rootDir..'logs/'..dateLoad..'_'..modelName..align\n",
    "local paramSaveFolder =rootDir..'logs/'..date..'_'..modelName..align\n",
    "\n",
    "opt = {}\n",
    "opt.seed = 251\n",
    "opt.model = modelDir\n",
    "opt.model_param_load = paramLoadFolder..'/param_epoch_'..epochTest..itLoadFix..'.t7' \n",
    "opt.bn_meanstd_load = paramLoadFolder..'/bn_meanvar_epoch_'..epochTest..itLoadFix..'.t7'\n",
    "opt.optimstate_load = paramLoadFolder..'/optimstate_epoch_'..epochTest..itLoadFix..'.t7'\n",
    "opt.data_root = dataFolder\n",
    "opt.trainset_size = 61 \n",
    "opt.batch_size = 8 \n",
    "opt.it_max = 10\n",
    "opt.model_param = paramSaveFolder..'/param_epoch_'..epochTest \n",
    "opt.bn_meanstd = paramSaveFolder..'/bn_meanvar_epoch_'..epochTest \n",
    "opt.optimstate = paramSaveFolder..'/optimstate_epoch_'..epochTest  \n",
    "opt.save_every = 1000 \n",
    "-- opt.log = paramSaveFolder..'/train.log' \n",
    "\n",
    "paramsLoadDir = opt.model_param_load\n",
    "bn_meanvarLoadDir = opt.bn_meanstd_load\n",
    "optimstateLoadDir = opt.optimstate_load"
   ]
  },
  {
   "cell_type": "code",
   "execution_count": 2,
   "metadata": {},
   "outputs": [
    {
     "data": {
      "text/plain": [
       "../data/training_augumented_all_nostab_nowarp\t\n",
       "scanning videos from ../data/training_augumented_all_nostab_nowarp\t\n"
      ]
     },
     "execution_count": 2,
     "metadata": {},
     "output_type": "execute_result"
    },
    {
     "data": {
      "text/plain": [
       "Found 71 videos and 33540 batches\t\n"
      ]
     },
     "execution_count": 2,
     "metadata": {},
     "output_type": "execute_result"
    }
   ],
   "source": [
    "-- scan batches\n",
    "require(\"lfs\")\n",
    "\n",
    "alignFolder = opt.data_root\n",
    "print(alignFolder)\n",
    "print(string.format('scanning videos from %s',alignFolder))\n",
    "videoNames = {}\n",
    "batchDirs = {}\n",
    "local iVideos = 0;\n",
    "local nBatches = 0;\n",
    "for videoName in lfs.dir(alignFolder) do\n",
    "    if videoName ~= \".\" and videoName ~= \"..\" then\n",
    "--         print(videoName)\n",
    "        iVideos = iVideos+1\n",
    "        videoNames[iVideos] = videoName\n",
    "        batchDirs[videoName] = {};\n",
    "        local videoFolder = paths.concat(alignFolder,videoName);\n",
    "        for batchName in lfs.dir(videoFolder) do\n",
    "            if batchName ~= \".\" and batchName ~= \"..\" then\n",
    "                table.insert(batchDirs[videoName],\n",
    "                    paths.concat(videoFolder,batchName))\n",
    "--                 print(batchName)\n",
    "            end\n",
    "        end\n",
    "        table.sort(batchDirs[videoName])\n",
    "        nBatches = nBatches + #batchDirs[videoName]\n",
    "    end\n",
    "end\n",
    "table.sort(videoNames)\n",
    "print(string.format('Found %d videos and %d batches',#videoNames,nBatches))\n"
   ]
  },
  {
   "cell_type": "code",
   "execution_count": 3,
   "metadata": {},
   "outputs": [
    {
     "data": {
      "text/plain": [
       "/home/omnisky/.luarocks/share/lua/5.1/?.lua;/home/omnisky/.luarocks/share/lua/5.1/?/init.lua;/home/omnisky/torch/install/share/lua/5.1/?.lua;/home/omnisky/torch/install/share/lua/5.1/?/init.lua;./?.lua;/home/omnisky/torch/install/share/luajit-2.1.0-beta1/?.lua;/usr/local/share/lua/5.1/?.lua;/usr/local/share/lua/5.1/?/init.lua;../models/model2_symskip_nngraph2_deeper.lua\t\n"
      ]
     },
     "execution_count": 3,
     "metadata": {},
     "output_type": "execute_result"
    }
   ],
   "source": [
    "package.path = package.path .. \";../models/model2_symskip_nngraph2_deeper.lua\"\n",
    "print(package.path)\n"
   ]
  },
  {
   "cell_type": "code",
   "execution_count": 4,
   "metadata": {},
   "outputs": [
    {
     "data": {
      "text/plain": [
       "Found 61 trainsets and 10 validsets\t\n"
      ]
     },
     "execution_count": 4,
     "metadata": {},
     "output_type": "execute_result"
    },
    {
     "data": {
      "text/plain": [
       "29110\t4430\t\n"
      ]
     },
     "execution_count": 4,
     "metadata": {},
     "output_type": "execute_result"
    }
   ],
   "source": [
    "-- split datasets (videoNames) into trainset and validset\n",
    "local trainsetSize = math.min(opt.trainset_size,#videoNames)\n",
    "\n",
    "math.randomseed(opt.seed) \n",
    "local name2weight = {}\n",
    "for iVideo,videoName in ipairs(videoNames) do\n",
    "    name2weight[videoName] = math.random()\n",
    "end\n",
    "table.sort(videoNames,function(a,b) return name2weight[a]<name2weight[b] end)\n",
    "trainsetNames={}\n",
    "validsetNames={}\n",
    "for iVideo,videoName in ipairs(videoNames) do\n",
    "    if(iVideo<=trainsetSize) then\n",
    "        table.insert(trainsetNames,videoName)\n",
    "    else\n",
    "        table.insert(validsetNames,videoName)\n",
    "    end\n",
    "end\n",
    "print(string.format('Found %d trainsets and %d validsets',#trainsetNames,#validsetNames))\n",
    "\n",
    "local function getDirsFromNames(names)\n",
    "    local dirs = {}\n",
    "    for iName,name in ipairs(names) do\n",
    "        local dirsName = batchDirs[name]\n",
    "        for iDir,dir in ipairs(dirsName) do\n",
    "            table.insert(dirs,dir)\n",
    "        end\n",
    "    end\n",
    "    return dirs\n",
    "end\n",
    "\n",
    "trainsetDirs = getDirsFromNames(trainsetNames)\n",
    "validsetDirs = getDirsFromNames(validsetNames)\n",
    "print(#trainsetDirs,#validsetDirs)"
   ]
  },
  {
   "cell_type": "code",
   "execution_count": 5,
   "metadata": {},
   "outputs": [],
   "source": [
    "-- load and show first batch\n",
    "require 'math'\n",
    "matio = require 'matio'\n",
    "\n",
    "function loadBatch(videoNames,iVideo,iBatch)\n",
    "    sampleDir = batchDirs[videoNames[iVideo] ][iBatch]\n",
    "--     print('loading batch ' .. sampleDir)\n",
    "    batchSample = matio.load(sampleDir)\n",
    "    return batchSample.batchInputTorch, batchSample.batchGTTorch\n",
    "end\n",
    "\n",
    "batchInputSample,batchGTSample = loadBatch(trainsetNames,1,1);\n",
    "print(#batchInputSample)\n",
    "print(#batchGTSample)\n",
    "\n",
    "\n",
    "function showSampleBatch(batchInput,batchGT)\n",
    "    print('showing patchInput')\n",
    "    local patchInputSample = batchInput[1]\n",
    "--     itorch.image(patchInputSample:contiguous():view(5,3,128,128))\n",
    "    \n",
    "    print('showing patchGT')\n",
    "    local patchGTSample = batchGT[1]\n",
    "--     itorch.image(patchGTSample)\n",
    "end\n",
    "showSampleBatch(batchInputSample,batchGTSample)"
   ]
  },
  {
   "cell_type": "code",
   "execution_count": 6,
   "metadata": {
    "scrolled": false
   },
   "outputs": [
    {
     "data": {
      "text/plain": [
       "  64\n",
       "  15\n",
       " 128\n",
       " 128\n",
       "[torch.LongStorage of size 4]\n",
       "\n",
       "  64\n",
       "   3\n",
       " 128\n",
       " 128\n",
       "[torch.LongStorage of size 4]\n",
       "\n",
       "showing patchInput\t\n",
       "showing patchGT\t\n"
      ]
     },
     "execution_count": 6,
     "metadata": {},
     "output_type": "execute_result"
    },
    {
     "data": {
      "text/plain": [
       "  64\n",
       "  15\n",
       " 128\n",
       " 128\n",
       "[torch.LongStorage of size 4]\n",
       "\n",
       "  64\n",
       "   3\n",
       " 128\n",
       " 128\n",
       "[torch.LongStorage of size 4]\n",
       "\n",
       "showing patchInput\t\n",
       "showing patchGT\t\n"
      ]
     },
     "execution_count": 6,
     "metadata": {},
     "output_type": "execute_result"
    }
   ],
   "source": [
    "-- load and view random batch sample\n",
    "function loadRandomBatchFrom(batchDirs,batchSize)\n",
    "    local iBatch = math.random(#batchDirs)\n",
    "    local sampleDir = batchDirs[iBatch]\n",
    "    local batchSample = matio.load(sampleDir)\n",
    "\n",
    "    local batchInputRaw,batchGTRaw = batchSample.batchInputTorch, batchSample.batchGTTorch\n",
    "\n",
    "    batchSize = batchSize or batchInputRaw:size(1)\n",
    "    if batchSize - batchInputRaw:size(1) ~= 0 then\n",
    "        local shuffle = torch.randperm(batchInputRaw:size(1))\n",
    "        batchInput = torch.zeros(batchSize,batchInputRaw:size(2),batchInputRaw:size(3),batchInputRaw:size(4))\n",
    "        batchGT = torch.zeros(batchSize,batchGTRaw:size(2),batchGTRaw:size(3),batchGTRaw:size(4))\n",
    "        for i=1,batchSize do\n",
    "            batchInput[i] = batchInputRaw[shuffle[i] ]\n",
    "            batchGT[i] = batchGTRaw[shuffle[i] ]\n",
    "        end\n",
    "    else\n",
    "        batchInput = batchInputRaw\n",
    "        batchGT = batchGTRaw\n",
    "    end\n",
    "\n",
    "    return batchInput, batchGT\n",
    "end\n",
    "\n",
    "math.randomseed(251) \n",
    "batchInput,batchGT = loadRandomBatchFrom(batchDirs[videoNames[1]])\n",
    "print(#batchInput)\n",
    "print(#batchGT)\n",
    "\n",
    "showSampleBatch(batchInput,batchGT)"
   ]
  },
  {
   "cell_type": "code",
   "execution_count": 7,
   "metadata": {},
   "outputs": [
    {
     "data": {
      "text/plain": [
       "Loading model ../models/model2_symskip_nngraph2_deeper.lua\t\n"
      ]
     },
     "execution_count": 7,
     "metadata": {},
     "output_type": "execute_result"
    },
    {
     "data": {
      "text/plain": [
       "Model loaded\t\n"
      ]
     },
     "execution_count": 7,
     "metadata": {},
     "output_type": "execute_result"
    }
   ],
   "source": [
    "-- load model\n",
    "require 'torch'\n",
    "require 'cunn'\n",
    "require 'cutorch'\n",
    "require 'nn'\n",
    "require 'optim'\n",
    "\n",
    "modelDir = opt.model\n",
    "print(string.format( \"Loading model %s\",modelDir ))\n",
    "require(modelDir)\n",
    "net = create_model()\n",
    "net = net:cuda()\n",
    "print(\"Model loaded\")"
   ]
  },
  {
   "cell_type": "code",
   "execution_count": 8,
   "metadata": {},
   "outputs": [
    {
     "data": {
      "text/plain": [
       "Params setting: max_intensity = 255.000000\t\n",
       "                    batchSize = 8\t\n",
       "                    decayFrom = 24000\t\n",
       "                   decayEvery = 8000\t\n",
       "                    decayRate = 0.500000\t\n",
       "                        itMax = 10\t\n",
       "                        lrMin = 0.000001\t\n"
      ]
     },
     "execution_count": 8,
     "metadata": {},
     "output_type": "execute_result"
    }
   ],
   "source": [
    "-- params setting\n",
    "max_intensity = 255\n",
    "batchSize = opt.batch_size\n",
    "decayFrom = 24000\n",
    "decayEvery = 8000\n",
    "decayRate = 0.5\n",
    "itMax = opt.it_max\n",
    "lrMin = 1e-6\n",
    "\n",
    "print(string.format( \"Params setting: max_intensity = %f\",max_intensity ))\n",
    "print(string.format( \"                    batchSize = %d\",batchSize ))\n",
    "print(string.format( \"                    decayFrom = %d\",decayFrom ))\n",
    "print(string.format( \"                   decayEvery = %d\",decayEvery ))\n",
    "print(string.format( \"                    decayRate = %f\",decayRate ))\n",
    "print(string.format( \"                        itMax = %d\",itMax ))\n",
    "print(string.format( \"                        lrMin = %f\",lrMin ))\n",
    "\n",
    "criterion = nn.MSECriterion()\n",
    "criterion = criterion:cuda()\n",
    "\n",
    "params, gradParams = net:getParameters()\n",
    "\n",
    "paramsSaveDir = opt.model_param\n",
    "bn_meanvarSaveDir = opt.bn_meanstd\n",
    "optimstateSaveDir = opt.optimstate\n",
    "saveEvery = opt.save_every"
   ]
  },
  {
   "cell_type": "code",
   "execution_count": 9,
   "metadata": {},
   "outputs": [
    {
     "data": {
      "text/plain": [
       "Loading params from: \n",
       "paramsLoadDir: ../logs/1112_model2_symskip_nngraph2_deeper_nowarp/param_epoch_400_iteration_80000.t7 \n",
       "bn_meanvarLoadDir: ../logs/1112_model2_symskip_nngraph2_deeper_nowarp/bn_meanvar_epoch_400_iteration_80000.t7 \n",
       "optimstateLoadDir: ../logs/1112_model2_symskip_nngraph2_deeper_nowarp/optimstate_epoch_400_iteration_80000.t7 \t\n"
      ]
     },
     "execution_count": 9,
     "metadata": {},
     "output_type": "execute_result"
    },
    {
     "data": {
      "text/plain": [
       "optimConfig = \t\n",
       "{\n",
       "  v : CudaTensor - size: 15305291\n",
       "  m : CudaTensor - size: 15305291\n",
       "  learningRate : 1.953125e-05\n",
       "  t : 80000\n",
       "  denom : CudaTensor - size: 15305291\n",
       "  epsilon : 1e-08\n",
       "  weightDecay : 0\n",
       "  beta2 : 0.999\n",
       "  beta1 : 0.9\n",
       "}\n"
      ]
     },
     "execution_count": 9,
     "metadata": {},
     "output_type": "execute_result"
    }
   ],
   "source": [
    "-- load params\n",
    "function loadParams()\n",
    "    print(string.format(\n",
    "    \"Loading params from: \\nparamsLoadDir: %s \\nbn_meanvarLoadDir: %s \\noptimstateLoadDir: %s \", \n",
    "    paramsLoadDir,bn_meanvarLoadDir,optimstateLoadDir))\n",
    "    if not pcall(\n",
    "            function()\n",
    "                local paramsSave = torch.load(paramsLoadDir)\n",
    "                local bn_meanvarSave = torch.load(bn_meanvarLoadDir)\n",
    "                optimstateSave = torch.load(optimstateLoadDir)\n",
    "\n",
    "                params:copy(paramsSave)\n",
    "                local bn_mean, bn_std = table.unpack(bn_meanvarSave)\n",
    "                for k,v in pairs(net:findModules('nn.SpatialBatchNormalization')) do\n",
    "                    v.running_mean:copy(bn_mean[k])\n",
    "                    v.running_var:copy(bn_std[k])\n",
    "                end\n",
    "            end) \n",
    "    then\n",
    "        print('No params to load or wrong dir!\\n')\n",
    "    end\n",
    "    \n",
    "    optimConfig = optimstateSave or {}\n",
    "    optimConfig.learningRate = optimConfig.learningRate or 0.005\n",
    "    optimConfig.weightDecay = optimConfig.weightDecay or 0\n",
    "    optimConfig.beta1 = optimConfig.beta1 or 0.9\n",
    "    optimConfig.beta2 = optimConfig.beta2 or 0.999\n",
    "    optimConfig.epsilon = optimConfig.epsilon or 1e-8\n",
    "    print('optimConfig = ')\n",
    "    print(optimConfig)\n",
    "    optimConfig.t = optimConfig.t or 0\n",
    "    itBegin = optimConfig.t+1\n",
    "end\n",
    "\n",
    "loadParams()"
   ]
  },
  {
   "cell_type": "code",
   "execution_count": 10,
   "metadata": {},
   "outputs": [],
   "source": [
    "-- save params\n",
    "function saveParams(it)\n",
    "    local paramsSaveDir = paramsSaveDir..'_iteration_'..it..'.t7'\n",
    "    local bn_meanvarSaveDir = bn_meanvarSaveDir..'_iteration_'..it..'.t7'\n",
    "    local optimstateSaveDir = optimstateSaveDir..'_iteration_'..it..'.t7'\n",
    "    print(string.format(\n",
    "        \"Saving params to: \\nparamsSaveDir: %s \\nbn_meanvarSaveDir: %s \\noptimstateSaveDir: %s \", \n",
    "        paramsSaveDir,bn_meanvarSaveDir,optimstateSaveDir))\n",
    "    torch.save(paramsSaveDir,params)\n",
    "    local bn_mean = {}\n",
    "    local bn_std = {}\n",
    "    for k,v in pairs(net:findModules('nn.SpatialBatchNormalization')) do\n",
    "        table.insert(bn_mean,v.running_mean)\n",
    "        table.insert(bn_std,v.running_var)\n",
    "    end\n",
    "    local bn_meanvar = {bn_mean,bn_std}\n",
    "    torch.save(bn_meanvarSaveDir,bn_meanvar)\n",
    "    torch.save(optimstateSaveDir,optimConfig)\n",
    "    print(optimConfig)\n",
    "end"
   ]
  },
  {
   "cell_type": "code",
   "execution_count": 11,
   "metadata": {},
   "outputs": [],
   "source": [
    "-- iteration funtion\n",
    "function feval(params)\n",
    "    gradParams:zero()\n",
    "\n",
    "    local batchInput,batchGT = loadRandomBatchFrom(trainsetDirs,batchSize)\n",
    "\n",
    "    batchInput = batchInput:double():div(max_intensity):cuda()\n",
    "    batchGT = batchGT:double():div(max_intensity):cuda()\n",
    "        \n",
    "    local predict = net:forward(batchInput)\n",
    "    loss = criterion:forward(predict, batchGT)\n",
    "    local dloss_dpredict = criterion:backward(predict,batchGT)\n",
    "    local gradInput = net:backward(batchInput, dloss_dpredict)\n",
    "        \n",
    "    return loss, gradParams\n",
    "end\n",
    "\n",
    "\n",
    "-- Log results to files\n",
    "if opt.log then\n",
    "    print('logging to: '..opt.log)\n",
    "    trainLogger = optim.Logger(opt.log)\n",
    "    trainLogger:setNames{'loss'}\n",
    "end"
   ]
  },
  {
   "cell_type": "code",
   "execution_count": 12,
   "metadata": {
    "scrolled": true
   },
   "outputs": [],
   "source": [
    "-- train\n",
    "-- at least 12 GB video memory required for batch size 64\n",
    "math.randomseed(sys.clock()) \n",
    "local tic = sys.clock()\n",
    "net:training() -- set train = true\n",
    "for it = itBegin,itMax do\n",
    "    if it>=decayFrom and (it-decayFrom)%decayEvery==0 then\n",
    "        optimConfig.learningRate = optimConfig.learningRate*decayRate\n",
    "    end\n",
    "    if optimConfig.learningRate<lrMin then\n",
    "        optimConfig.learningRate = lrMin\n",
    "    end\n",
    "\n",
    "    optim.adam(feval,params,optimConfig)\n",
    "    \n",
    "    local toc = sys.clock()\n",
    "    speed = 1/(toc-tic)\n",
    "    avgSpeed = avgSpeed or speed\n",
    "    avgSpeed = 0.1*speed+0.9*avgSpeed\n",
    "    timeLeft = (itMax-it)/avgSpeed\n",
    "    toc = tic\n",
    "    tic = sys.clock()\n",
    "    timeLeftMin = timeLeft/60\n",
    "    print(string.format(\n",
    "            'it: %d, loss: %f, lr: %f, spd: %.2f it/s, avgSpd: %.2f it/s, left: %d h %.1f min',\n",
    "            it,loss,optimConfig.learningRate,speed,avgSpeed,timeLeftMin/60,timeLeftMin%60))\n",
    "    \n",
    "    -- update logger/plot\n",
    "    if trainLogger then\n",
    "        trainLogger:add{loss}\n",
    "        trainLogger:style{'-'}\n",
    "        trainLogger:plot()\n",
    "    end\n",
    "\n",
    "--     if it%opt.save_every == 0 or it == itMax then \n",
    "--         saveParams(it)\n",
    "--     end\n",
    "end"
   ]
  },
  {
   "cell_type": "code",
   "execution_count": 13,
   "metadata": {},
   "outputs": [
    {
     "ename": "cannot open <../logs/1114_model2_symskip_nngraph2_deeper_nowarp/param_epoch_400_iteration_10.t7> in mode  w at /home/omnisky/torch/pkg/torch/lib/TH/THDiskFile.c:673\nstack traceback:\n\t[C]: at 0x7f6127cbc710\n\t[C]: in function 'DiskFile'\n\t/home/omnisky/torch/install/share/lua/5.1/torch/File.lua:385: in function 'save'\n\t[string \"-- save params...\"]:9: in function 'f'\n\t[string \"local f = function() return -- save params...\"]:2: in main chunk\n\t[C]: in function 'xpcall'\n\t/home/omnisky/torch/install/share/lua/5.1/itorch/main.lua:210: in function </home/omnisky/torch/install/share/lua/5.1/itorch/main.lua:174>\n\t/home/omnisky/torch/install/share/lua/5.1/lzmq/poller.lua:80: in function 'poll'\n\t...e/omnisky/torch/install/share/lua/5.1/lzmq/impl/loop.lua:307: in function 'poll'\n\t...e/omnisky/torch/install/share/lua/5.1/lzmq/impl/loop.lua:325: in function 'sleep_ex'\n\t...e/omnisky/torch/install/share/lua/5.1/lzmq/impl/loop.lua:370: in function 'start'\n\t/home/omnisky/torch/install/share/lua/5.1/itorch/main.lua:389: in main chunk\n\t[C]: in function 'require'\n\t(command line):1: in main chunk\n\t[C]: at 0x00406670",
     "evalue": "",
     "output_type": "error",
     "traceback": [
      "cannot open <../logs/1114_model2_symskip_nngraph2_deeper_nowarp/param_epoch_400_iteration_10.t7> in mode  w at /home/omnisky/torch/pkg/torch/lib/TH/THDiskFile.c:673\nstack traceback:\n\t[C]: at 0x7f6127cbc710\n\t[C]: in function 'DiskFile'\n\t/home/omnisky/torch/install/share/lua/5.1/torch/File.lua:385: in function 'save'\n\t[string \"-- save params...\"]:9: in function 'f'\n\t[string \"local f = function() return -- save params...\"]:2: in main chunk\n\t[C]: in function 'xpcall'\n\t/home/omnisky/torch/install/share/lua/5.1/itorch/main.lua:210: in function </home/omnisky/torch/install/share/lua/5.1/itorch/main.lua:174>\n\t/home/omnisky/torch/install/share/lua/5.1/lzmq/poller.lua:80: in function 'poll'\n\t...e/omnisky/torch/install/share/lua/5.1/lzmq/impl/loop.lua:307: in function 'poll'\n\t...e/omnisky/torch/install/share/lua/5.1/lzmq/impl/loop.lua:325: in function 'sleep_ex'\n\t...e/omnisky/torch/install/share/lua/5.1/lzmq/impl/loop.lua:370: in function 'start'\n\t/home/omnisky/torch/install/share/lua/5.1/itorch/main.lua:389: in main chunk\n\t[C]: in function 'require'\n\t(command line):1: in main chunk\n\t[C]: at 0x00406670"
     ]
    },
    {
     "data": {
      "text/plain": [
       "Saving params to: \n",
       "paramsSaveDir: ../logs/1114_model2_symskip_nngraph2_deeper_nowarp/param_epoch_400_iteration_10.t7 \n",
       "bn_meanvarSaveDir: ../logs/1114_model2_symskip_nngraph2_deeper_nowarp/bn_meanvar_epoch_400_iteration_10.t7 \n",
       "optimstateSaveDir: ../logs/1114_model2_symskip_nngraph2_deeper_nowarp/optimstate_epoch_400_iteration_10.t7 \t\n"
      ]
     },
     "execution_count": 13,
     "metadata": {},
     "output_type": "execute_result"
    }
   ],
   "source": [
    "-- save params\n",
    "saveParams(itMax)"
   ]
  },
  {
   "cell_type": "code",
   "execution_count": 25,
   "metadata": {},
   "outputs": [
    {
     "data": {
      "text/plain": [
       "Loading params from: \n",
       "paramsLoadDir: ../logs/1117_model2_symskip_nngraph2_deeper_nowarp/param_epoch_400_iteration_120000.t7 \n",
       "bn_meanvarLoadDir: ../logs/1117_model2_symskip_nngraph2_deeper_nowarp/bn_meanvar_epoch_400_iteration_120000.t7 \n",
       "optimstateLoadDir: ../logs/1117_model2_symskip_nngraph2_deeper_nowarp/optimstate_epoch_400_iteration_120000.t7 \t\n"
      ]
     },
     "execution_count": 25,
     "metadata": {},
     "output_type": "execute_result"
    },
    {
     "data": {
      "text/plain": [
       "optimConfig = \t\n",
       "{\n",
       "  v : CudaTensor - size: 15305291\n",
       "  m : CudaTensor - size: 15305291\n",
       "  learningRate : 4.8828125e-06\n",
       "  t : 120000\n",
       "  denom : CudaTensor - size: 15305291\n",
       "  epsilon : 1e-08\n",
       "  weightDecay : 0\n",
       "  beta2 : 0.999\n",
       "  beta1 : 0.9\n",
       "}\n",
       "\n"
      ]
     },
     "execution_count": 25,
     "metadata": {},
     "output_type": "execute_result"
    }
   ],
   "source": [
    "-- load params\n",
    "loadParams()"
   ]
  },
  {
   "cell_type": "code",
   "execution_count": 26,
   "metadata": {
    "scrolled": true
   },
   "outputs": [
    {
     "data": {
      "text/plain": [
       "5/50\t\n"
      ]
     },
     "execution_count": 26,
     "metadata": {},
     "output_type": "execute_result"
    },
    {
     "data": {
      "text/plain": [
       "10/50\t\n"
      ]
     },
     "execution_count": 26,
     "metadata": {},
     "output_type": "execute_result"
    },
    {
     "data": {
      "text/plain": [
       "15/50\t\n"
      ]
     },
     "execution_count": 26,
     "metadata": {},
     "output_type": "execute_result"
    },
    {
     "data": {
      "text/plain": [
       "20/50\t\n"
      ]
     },
     "execution_count": 26,
     "metadata": {},
     "output_type": "execute_result"
    },
    {
     "data": {
      "text/plain": [
       "25/50\t\n"
      ]
     },
     "execution_count": 26,
     "metadata": {},
     "output_type": "execute_result"
    },
    {
     "data": {
      "text/plain": [
       "30/50\t\n"
      ]
     },
     "execution_count": 26,
     "metadata": {},
     "output_type": "execute_result"
    },
    {
     "data": {
      "text/plain": [
       "35/50\t\n"
      ]
     },
     "execution_count": 26,
     "metadata": {},
     "output_type": "execute_result"
    },
    {
     "data": {
      "text/plain": [
       "40/50\t\n"
      ]
     },
     "execution_count": 26,
     "metadata": {},
     "output_type": "execute_result"
    },
    {
     "data": {
      "text/plain": [
       "45/50\t\n"
      ]
     },
     "execution_count": 26,
     "metadata": {},
     "output_type": "execute_result"
    },
    {
     "data": {
      "text/plain": [
       "50/50\t\n",
       "final test loss: 0.001696, max test loss: 0.007989\t\n"
      ]
     },
     "execution_count": 26,
     "metadata": {},
     "output_type": "execute_result"
    }
   ],
   "source": [
    "-- test net\n",
    "\n",
    "-- load batch\n",
    "local lossTest = 0\n",
    "local MaxLossTest = 0\n",
    "local nBatchesDone = 0\n",
    "local nBatchesTest = 50\n",
    "\n",
    "net:evaluate() -- set train = false\n",
    "math.randomseed(opt.seed) \n",
    "for iBatch = 1,nBatchesTest do\n",
    "    local batchInput,batchGT = loadRandomBatchFrom(validsetDirs,batchSize)\n",
    "    batchInput = batchInput:float():div(max_intensity):cuda()\n",
    "    batchGT = batchGT:float():div(max_intensity):cuda()\n",
    "\n",
    "    local predict = net:forward(batchInput)\n",
    "    local loss = criterion:forward(predict, batchGT)\n",
    "    MaxLossTest = math.max(MaxLossTest,loss)\n",
    "    lossTest = lossTest+loss\n",
    "    if iBatch%5 == 0 then\n",
    "        print(string.format('%d/%d',iBatch,nBatchesTest))\n",
    "    end\n",
    "end\n",
    "lossTest = lossTest/nBatchesTest\n",
    "print(string.format('final test loss: %f, max test loss: %f',lossTest,MaxLossTest))"
   ]
  },
  {
   "cell_type": "code",
   "execution_count": 11,
   "metadata": {},
   "outputs": [
    {
     "data": {
      "text/plain": [
       "showing patchInput\t\n"
      ]
     },
     "execution_count": 11,
     "metadata": {},
     "output_type": "execute_result"
    },
    {
     "data": {
      "text/plain": [
       "showing patchGT\t\n",
       "showing net output\t\n"
      ]
     },
     "execution_count": 11,
     "metadata": {},
     "output_type": "execute_result"
    },
    {
     "data": {
      "text/plain": [
       "0.0039606485515833\t\n"
      ]
     },
     "execution_count": 11,
     "metadata": {},
     "output_type": "execute_result"
    }
   ],
   "source": [
    "print('showing patchInput')\n",
    "batchInputSample,batchGTSample = loadBatch(trainsetNames,2,12);\n",
    "patchInput = batchInputSample[{{1},{},{},{}}]\n",
    "-- itorch.image(patchInput:contiguous():view(5,3,128,128))\n",
    "\n",
    "print('showing patchGT')\n",
    "-- show example output\n",
    "patchGT = batchGTSample[1]:double():div(max_intensity):cuda()\n",
    "-- itorch.image(patchGT)\n",
    "\n",
    "print('showing net output')\n",
    "patchInput = patchInput:double():div(max_intensity):cuda()\n",
    "net:evaluate() -- set train = false\n",
    "local predict = net:forward(patchInput)\n",
    "local loss = criterion:forward(predict,patchGT)\n",
    "print(loss)\n",
    "predict = predict:mul(max_intensity):byte()\n",
    "-- itorch.image(predict)\n"
   ]
  },
  {
   "cell_type": "code",
   "execution_count": 26,
   "metadata": {
    "scrolled": true
   },
   "outputs": [
    {
     "data": {
      "text/plain": [
       "it: 1, loss: 0.425336, lr: 0.005000, spd: 65.83 it/s, avgSpd: 7.88 it/s, left: 0 h 2.1 min\t\n"
      ]
     },
     "execution_count": 26,
     "metadata": {},
     "output_type": "execute_result"
    },
    {
     "data": {
      "text/plain": [
       "it: 2, loss: 0.155717, lr: 0.005000, spd: 47.64 it/s, avgSpd: 11.86 it/s, left: 0 h 1.4 min\t\n"
      ]
     },
     "execution_count": 26,
     "metadata": {},
     "output_type": "execute_result"
    },
    {
     "data": {
      "text/plain": [
       "it: 3, loss: 0.053008, lr: 0.005000, spd: 43.98 it/s, avgSpd: 15.07 it/s, left: 0 h 1.1 min\t\n"
      ]
     },
     "execution_count": 26,
     "metadata": {},
     "output_type": "execute_result"
    },
    {
     "data": {
      "text/plain": [
       "it: 4, loss: 0.046632, lr: 0.005000, spd: 43.35 it/s, avgSpd: 17.90 it/s, left: 0 h 0.9 min\t\n"
      ]
     },
     "execution_count": 26,
     "metadata": {},
     "output_type": "execute_result"
    },
    {
     "data": {
      "text/plain": [
       "it: 5, loss: 0.036919, lr: 0.005000, spd: 43.86 it/s, avgSpd: 20.49 it/s, left: 0 h 0.8 min\t\n"
      ]
     },
     "execution_count": 26,
     "metadata": {},
     "output_type": "execute_result"
    },
    {
     "data": {
      "text/plain": [
       "it: 6, loss: 0.125481, lr: 0.005000, spd: 43.37 it/s, avgSpd: 22.78 it/s, left: 0 h 0.7 min\t\n"
      ]
     },
     "execution_count": 26,
     "metadata": {},
     "output_type": "execute_result"
    },
    {
     "data": {
      "text/plain": [
       "it: 7, loss: 0.084642, lr: 0.005000, spd: 45.83 it/s, avgSpd: 25.09 it/s, left: 0 h 0.7 min\t\n"
      ]
     },
     "execution_count": 26,
     "metadata": {},
     "output_type": "execute_result"
    },
    {
     "data": {
      "text/plain": [
       "it: 8, loss: 0.055087, lr: 0.005000, spd: 46.06 it/s, avgSpd: 27.18 it/s, left: 0 h 0.6 min\t\n"
      ]
     },
     "execution_count": 26,
     "metadata": {},
     "output_type": "execute_result"
    },
    {
     "data": {
      "text/plain": [
       "it: 9, loss: 0.052809, lr: 0.005000, spd: 46.23 it/s, avgSpd: 29.09 it/s, left: 0 h 0.6 min\t\n"
      ]
     },
     "execution_count": 26,
     "metadata": {},
     "output_type": "execute_result"
    },
    {
     "data": {
      "text/plain": [
       "it: 10, loss: 0.042803, lr: 0.005000, spd: 46.28 it/s, avgSpd: 30.81 it/s, left: 0 h 0.5 min\t\n"
      ]
     },
     "execution_count": 26,
     "metadata": {},
     "output_type": "execute_result"
    },
    {
     "data": {
      "text/plain": [
       "it: 11, loss: 0.026577, lr: 0.005000, spd: 46.21 it/s, avgSpd: 32.35 it/s, left: 0 h 0.5 min\t\n"
      ]
     },
     "execution_count": 26,
     "metadata": {},
     "output_type": "execute_result"
    },
    {
     "data": {
      "text/plain": [
       "it: 12, loss: 0.104687, lr: 0.005000, spd: 46.13 it/s, avgSpd: 33.73 it/s, left: 0 h 0.5 min\t\n"
      ]
     },
     "execution_count": 26,
     "metadata": {},
     "output_type": "execute_result"
    },
    {
     "data": {
      "text/plain": [
       "it: 13, loss: 0.026364, lr: 0.005000, spd: 46.25 it/s, avgSpd: 34.98 it/s, left: 0 h 0.5 min\t\n"
      ]
     },
     "execution_count": 26,
     "metadata": {},
     "output_type": "execute_result"
    },
    {
     "data": {
      "text/plain": [
       "it: 14, loss: 0.034134, lr: 0.005000, spd: 46.67 it/s, avgSpd: 36.15 it/s, left: 0 h 0.5 min\t\n"
      ]
     },
     "execution_count": 26,
     "metadata": {},
     "output_type": "execute_result"
    },
    {
     "data": {
      "text/plain": [
       "it: 15, loss: 0.033665, lr: 0.005000, spd: 48.23 it/s, avgSpd: 37.36 it/s, left: 0 h 0.4 min\t\n"
      ]
     },
     "execution_count": 26,
     "metadata": {},
     "output_type": "execute_result"
    },
    {
     "data": {
      "text/plain": [
       "it: 16, loss: 0.029666, lr: 0.005000, spd: 48.11 it/s, avgSpd: 38.43 it/s, left: 0 h 0.4 min\t\n"
      ]
     },
     "execution_count": 26,
     "metadata": {},
     "output_type": "execute_result"
    },
    {
     "data": {
      "text/plain": [
       "it: 17, loss: 0.024146, lr: 0.005000, spd: 48.02 it/s, avgSpd: 39.39 it/s, left: 0 h 0.4 min\t\n"
      ]
     },
     "execution_count": 26,
     "metadata": {},
     "output_type": "execute_result"
    },
    {
     "data": {
      "text/plain": [
       "it: 18, loss: 0.019977, lr: 0.005000, spd: 48.12 it/s, avgSpd: 40.26 it/s, left: 0 h 0.4 min\t\n"
      ]
     },
     "execution_count": 26,
     "metadata": {},
     "output_type": "execute_result"
    },
    {
     "data": {
      "text/plain": [
       "it: 19, loss: 0.022910, lr: 0.005000, spd: 48.13 it/s, avgSpd: 41.05 it/s, left: 0 h 0.4 min\t\n"
      ]
     },
     "execution_count": 26,
     "metadata": {},
     "output_type": "execute_result"
    },
    {
     "data": {
      "text/plain": [
       "it: 20, loss: 0.022889, lr: 0.005000, spd: 48.07 it/s, avgSpd: 41.75 it/s, left: 0 h 0.4 min\t\n"
      ]
     },
     "execution_count": 26,
     "metadata": {},
     "output_type": "execute_result"
    },
    {
     "data": {
      "text/plain": [
       "it: 21, loss: 0.018154, lr: 0.005000, spd: 48.10 it/s, avgSpd: 42.39 it/s, left: 0 h 0.4 min\t\n"
      ]
     },
     "execution_count": 26,
     "metadata": {},
     "output_type": "execute_result"
    },
    {
     "data": {
      "text/plain": [
       "it: 22, loss: 0.017068, lr: 0.005000, spd: 48.60 it/s, avgSpd: 43.01 it/s, left: 0 h 0.4 min\t\n"
      ]
     },
     "execution_count": 26,
     "metadata": {},
     "output_type": "execute_result"
    },
    {
     "data": {
      "text/plain": [
       "it: 23, loss: 0.018206, lr: 0.005000, spd: 49.14 it/s, avgSpd: 43.62 it/s, left: 0 h 0.4 min\t\n"
      ]
     },
     "execution_count": 26,
     "metadata": {},
     "output_type": "execute_result"
    },
    {
     "data": {
      "text/plain": [
       "it: 24, loss: 0.018558, lr: 0.005000, spd: 49.31 it/s, avgSpd: 44.19 it/s, left: 0 h 0.4 min\t\n"
      ]
     },
     "execution_count": 26,
     "metadata": {},
     "output_type": "execute_result"
    },
    {
     "data": {
      "text/plain": [
       "it: 25, loss: 0.017402, lr: 0.005000, spd: 49.25 it/s, avgSpd: 44.70 it/s, left: 0 h 0.4 min\t\n"
      ]
     },
     "execution_count": 26,
     "metadata": {},
     "output_type": "execute_result"
    },
    {
     "data": {
      "text/plain": [
       "it: 26, loss: 0.015648, lr: 0.005000, spd: 49.08 it/s, avgSpd: 45.13 it/s, left: 0 h 0.4 min\t\n"
      ]
     },
     "execution_count": 26,
     "metadata": {},
     "output_type": "execute_result"
    },
    {
     "data": {
      "text/plain": [
       "it: 27, loss: 0.014815, lr: 0.005000, spd: 48.48 it/s, avgSpd: 45.47 it/s, left: 0 h 0.4 min\t\n"
      ]
     },
     "execution_count": 26,
     "metadata": {},
     "output_type": "execute_result"
    },
    {
     "data": {
      "text/plain": [
       "it: 28, loss: 0.015347, lr: 0.005000, spd: 48.89 it/s, avgSpd: 45.81 it/s, left: 0 h 0.4 min\t\n"
      ]
     },
     "execution_count": 26,
     "metadata": {},
     "output_type": "execute_result"
    },
    {
     "data": {
      "text/plain": [
       "it: 29, loss: 0.015676, lr: 0.005000, spd: 48.73 it/s, avgSpd: 46.10 it/s, left: 0 h 0.4 min\t\n"
      ]
     },
     "execution_count": 26,
     "metadata": {},
     "output_type": "execute_result"
    },
    {
     "data": {
      "text/plain": [
       "it: 30, loss: 0.014533, lr: 0.005000, spd: 49.10 it/s, avgSpd: 46.40 it/s, left: 0 h 0.3 min\t\n"
      ]
     },
     "execution_count": 26,
     "metadata": {},
     "output_type": "execute_result"
    },
    {
     "data": {
      "text/plain": [
       "it: 31, loss: 0.013302, lr: 0.005000, spd: 48.97 it/s, avgSpd: 46.66 it/s, left: 0 h 0.3 min\t\n"
      ]
     },
     "execution_count": 26,
     "metadata": {},
     "output_type": "execute_result"
    },
    {
     "data": {
      "text/plain": [
       "it: 32, loss: 0.013164, lr: 0.005000, spd: 49.07 it/s, avgSpd: 46.90 it/s, left: 0 h 0.3 min\t\n"
      ]
     },
     "execution_count": 26,
     "metadata": {},
     "output_type": "execute_result"
    },
    {
     "data": {
      "text/plain": [
       "it: 33, loss: 0.013307, lr: 0.005000, spd: 49.74 it/s, avgSpd: 47.18 it/s, left: 0 h 0.3 min\t\n"
      ]
     },
     "execution_count": 26,
     "metadata": {},
     "output_type": "execute_result"
    },
    {
     "data": {
      "text/plain": [
       "it: 34, loss: 0.012632, lr: 0.005000, spd: 49.14 it/s, avgSpd: 47.38 it/s, left: 0 h 0.3 min\t\n"
      ]
     },
     "execution_count": 26,
     "metadata": {},
     "output_type": "execute_result"
    },
    {
     "data": {
      "text/plain": [
       "it: 35, loss: 0.011556, lr: 0.005000, spd: 49.17 it/s, avgSpd: 47.56 it/s, left: 0 h 0.3 min\t\n"
      ]
     },
     "execution_count": 26,
     "metadata": {},
     "output_type": "execute_result"
    },
    {
     "data": {
      "text/plain": [
       "it: 36, loss: 0.011629, lr: 0.005000, spd: 49.11 it/s, avgSpd: 47.71 it/s, left: 0 h 0.3 min\t\n"
      ]
     },
     "execution_count": 26,
     "metadata": {},
     "output_type": "execute_result"
    },
    {
     "data": {
      "text/plain": [
       "it: 37, loss: 0.011841, lr: 0.005000, spd: 48.82 it/s, avgSpd: 47.82 it/s, left: 0 h 0.3 min\t\n"
      ]
     },
     "execution_count": 26,
     "metadata": {},
     "output_type": "execute_result"
    },
    {
     "data": {
      "text/plain": [
       "it: 38, loss: 0.010924, lr: 0.005000, spd: 49.30 it/s, avgSpd: 47.97 it/s, left: 0 h 0.3 min\t\n"
      ]
     },
     "execution_count": 26,
     "metadata": {},
     "output_type": "execute_result"
    },
    {
     "data": {
      "text/plain": [
       "it: 39, loss: 0.010803, lr: 0.005000, spd: 49.32 it/s, avgSpd: 48.11 it/s, left: 0 h 0.3 min\t\n"
      ]
     },
     "execution_count": 26,
     "metadata": {},
     "output_type": "execute_result"
    },
    {
     "data": {
      "text/plain": [
       "it: 40, loss: 0.011122, lr: 0.005000, spd: 49.19 it/s, avgSpd: 48.21 it/s, left: 0 h 0.3 min\t\n"
      ]
     },
     "execution_count": 26,
     "metadata": {},
     "output_type": "execute_result"
    },
    {
     "data": {
      "text/plain": [
       "it: 41, loss: 0.010638, lr: 0.005000, spd: 49.19 it/s, avgSpd: 48.31 it/s, left: 0 h 0.3 min\t\n"
      ]
     },
     "execution_count": 26,
     "metadata": {},
     "output_type": "execute_result"
    },
    {
     "data": {
      "text/plain": [
       "it: 42, loss: 0.010315, lr: 0.005000, spd: 49.17 it/s, avgSpd: 48.40 it/s, left: 0 h 0.3 min\t\n"
      ]
     },
     "execution_count": 26,
     "metadata": {},
     "output_type": "execute_result"
    },
    {
     "data": {
      "text/plain": [
       "it: 43, loss: 0.010700, lr: 0.005000, spd: 49.08 it/s, avgSpd: 48.47 it/s, left: 0 h 0.3 min\t\n"
      ]
     },
     "execution_count": 26,
     "metadata": {},
     "output_type": "execute_result"
    },
    {
     "data": {
      "text/plain": [
       "it: 44, loss: 0.010270, lr: 0.005000, spd: 49.37 it/s, avgSpd: 48.56 it/s, left: 0 h 0.3 min\t\n"
      ]
     },
     "execution_count": 26,
     "metadata": {},
     "output_type": "execute_result"
    },
    {
     "data": {
      "text/plain": [
       "it: 45, loss: 0.010095, lr: 0.005000, spd: 49.14 it/s, avgSpd: 48.62 it/s, left: 0 h 0.3 min\t\n"
      ]
     },
     "execution_count": 26,
     "metadata": {},
     "output_type": "execute_result"
    },
    {
     "data": {
      "text/plain": [
       "it: 46, loss: 0.010315, lr: 0.005000, spd: 49.26 it/s, avgSpd: 48.68 it/s, left: 0 h 0.3 min\t\n"
      ]
     },
     "execution_count": 26,
     "metadata": {},
     "output_type": "execute_result"
    },
    {
     "data": {
      "text/plain": [
       "it: 47, loss: 0.009946, lr: 0.005000, spd: 49.12 it/s, avgSpd: 48.72 it/s, left: 0 h 0.3 min\t\n"
      ]
     },
     "execution_count": 26,
     "metadata": {},
     "output_type": "execute_result"
    },
    {
     "data": {
      "text/plain": [
       "it: 48, loss: 0.009822, lr: 0.005000, spd: 49.09 it/s, avgSpd: 48.76 it/s, left: 0 h 0.3 min\t\n"
      ]
     },
     "execution_count": 26,
     "metadata": {},
     "output_type": "execute_result"
    },
    {
     "data": {
      "text/plain": [
       "it: 49, loss: 0.009958, lr: 0.005000, spd: 48.87 it/s, avgSpd: 48.77 it/s, left: 0 h 0.3 min\t\n"
      ]
     },
     "execution_count": 26,
     "metadata": {},
     "output_type": "execute_result"
    },
    {
     "data": {
      "text/plain": [
       "it: 50, loss: 0.009588, lr: 0.005000, spd: 49.41 it/s, avgSpd: 48.83 it/s, left: 0 h 0.3 min\t\n"
      ]
     },
     "execution_count": 26,
     "metadata": {},
     "output_type": "execute_result"
    },
    {
     "data": {
      "text/plain": [
       "it: 51, loss: 0.009638, lr: 0.005000, spd: 49.41 it/s, avgSpd: 48.89 it/s, left: 0 h 0.3 min\t\n"
      ]
     },
     "execution_count": 26,
     "metadata": {},
     "output_type": "execute_result"
    },
    {
     "data": {
      "text/plain": [
       "it: 52, loss: 0.009610, lr: 0.005000, spd: 49.15 it/s, avgSpd: 48.92 it/s, left: 0 h 0.3 min\t\n"
      ]
     },
     "execution_count": 26,
     "metadata": {},
     "output_type": "execute_result"
    },
    {
     "data": {
      "text/plain": [
       "it: 53, loss: 0.009353, lr: 0.005000, spd: 49.40 it/s, avgSpd: 48.97 it/s, left: 0 h 0.3 min\t\n"
      ]
     },
     "execution_count": 26,
     "metadata": {},
     "output_type": "execute_result"
    },
    {
     "data": {
      "text/plain": [
       "it: 54, loss: 0.009456, lr: 0.005000, spd: 48.51 it/s, avgSpd: 48.92 it/s, left: 0 h 0.3 min\t\n"
      ]
     },
     "execution_count": 26,
     "metadata": {},
     "output_type": "execute_result"
    },
    {
     "data": {
      "text/plain": [
       "it: 55, loss: 0.009297, lr: 0.005000, spd: 49.51 it/s, avgSpd: 48.98 it/s, left: 0 h 0.3 min\t\n"
      ]
     },
     "execution_count": 26,
     "metadata": {},
     "output_type": "execute_result"
    },
    {
     "data": {
      "text/plain": [
       "it: 56, loss: 0.009198, lr: 0.005000, spd: 49.08 it/s, avgSpd: 48.99 it/s, left: 0 h 0.3 min\t\n"
      ]
     },
     "execution_count": 26,
     "metadata": {},
     "output_type": "execute_result"
    },
    {
     "data": {
      "text/plain": [
       "it: 57, loss: 0.009241, lr: 0.005000, spd: 49.37 it/s, avgSpd: 49.03 it/s, left: 0 h 0.3 min\t\n"
      ]
     },
     "execution_count": 26,
     "metadata": {},
     "output_type": "execute_result"
    },
    {
     "data": {
      "text/plain": [
       "it: 58, loss: 0.009055, lr: 0.005000, spd: 48.24 it/s, avgSpd: 48.95 it/s, left: 0 h 0.3 min\t\n"
      ]
     },
     "execution_count": 26,
     "metadata": {},
     "output_type": "execute_result"
    },
    {
     "data": {
      "text/plain": [
       "it: 59, loss: 0.009061, lr: 0.005000, spd: 48.76 it/s, avgSpd: 48.93 it/s, left: 0 h 0.3 min\t\n"
      ]
     },
     "execution_count": 26,
     "metadata": {},
     "output_type": "execute_result"
    },
    {
     "data": {
      "text/plain": [
       "it: 60, loss: 0.008994, lr: 0.005000, spd: 49.31 it/s, avgSpd: 48.97 it/s, left: 0 h 0.3 min\t\n"
      ]
     },
     "execution_count": 26,
     "metadata": {},
     "output_type": "execute_result"
    },
    {
     "data": {
      "text/plain": [
       "it: 61, loss: 0.008880, lr: 0.005000, spd: 48.86 it/s, avgSpd: 48.96 it/s, left: 0 h 0.3 min\t\n"
      ]
     },
     "execution_count": 26,
     "metadata": {},
     "output_type": "execute_result"
    },
    {
     "data": {
      "text/plain": [
       "it: 62, loss: 0.008900, lr: 0.005000, spd: 48.94 it/s, avgSpd: 48.96 it/s, left: 0 h 0.3 min\t\n"
      ]
     },
     "execution_count": 26,
     "metadata": {},
     "output_type": "execute_result"
    },
    {
     "data": {
      "text/plain": [
       "it: 63, loss: 0.008769, lr: 0.005000, spd: 48.98 it/s, avgSpd: 48.96 it/s, left: 0 h 0.3 min\t\n"
      ]
     },
     "execution_count": 26,
     "metadata": {},
     "output_type": "execute_result"
    },
    {
     "data": {
      "text/plain": [
       "it: 64, loss: 0.008754, lr: 0.005000, spd: 45.97 it/s, avgSpd: 48.66 it/s, left: 0 h 0.3 min\t\n"
      ]
     },
     "execution_count": 26,
     "metadata": {},
     "output_type": "execute_result"
    },
    {
     "data": {
      "text/plain": [
       "it: 65, loss: 0.008698, lr: 0.005000, spd: 51.43 it/s, avgSpd: 48.94 it/s, left: 0 h 0.3 min\t\n"
      ]
     },
     "execution_count": 26,
     "metadata": {},
     "output_type": "execute_result"
    },
    {
     "data": {
      "text/plain": [
       "it: 66, loss: 0.008621, lr: 0.005000, spd: 49.95 it/s, avgSpd: 49.04 it/s, left: 0 h 0.3 min\t\n"
      ]
     },
     "execution_count": 26,
     "metadata": {},
     "output_type": "execute_result"
    },
    {
     "data": {
      "text/plain": [
       "it: 67, loss: 0.008620, lr: 0.005000, spd: 49.18 it/s, avgSpd: 49.05 it/s, left: 0 h 0.3 min\t\n"
      ]
     },
     "execution_count": 26,
     "metadata": {},
     "output_type": "execute_result"
    },
    {
     "data": {
      "text/plain": [
       "it: 68, loss: 0.008526, lr: 0.005000, spd: 49.29 it/s, avgSpd: 49.08 it/s, left: 0 h 0.3 min\t\n"
      ]
     },
     "execution_count": 26,
     "metadata": {},
     "output_type": "execute_result"
    },
    {
     "data": {
      "text/plain": [
       "it: 69, loss: 0.008523, lr: 0.005000, spd: 49.23 it/s, avgSpd: 49.09 it/s, left: 0 h 0.3 min\t\n"
      ]
     },
     "execution_count": 26,
     "metadata": {},
     "output_type": "execute_result"
    },
    {
     "data": {
      "text/plain": [
       "it: 70, loss: 0.008457, lr: 0.005000, spd: 49.13 it/s, avgSpd: 49.10 it/s, left: 0 h 0.3 min\t\n"
      ]
     },
     "execution_count": 26,
     "metadata": {},
     "output_type": "execute_result"
    },
    {
     "data": {
      "text/plain": [
       "it: 71, loss: 0.008425, lr: 0.005000, spd: 49.32 it/s, avgSpd: 49.12 it/s, left: 0 h 0.3 min\t\n"
      ]
     },
     "execution_count": 26,
     "metadata": {},
     "output_type": "execute_result"
    },
    {
     "data": {
      "text/plain": [
       "it: 72, loss: 0.008395, lr: 0.005000, spd: 49.19 it/s, avgSpd: 49.13 it/s, left: 0 h 0.3 min\t\n"
      ]
     },
     "execution_count": 26,
     "metadata": {},
     "output_type": "execute_result"
    },
    {
     "data": {
      "text/plain": [
       "it: 73, loss: 0.008337, lr: 0.005000, spd: 49.27 it/s, avgSpd: 49.14 it/s, left: 0 h 0.3 min\t\n"
      ]
     },
     "execution_count": 26,
     "metadata": {},
     "output_type": "execute_result"
    },
    {
     "data": {
      "text/plain": [
       "it: 74, loss: 0.008326, lr: 0.005000, spd: 49.21 it/s, avgSpd: 49.15 it/s, left: 0 h 0.3 min\t\n"
      ]
     },
     "execution_count": 26,
     "metadata": {},
     "output_type": "execute_result"
    },
    {
     "data": {
      "text/plain": [
       "it: 75, loss: 0.008265, lr: 0.005000, spd: 49.34 it/s, avgSpd: 49.17 it/s, left: 0 h 0.3 min\t\n"
      ]
     },
     "execution_count": 26,
     "metadata": {},
     "output_type": "execute_result"
    },
    {
     "data": {
      "text/plain": [
       "it: 76, loss: 0.008253, lr: 0.005000, spd: 49.05 it/s, avgSpd: 49.15 it/s, left: 0 h 0.3 min\t\n"
      ]
     },
     "execution_count": 26,
     "metadata": {},
     "output_type": "execute_result"
    },
    {
     "data": {
      "text/plain": [
       "it: 77, loss: 0.008202, lr: 0.005000, spd: 49.34 it/s, avgSpd: 49.17 it/s, left: 0 h 0.3 min\t\n"
      ]
     },
     "execution_count": 26,
     "metadata": {},
     "output_type": "execute_result"
    },
    {
     "data": {
      "text/plain": [
       "it: 78, loss: 0.008183, lr: 0.005000, spd: 49.28 it/s, avgSpd: 49.18 it/s, left: 0 h 0.3 min\t\n"
      ]
     },
     "execution_count": 26,
     "metadata": {},
     "output_type": "execute_result"
    },
    {
     "data": {
      "text/plain": [
       "it: 79, loss: 0.008144, lr: 0.005000, spd: 49.29 it/s, avgSpd: 49.19 it/s, left: 0 h 0.3 min\t\n"
      ]
     },
     "execution_count": 26,
     "metadata": {},
     "output_type": "execute_result"
    },
    {
     "data": {
      "text/plain": [
       "it: 80, loss: 0.008116, lr: 0.005000, spd: 49.21 it/s, avgSpd: 49.20 it/s, left: 0 h 0.3 min\t\n"
      ]
     },
     "execution_count": 26,
     "metadata": {},
     "output_type": "execute_result"
    },
    {
     "data": {
      "text/plain": [
       "it: 81, loss: 0.008087, lr: 0.005000, spd: 49.22 it/s, avgSpd: 49.20 it/s, left: 0 h 0.3 min\t\n"
      ]
     },
     "execution_count": 26,
     "metadata": {},
     "output_type": "execute_result"
    },
    {
     "data": {
      "text/plain": [
       "it: 82, loss: 0.008053, lr: 0.005000, spd: 49.11 it/s, avgSpd: 49.19 it/s, left: 0 h 0.3 min\t\n"
      ]
     },
     "execution_count": 26,
     "metadata": {},
     "output_type": "execute_result"
    },
    {
     "data": {
      "text/plain": [
       "it: 83, loss: 0.008030, lr: 0.005000, spd: 49.40 it/s, avgSpd: 49.21 it/s, left: 0 h 0.3 min\t\n"
      ]
     },
     "execution_count": 26,
     "metadata": {},
     "output_type": "execute_result"
    },
    {
     "data": {
      "text/plain": [
       "it: 84, loss: 0.007995, lr: 0.005000, spd: 49.20 it/s, avgSpd: 49.21 it/s, left: 0 h 0.3 min\t\n"
      ]
     },
     "execution_count": 26,
     "metadata": {},
     "output_type": "execute_result"
    },
    {
     "data": {
      "text/plain": [
       "it: 85, loss: 0.007974, lr: 0.005000, spd: 49.31 it/s, avgSpd: 49.22 it/s, left: 0 h 0.3 min\t\n"
      ]
     },
     "execution_count": 26,
     "metadata": {},
     "output_type": "execute_result"
    },
    {
     "data": {
      "text/plain": [
       "it: 86, loss: 0.007939, lr: 0.005000, spd: 49.39 it/s, avgSpd: 49.24 it/s, left: 0 h 0.3 min\t\n"
      ]
     },
     "execution_count": 26,
     "metadata": {},
     "output_type": "execute_result"
    },
    {
     "data": {
      "text/plain": [
       "it: 87, loss: 0.007918, lr: 0.005000, spd: 49.38 it/s, avgSpd: 49.25 it/s, left: 0 h 0.3 min\t\n"
      ]
     },
     "execution_count": 26,
     "metadata": {},
     "output_type": "execute_result"
    },
    {
     "data": {
      "text/plain": [
       "it: 88, loss: 0.007885, lr: 0.005000, spd: 49.16 it/s, avgSpd: 49.24 it/s, left: 0 h 0.3 min\t\n"
      ]
     },
     "execution_count": 26,
     "metadata": {},
     "output_type": "execute_result"
    },
    {
     "data": {
      "text/plain": [
       "it: 89, loss: 0.007864, lr: 0.005000, spd: 49.13 it/s, avgSpd: 49.23 it/s, left: 0 h 0.3 min\t\n"
      ]
     },
     "execution_count": 26,
     "metadata": {},
     "output_type": "execute_result"
    },
    {
     "data": {
      "text/plain": [
       "it: 90, loss: 0.007832, lr: 0.005000, spd: 49.36 it/s, avgSpd: 49.24 it/s, left: 0 h 0.3 min\t\n"
      ]
     },
     "execution_count": 26,
     "metadata": {},
     "output_type": "execute_result"
    },
    {
     "data": {
      "text/plain": [
       "it: 91, loss: 0.007810, lr: 0.005000, spd: 49.13 it/s, avgSpd: 49.23 it/s, left: 0 h 0.3 min\t\n"
      ]
     },
     "execution_count": 26,
     "metadata": {},
     "output_type": "execute_result"
    },
    {
     "data": {
      "text/plain": [
       "it: 92, loss: 0.007780, lr: 0.005000, spd: 49.19 it/s, avgSpd: 49.23 it/s, left: 0 h 0.3 min\t\n"
      ]
     },
     "execution_count": 26,
     "metadata": {},
     "output_type": "execute_result"
    },
    {
     "data": {
      "text/plain": [
       "it: 93, loss: 0.007757, lr: 0.005000, spd: 49.11 it/s, avgSpd: 49.22 it/s, left: 0 h 0.3 min\t\n"
      ]
     },
     "execution_count": 26,
     "metadata": {},
     "output_type": "execute_result"
    },
    {
     "data": {
      "text/plain": [
       "it: 94, loss: 0.007729, lr: 0.005000, spd: 49.03 it/s, avgSpd: 49.20 it/s, left: 0 h 0.3 min\t\n"
      ]
     },
     "execution_count": 26,
     "metadata": {},
     "output_type": "execute_result"
    },
    {
     "data": {
      "text/plain": [
       "it: 95, loss: 0.007705, lr: 0.005000, spd: 48.80 it/s, avgSpd: 49.16 it/s, left: 0 h 0.3 min\t\n"
      ]
     },
     "execution_count": 26,
     "metadata": {},
     "output_type": "execute_result"
    },
    {
     "data": {
      "text/plain": [
       "it: 96, loss: 0.007679, lr: 0.005000, spd: 48.85 it/s, avgSpd: 49.13 it/s, left: 0 h 0.3 min\t\n"
      ]
     },
     "execution_count": 26,
     "metadata": {},
     "output_type": "execute_result"
    },
    {
     "data": {
      "text/plain": [
       "it: 97, loss: 0.007653, lr: 0.005000, spd: 49.18 it/s, avgSpd: 49.13 it/s, left: 0 h 0.3 min\t\n"
      ]
     },
     "execution_count": 26,
     "metadata": {},
     "output_type": "execute_result"
    },
    {
     "data": {
      "text/plain": [
       "it: 98, loss: 0.007629, lr: 0.005000, spd: 49.09 it/s, avgSpd: 49.13 it/s, left: 0 h 0.3 min\t\n"
      ]
     },
     "execution_count": 26,
     "metadata": {},
     "output_type": "execute_result"
    },
    {
     "data": {
      "text/plain": [
       "it: 99, loss: 0.007601, lr: 0.005000, spd: 49.28 it/s, avgSpd: 49.14 it/s, left: 0 h 0.3 min\t\n"
      ]
     },
     "execution_count": 26,
     "metadata": {},
     "output_type": "execute_result"
    },
    {
     "data": {
      "text/plain": [
       "it: 100, loss: 0.007578, lr: 0.005000, spd: 49.10 it/s, avgSpd: 49.14 it/s, left: 0 h 0.3 min\t\n"
      ]
     },
     "execution_count": 26,
     "metadata": {},
     "output_type": "execute_result"
    },
    {
     "data": {
      "text/plain": [
       "it: 101, loss: 0.007550, lr: 0.005000, spd: 48.81 it/s, avgSpd: 49.11 it/s, left: 0 h 0.3 min\t\n"
      ]
     },
     "execution_count": 26,
     "metadata": {},
     "output_type": "execute_result"
    },
    {
     "data": {
      "text/plain": [
       "it: 102, loss: 0.007527, lr: 0.005000, spd: 48.91 it/s, avgSpd: 49.09 it/s, left: 0 h 0.3 min\t\n"
      ]
     },
     "execution_count": 26,
     "metadata": {},
     "output_type": "execute_result"
    },
    {
     "data": {
      "text/plain": [
       "it: 103, loss: 0.007501, lr: 0.005000, spd: 49.18 it/s, avgSpd: 49.10 it/s, left: 0 h 0.3 min\t\n"
      ]
     },
     "execution_count": 26,
     "metadata": {},
     "output_type": "execute_result"
    },
    {
     "data": {
      "text/plain": [
       "it: 104, loss: 0.007475, lr: 0.005000, spd: 49.09 it/s, avgSpd: 49.10 it/s, left: 0 h 0.3 min\t\n"
      ]
     },
     "execution_count": 26,
     "metadata": {},
     "output_type": "execute_result"
    },
    {
     "data": {
      "text/plain": [
       "it: 105, loss: 0.007451, lr: 0.005000, spd: 49.04 it/s, avgSpd: 49.09 it/s, left: 0 h 0.3 min\t\n"
      ]
     },
     "execution_count": 26,
     "metadata": {},
     "output_type": "execute_result"
    },
    {
     "data": {
      "text/plain": [
       "it: 106, loss: 0.007424, lr: 0.005000, spd: 49.05 it/s, avgSpd: 49.09 it/s, left: 0 h 0.3 min\t\n"
      ]
     },
     "execution_count": 26,
     "metadata": {},
     "output_type": "execute_result"
    },
    {
     "data": {
      "text/plain": [
       "it: 107, loss: 0.007400, lr: 0.005000, spd: 49.13 it/s, avgSpd: 49.09 it/s, left: 0 h 0.3 min\t\n"
      ]
     },
     "execution_count": 26,
     "metadata": {},
     "output_type": "execute_result"
    },
    {
     "data": {
      "text/plain": [
       "it: 108, loss: 0.007376, lr: 0.005000, spd: 49.11 it/s, avgSpd: 49.09 it/s, left: 0 h 0.3 min\t\n"
      ]
     },
     "execution_count": 26,
     "metadata": {},
     "output_type": "execute_result"
    },
    {
     "data": {
      "text/plain": [
       "it: 109, loss: 0.007349, lr: 0.005000, spd: 49.18 it/s, avgSpd: 49.10 it/s, left: 0 h 0.3 min\t\n"
      ]
     },
     "execution_count": 26,
     "metadata": {},
     "output_type": "execute_result"
    },
    {
     "data": {
      "text/plain": [
       "it: 110, loss: 0.007325, lr: 0.005000, spd: 49.09 it/s, avgSpd: 49.10 it/s, left: 0 h 0.3 min\t\n"
      ]
     },
     "execution_count": 26,
     "metadata": {},
     "output_type": "execute_result"
    },
    {
     "data": {
      "text/plain": [
       "it: 111, loss: 0.007300, lr: 0.005000, spd: 49.18 it/s, avgSpd: 49.11 it/s, left: 0 h 0.3 min\t\n"
      ]
     },
     "execution_count": 26,
     "metadata": {},
     "output_type": "execute_result"
    },
    {
     "data": {
      "text/plain": [
       "it: 112, loss: 0.007275, lr: 0.005000, spd: 49.02 it/s, avgSpd: 49.10 it/s, left: 0 h 0.3 min\t\n"
      ]
     },
     "execution_count": 26,
     "metadata": {},
     "output_type": "execute_result"
    },
    {
     "data": {
      "text/plain": [
       "it: 113, loss: 0.007251, lr: 0.005000, spd: 49.05 it/s, avgSpd: 49.09 it/s, left: 0 h 0.3 min\t\n"
      ]
     },
     "execution_count": 26,
     "metadata": {},
     "output_type": "execute_result"
    },
    {
     "data": {
      "text/plain": [
       "it: 114, loss: 0.007227, lr: 0.005000, spd: 49.21 it/s, avgSpd: 49.11 it/s, left: 0 h 0.3 min\t\n"
      ]
     },
     "execution_count": 26,
     "metadata": {},
     "output_type": "execute_result"
    },
    {
     "data": {
      "text/plain": [
       "it: 115, loss: 0.007202, lr: 0.005000, spd: 48.73 it/s, avgSpd: 49.07 it/s, left: 0 h 0.3 min\t\n"
      ]
     },
     "execution_count": 26,
     "metadata": {},
     "output_type": "execute_result"
    },
    {
     "data": {
      "text/plain": [
       "it: 116, loss: 0.007178, lr: 0.005000, spd: 49.26 it/s, avgSpd: 49.09 it/s, left: 0 h 0.3 min\t\n"
      ]
     },
     "execution_count": 26,
     "metadata": {},
     "output_type": "execute_result"
    },
    {
     "data": {
      "text/plain": [
       "it: 117, loss: 0.007154, lr: 0.005000, spd: 48.40 it/s, avgSpd: 49.02 it/s, left: 0 h 0.3 min\t\n"
      ]
     },
     "execution_count": 26,
     "metadata": {},
     "output_type": "execute_result"
    },
    {
     "data": {
      "text/plain": [
       "it: 118, loss: 0.007130, lr: 0.005000, spd: 48.64 it/s, avgSpd: 48.98 it/s, left: 0 h 0.3 min\t\n"
      ]
     },
     "execution_count": 26,
     "metadata": {},
     "output_type": "execute_result"
    },
    {
     "data": {
      "text/plain": [
       "it: 119, loss: 0.007105, lr: 0.005000, spd: 48.85 it/s, avgSpd: 48.97 it/s, left: 0 h 0.3 min\t\n"
      ]
     },
     "execution_count": 26,
     "metadata": {},
     "output_type": "execute_result"
    },
    {
     "data": {
      "text/plain": [
       "it: 120, loss: 0.007079, lr: 0.005000, spd: 48.75 it/s, avgSpd: 48.95 it/s, left: 0 h 0.3 min\t\n"
      ]
     },
     "execution_count": 26,
     "metadata": {},
     "output_type": "execute_result"
    },
    {
     "data": {
      "text/plain": [
       "it: 121, loss: 0.007054, lr: 0.005000, spd: 48.74 it/s, avgSpd: 48.92 it/s, left: 0 h 0.3 min\t\n"
      ]
     },
     "execution_count": 26,
     "metadata": {},
     "output_type": "execute_result"
    },
    {
     "data": {
      "text/plain": [
       "it: 122, loss: 0.007031, lr: 0.005000, spd: 48.99 it/s, avgSpd: 48.93 it/s, left: 0 h 0.3 min\t\n"
      ]
     },
     "execution_count": 26,
     "metadata": {},
     "output_type": "execute_result"
    },
    {
     "data": {
      "text/plain": [
       "it: 123, loss: 0.007007, lr: 0.005000, spd: 49.33 it/s, avgSpd: 48.97 it/s, left: 0 h 0.3 min\t\n"
      ]
     },
     "execution_count": 26,
     "metadata": {},
     "output_type": "execute_result"
    },
    {
     "data": {
      "text/plain": [
       "it: 124, loss: 0.006985, lr: 0.005000, spd: 49.00 it/s, avgSpd: 48.97 it/s, left: 0 h 0.3 min\t\n"
      ]
     },
     "execution_count": 26,
     "metadata": {},
     "output_type": "execute_result"
    },
    {
     "data": {
      "text/plain": [
       "it: 125, loss: 0.006968, lr: 0.005000, spd: 49.01 it/s, avgSpd: 48.98 it/s, left: 0 h 0.3 min\t\n"
      ]
     },
     "execution_count": 26,
     "metadata": {},
     "output_type": "execute_result"
    },
    {
     "data": {
      "text/plain": [
       "it: 126, loss: 0.006969, lr: 0.005000, spd: 49.02 it/s, avgSpd: 48.98 it/s, left: 0 h 0.3 min\t\n"
      ]
     },
     "execution_count": 26,
     "metadata": {},
     "output_type": "execute_result"
    },
    {
     "data": {
      "text/plain": [
       "it: 127, loss: 0.006984, lr: 0.005000, spd: 49.20 it/s, avgSpd: 49.00 it/s, left: 0 h 0.3 min\t\n"
      ]
     },
     "execution_count": 26,
     "metadata": {},
     "output_type": "execute_result"
    },
    {
     "data": {
      "text/plain": [
       "it: 128, loss: 0.006985, lr: 0.005000, spd: 49.08 it/s, avgSpd: 49.01 it/s, left: 0 h 0.3 min\t\n"
      ]
     },
     "execution_count": 26,
     "metadata": {},
     "output_type": "execute_result"
    },
    {
     "data": {
      "text/plain": [
       "it: 129, loss: 0.006964, lr: 0.005000, spd: 49.10 it/s, avgSpd: 49.02 it/s, left: 0 h 0.3 min\t\n"
      ]
     },
     "execution_count": 26,
     "metadata": {},
     "output_type": "execute_result"
    },
    {
     "data": {
      "text/plain": [
       "it: 130, loss: 0.006901, lr: 0.005000, spd: 49.00 it/s, avgSpd: 49.02 it/s, left: 0 h 0.3 min\t\n"
      ]
     },
     "execution_count": 26,
     "metadata": {},
     "output_type": "execute_result"
    },
    {
     "data": {
      "text/plain": [
       "it: 131, loss: 0.006838, lr: 0.005000, spd: 49.17 it/s, avgSpd: 49.03 it/s, left: 0 h 0.3 min\t\n"
      ]
     },
     "execution_count": 26,
     "metadata": {},
     "output_type": "execute_result"
    },
    {
     "data": {
      "text/plain": [
       "it: 132, loss: 0.006791, lr: 0.005000, spd: 49.09 it/s, avgSpd: 49.04 it/s, left: 0 h 0.3 min\t\n"
      ]
     },
     "execution_count": 26,
     "metadata": {},
     "output_type": "execute_result"
    },
    {
     "data": {
      "text/plain": [
       "it: 133, loss: 0.006766, lr: 0.005000, spd: 49.24 it/s, avgSpd: 49.06 it/s, left: 0 h 0.3 min\t\n"
      ]
     },
     "execution_count": 26,
     "metadata": {},
     "output_type": "execute_result"
    },
    {
     "data": {
      "text/plain": [
       "it: 134, loss: 0.006757, lr: 0.005000, spd: 48.95 it/s, avgSpd: 49.05 it/s, left: 0 h 0.3 min\t\n"
      ]
     },
     "execution_count": 26,
     "metadata": {},
     "output_type": "execute_result"
    },
    {
     "data": {
      "text/plain": [
       "it: 135, loss: 0.006758, lr: 0.005000, spd: 48.71 it/s, avgSpd: 49.01 it/s, left: 0 h 0.3 min\t\n"
      ]
     },
     "execution_count": 26,
     "metadata": {},
     "output_type": "execute_result"
    },
    {
     "data": {
      "text/plain": [
       "it: 136, loss: 0.006776, lr: 0.005000, spd: 49.22 it/s, avgSpd: 49.04 it/s, left: 0 h 0.3 min\t\n"
      ]
     },
     "execution_count": 26,
     "metadata": {},
     "output_type": "execute_result"
    },
    {
     "data": {
      "text/plain": [
       "it: 137, loss: 0.006801, lr: 0.005000, spd: 49.04 it/s, avgSpd: 49.04 it/s, left: 0 h 0.3 min\t\n"
      ]
     },
     "execution_count": 26,
     "metadata": {},
     "output_type": "execute_result"
    },
    {
     "data": {
      "text/plain": [
       "it: 138, loss: 0.006862, lr: 0.005000, spd: 49.13 it/s, avgSpd: 49.05 it/s, left: 0 h 0.3 min\t\n"
      ]
     },
     "execution_count": 26,
     "metadata": {},
     "output_type": "execute_result"
    },
    {
     "data": {
      "text/plain": [
       "it: 139, loss: 0.006879, lr: 0.005000, spd: 49.11 it/s, avgSpd: 49.05 it/s, left: 0 h 0.3 min\t\n"
      ]
     },
     "execution_count": 26,
     "metadata": {},
     "output_type": "execute_result"
    },
    {
     "data": {
      "text/plain": [
       "it: 140, loss: 0.006920, lr: 0.005000, spd: 49.06 it/s, avgSpd: 49.05 it/s, left: 0 h 0.3 min\t\n"
      ]
     },
     "execution_count": 26,
     "metadata": {},
     "output_type": "execute_result"
    },
    {
     "data": {
      "text/plain": [
       "it: 141, loss: 0.006821, lr: 0.005000, spd: 49.24 it/s, avgSpd: 49.07 it/s, left: 0 h 0.3 min\t\n"
      ]
     },
     "execution_count": 26,
     "metadata": {},
     "output_type": "execute_result"
    },
    {
     "data": {
      "text/plain": [
       "it: 142, loss: 0.006727, lr: 0.005000, spd: 48.38 it/s, avgSpd: 49.00 it/s, left: 0 h 0.3 min\t\n"
      ]
     },
     "execution_count": 26,
     "metadata": {},
     "output_type": "execute_result"
    },
    {
     "data": {
      "text/plain": [
       "it: 143, loss: 0.006590, lr: 0.005000, spd: 48.60 it/s, avgSpd: 48.96 it/s, left: 0 h 0.3 min\t\n"
      ]
     },
     "execution_count": 26,
     "metadata": {},
     "output_type": "execute_result"
    },
    {
     "data": {
      "text/plain": [
       "it: 144, loss: 0.006516, lr: 0.005000, spd: 49.42 it/s, avgSpd: 49.01 it/s, left: 0 h 0.3 min\t\n"
      ]
     },
     "execution_count": 26,
     "metadata": {},
     "output_type": "execute_result"
    },
    {
     "data": {
      "text/plain": [
       "it: 145, loss: 0.006508, lr: 0.005000, spd: 49.20 it/s, avgSpd: 49.03 it/s, left: 0 h 0.3 min\t\n"
      ]
     },
     "execution_count": 26,
     "metadata": {},
     "output_type": "execute_result"
    },
    {
     "data": {
      "text/plain": [
       "it: 146, loss: 0.006543, lr: 0.005000, spd: 49.09 it/s, avgSpd: 49.03 it/s, left: 0 h 0.3 min\t\n"
      ]
     },
     "execution_count": 26,
     "metadata": {},
     "output_type": "execute_result"
    },
    {
     "data": {
      "text/plain": [
       "it: 147, loss: 0.006610, lr: 0.005000, spd: 48.44 it/s, avgSpd: 48.97 it/s, left: 0 h 0.3 min\t\n"
      ]
     },
     "execution_count": 26,
     "metadata": {},
     "output_type": "execute_result"
    },
    {
     "data": {
      "text/plain": [
       "it: 148, loss: 0.006639, lr: 0.005000, spd: 49.53 it/s, avgSpd: 49.03 it/s, left: 0 h 0.3 min\t\n"
      ]
     },
     "execution_count": 26,
     "metadata": {},
     "output_type": "execute_result"
    },
    {
     "data": {
      "text/plain": [
       "it: 149, loss: 0.006691, lr: 0.005000, spd: 49.15 it/s, avgSpd: 49.04 it/s, left: 0 h 0.3 min\t\n"
      ]
     },
     "execution_count": 26,
     "metadata": {},
     "output_type": "execute_result"
    },
    {
     "data": {
      "text/plain": [
       "it: 150, loss: 0.006607, lr: 0.005000, spd: 48.67 it/s, avgSpd: 49.00 it/s, left: 0 h 0.3 min\t\n"
      ]
     },
     "execution_count": 26,
     "metadata": {},
     "output_type": "execute_result"
    },
    {
     "data": {
      "text/plain": [
       "it: 151, loss: 0.006541, lr: 0.005000, spd: 48.51 it/s, avgSpd: 48.95 it/s, left: 0 h 0.3 min\t\n"
      ]
     },
     "execution_count": 26,
     "metadata": {},
     "output_type": "execute_result"
    },
    {
     "data": {
      "text/plain": [
       "it: 152, loss: 0.006426, lr: 0.005000, spd: 48.65 it/s, avgSpd: 48.92 it/s, left: 0 h 0.3 min\t\n"
      ]
     },
     "execution_count": 26,
     "metadata": {},
     "output_type": "execute_result"
    },
    {
     "data": {
      "text/plain": [
       "it: 153, loss: 0.006352, lr: 0.005000, spd: 48.72 it/s, avgSpd: 48.90 it/s, left: 0 h 0.3 min\t\n"
      ]
     },
     "execution_count": 26,
     "metadata": {},
     "output_type": "execute_result"
    },
    {
     "data": {
      "text/plain": [
       "it: 154, loss: 0.006302, lr: 0.005000, spd: 48.68 it/s, avgSpd: 48.88 it/s, left: 0 h 0.3 min\t\n"
      ]
     },
     "execution_count": 26,
     "metadata": {},
     "output_type": "execute_result"
    },
    {
     "data": {
      "text/plain": [
       "it: 155, loss: 0.006275, lr: 0.005000, spd: 48.76 it/s, avgSpd: 48.87 it/s, left: 0 h 0.3 min\t\n"
      ]
     },
     "execution_count": 26,
     "metadata": {},
     "output_type": "execute_result"
    },
    {
     "data": {
      "text/plain": [
       "it: 156, loss: 0.006268, lr: 0.005000, spd: 48.83 it/s, avgSpd: 48.87 it/s, left: 0 h 0.3 min\t\n"
      ]
     },
     "execution_count": 26,
     "metadata": {},
     "output_type": "execute_result"
    },
    {
     "data": {
      "text/plain": [
       "it: 157, loss: 0.006275, lr: 0.005000, spd: 48.72 it/s, avgSpd: 48.85 it/s, left: 0 h 0.3 min\t\n"
      ]
     },
     "execution_count": 26,
     "metadata": {},
     "output_type": "execute_result"
    },
    {
     "data": {
      "text/plain": [
       "it: 158, loss: 0.006309, lr: 0.005000, spd: 44.54 it/s, avgSpd: 48.42 it/s, left: 0 h 0.3 min\t\n"
      ]
     },
     "execution_count": 26,
     "metadata": {},
     "output_type": "execute_result"
    },
    {
     "data": {
      "text/plain": [
       "it: 159, loss: 0.006363, lr: 0.005000, spd: 48.19 it/s, avgSpd: 48.40 it/s, left: 0 h 0.3 min\t\n"
      ]
     },
     "execution_count": 26,
     "metadata": {},
     "output_type": "execute_result"
    },
    {
     "data": {
      "text/plain": [
       "it: 160, loss: 0.006543, lr: 0.005000, spd: 49.61 it/s, avgSpd: 48.52 it/s, left: 0 h 0.3 min\t\n"
      ]
     },
     "execution_count": 26,
     "metadata": {},
     "output_type": "execute_result"
    },
    {
     "data": {
      "text/plain": [
       "it: 161, loss: 0.006718, lr: 0.005000, spd: 53.42 it/s, avgSpd: 49.01 it/s, left: 0 h 0.3 min\t\n"
      ]
     },
     "execution_count": 26,
     "metadata": {},
     "output_type": "execute_result"
    },
    {
     "data": {
      "text/plain": [
       "it: 162, loss: 0.007257, lr: 0.005000, spd: 49.06 it/s, avgSpd: 49.01 it/s, left: 0 h 0.3 min\t\n"
      ]
     },
     "execution_count": 26,
     "metadata": {},
     "output_type": "execute_result"
    },
    {
     "data": {
      "text/plain": [
       "it: 163, loss: 0.006973, lr: 0.005000, spd: 49.16 it/s, avgSpd: 49.03 it/s, left: 0 h 0.3 min\t\n"
      ]
     },
     "execution_count": 26,
     "metadata": {},
     "output_type": "execute_result"
    },
    {
     "data": {
      "text/plain": [
       "it: 164, loss: 0.006823, lr: 0.005000, spd: 48.98 it/s, avgSpd: 49.02 it/s, left: 0 h 0.3 min\t\n"
      ]
     },
     "execution_count": 26,
     "metadata": {},
     "output_type": "execute_result"
    },
    {
     "data": {
      "text/plain": [
       "it: 165, loss: 0.006182, lr: 0.005000, spd: 49.12 it/s, avgSpd: 49.03 it/s, left: 0 h 0.3 min\t\n"
      ]
     },
     "execution_count": 26,
     "metadata": {},
     "output_type": "execute_result"
    },
    {
     "data": {
      "text/plain": [
       "it: 166, loss: 0.006129, lr: 0.005000, spd: 49.18 it/s, avgSpd: 49.05 it/s, left: 0 h 0.3 min\t\n"
      ]
     },
     "execution_count": 26,
     "metadata": {},
     "output_type": "execute_result"
    },
    {
     "data": {
      "text/plain": [
       "it: 167, loss: 0.006557, lr: 0.005000, spd: 49.17 it/s, avgSpd: 49.06 it/s, left: 0 h 0.3 min\t\n"
      ]
     },
     "execution_count": 26,
     "metadata": {},
     "output_type": "execute_result"
    },
    {
     "data": {
      "text/plain": [
       "it: 168, loss: 0.006633, lr: 0.005000, spd: 49.07 it/s, avgSpd: 49.06 it/s, left: 0 h 0.3 min\t\n"
      ]
     },
     "execution_count": 26,
     "metadata": {},
     "output_type": "execute_result"
    },
    {
     "data": {
      "text/plain": [
       "it: 169, loss: 0.006573, lr: 0.005000, spd: 49.07 it/s, avgSpd: 49.06 it/s, left: 0 h 0.3 min\t\n"
      ]
     },
     "execution_count": 26,
     "metadata": {},
     "output_type": "execute_result"
    },
    {
     "data": {
      "text/plain": [
       "it: 170, loss: 0.006056, lr: 0.005000, spd: 49.16 it/s, avgSpd: 49.07 it/s, left: 0 h 0.3 min\t\n"
      ]
     },
     "execution_count": 26,
     "metadata": {},
     "output_type": "execute_result"
    },
    {
     "data": {
      "text/plain": [
       "it: 171, loss: 0.006119, lr: 0.005000, spd: 49.20 it/s, avgSpd: 49.08 it/s, left: 0 h 0.3 min\t\n"
      ]
     },
     "execution_count": 26,
     "metadata": {},
     "output_type": "execute_result"
    },
    {
     "data": {
      "text/plain": [
       "it: 172, loss: 0.006500, lr: 0.005000, spd: 49.22 it/s, avgSpd: 49.10 it/s, left: 0 h 0.3 min\t\n"
      ]
     },
     "execution_count": 26,
     "metadata": {},
     "output_type": "execute_result"
    },
    {
     "data": {
      "text/plain": [
       "it: 173, loss: 0.006225, lr: 0.005000, spd: 48.95 it/s, avgSpd: 49.08 it/s, left: 0 h 0.3 min\t\n"
      ]
     },
     "execution_count": 26,
     "metadata": {},
     "output_type": "execute_result"
    },
    {
     "data": {
      "text/plain": [
       "it: 174, loss: 0.005949, lr: 0.005000, spd: 48.93 it/s, avgSpd: 49.07 it/s, left: 0 h 0.3 min\t\n"
      ]
     },
     "execution_count": 26,
     "metadata": {},
     "output_type": "execute_result"
    },
    {
     "data": {
      "text/plain": [
       "it: 175, loss: 0.005963, lr: 0.005000, spd: 49.10 it/s, avgSpd: 49.07 it/s, left: 0 h 0.3 min\t\n"
      ]
     },
     "execution_count": 26,
     "metadata": {},
     "output_type": "execute_result"
    },
    {
     "data": {
      "text/plain": [
       "it: 176, loss: 0.006126, lr: 0.005000, spd: 49.21 it/s, avgSpd: 49.08 it/s, left: 0 h 0.3 min\t\n"
      ]
     },
     "execution_count": 26,
     "metadata": {},
     "output_type": "execute_result"
    },
    {
     "data": {
      "text/plain": [
       "it: 177, loss: 0.006167, lr: 0.005000, spd: 49.21 it/s, avgSpd: 49.10 it/s, left: 0 h 0.3 min\t\n"
      ]
     },
     "execution_count": 26,
     "metadata": {},
     "output_type": "execute_result"
    },
    {
     "data": {
      "text/plain": [
       "it: 178, loss: 0.005904, lr: 0.005000, spd: 49.10 it/s, avgSpd: 49.10 it/s, left: 0 h 0.3 min\t\n"
      ]
     },
     "execution_count": 26,
     "metadata": {},
     "output_type": "execute_result"
    },
    {
     "data": {
      "text/plain": [
       "it: 179, loss: 0.005849, lr: 0.005000, spd: 49.11 it/s, avgSpd: 49.10 it/s, left: 0 h 0.3 min\t\n"
      ]
     },
     "execution_count": 26,
     "metadata": {},
     "output_type": "execute_result"
    },
    {
     "data": {
      "text/plain": [
       "it: 180, loss: 0.005999, lr: 0.005000, spd: 49.10 it/s, avgSpd: 49.10 it/s, left: 0 h 0.3 min\t\n"
      ]
     },
     "execution_count": 26,
     "metadata": {},
     "output_type": "execute_result"
    },
    {
     "data": {
      "text/plain": [
       "it: 181, loss: 0.005996, lr: 0.005000, spd: 48.87 it/s, avgSpd: 49.08 it/s, left: 0 h 0.3 min\t\n"
      ]
     },
     "execution_count": 26,
     "metadata": {},
     "output_type": "execute_result"
    },
    {
     "data": {
      "text/plain": [
       "it: 182, loss: 0.005894, lr: 0.005000, spd: 49.24 it/s, avgSpd: 49.09 it/s, left: 0 h 0.3 min\t\n"
      ]
     },
     "execution_count": 26,
     "metadata": {},
     "output_type": "execute_result"
    },
    {
     "data": {
      "text/plain": [
       "it: 183, loss: 0.005757, lr: 0.005000, spd: 48.99 it/s, avgSpd: 49.08 it/s, left: 0 h 0.3 min\t\n"
      ]
     },
     "execution_count": 26,
     "metadata": {},
     "output_type": "execute_result"
    },
    {
     "data": {
      "text/plain": [
       "it: 184, loss: 0.005769, lr: 0.005000, spd: 49.08 it/s, avgSpd: 49.08 it/s, left: 0 h 0.3 min\t\n"
      ]
     },
     "execution_count": 26,
     "metadata": {},
     "output_type": "execute_result"
    },
    {
     "data": {
      "text/plain": [
       "it: 185, loss: 0.005864, lr: 0.005000, spd: 49.10 it/s, avgSpd: 49.08 it/s, left: 0 h 0.3 min\t\n"
      ]
     },
     "execution_count": 26,
     "metadata": {},
     "output_type": "execute_result"
    },
    {
     "data": {
      "text/plain": [
       "it: 186, loss: 0.005844, lr: 0.005000, spd: 49.09 it/s, avgSpd: 49.08 it/s, left: 0 h 0.3 min\t\n"
      ]
     },
     "execution_count": 26,
     "metadata": {},
     "output_type": "execute_result"
    },
    {
     "data": {
      "text/plain": [
       "it: 187, loss: 0.005771, lr: 0.005000, spd: 49.12 it/s, avgSpd: 49.09 it/s, left: 0 h 0.3 min\t\n"
      ]
     },
     "execution_count": 26,
     "metadata": {},
     "output_type": "execute_result"
    },
    {
     "data": {
      "text/plain": [
       "it: 188, loss: 0.005665, lr: 0.005000, spd: 48.97 it/s, avgSpd: 49.08 it/s, left: 0 h 0.3 min\t\n"
      ]
     },
     "execution_count": 26,
     "metadata": {},
     "output_type": "execute_result"
    },
    {
     "data": {
      "text/plain": [
       "it: 189, loss: 0.005638, lr: 0.005000, spd: 49.02 it/s, avgSpd: 49.07 it/s, left: 0 h 0.3 min\t\n"
      ]
     },
     "execution_count": 26,
     "metadata": {},
     "output_type": "execute_result"
    },
    {
     "data": {
      "text/plain": [
       "it: 190, loss: 0.005676, lr: 0.005000, spd: 49.07 it/s, avgSpd: 49.07 it/s, left: 0 h 0.3 min\t\n"
      ]
     },
     "execution_count": 26,
     "metadata": {},
     "output_type": "execute_result"
    },
    {
     "data": {
      "text/plain": [
       "it: 191, loss: 0.005718, lr: 0.005000, spd: 49.00 it/s, avgSpd: 49.06 it/s, left: 0 h 0.3 min\t\n"
      ]
     },
     "execution_count": 26,
     "metadata": {},
     "output_type": "execute_result"
    },
    {
     "data": {
      "text/plain": [
       "it: 192, loss: 0.005756, lr: 0.005000, spd: 49.07 it/s, avgSpd: 49.06 it/s, left: 0 h 0.3 min\t\n"
      ]
     },
     "execution_count": 26,
     "metadata": {},
     "output_type": "execute_result"
    },
    {
     "data": {
      "text/plain": [
       "it: 193, loss: 0.005684, lr: 0.005000, spd: 49.09 it/s, avgSpd: 49.07 it/s, left: 0 h 0.3 min\t\n"
      ]
     },
     "execution_count": 26,
     "metadata": {},
     "output_type": "execute_result"
    },
    {
     "data": {
      "text/plain": [
       "it: 194, loss: 0.005613, lr: 0.005000, spd: 48.99 it/s, avgSpd: 49.06 it/s, left: 0 h 0.3 min\t\n"
      ]
     },
     "execution_count": 26,
     "metadata": {},
     "output_type": "execute_result"
    },
    {
     "data": {
      "text/plain": [
       "it: 195, loss: 0.005533, lr: 0.005000, spd: 49.20 it/s, avgSpd: 49.07 it/s, left: 0 h 0.3 min\t\n"
      ]
     },
     "execution_count": 26,
     "metadata": {},
     "output_type": "execute_result"
    },
    {
     "data": {
      "text/plain": [
       "it: 196, loss: 0.005494, lr: 0.005000, spd: 49.20 it/s, avgSpd: 49.08 it/s, left: 0 h 0.3 min\t\n"
      ]
     },
     "execution_count": 26,
     "metadata": {},
     "output_type": "execute_result"
    },
    {
     "data": {
      "text/plain": [
       "it: 197, loss: 0.005493, lr: 0.005000, spd: 49.02 it/s, avgSpd: 49.08 it/s, left: 0 h 0.3 min\t\n"
      ]
     },
     "execution_count": 26,
     "metadata": {},
     "output_type": "execute_result"
    },
    {
     "data": {
      "text/plain": [
       "it: 198, loss: 0.005515, lr: 0.005000, spd: 49.18 it/s, avgSpd: 49.09 it/s, left: 0 h 0.3 min\t\n"
      ]
     },
     "execution_count": 26,
     "metadata": {},
     "output_type": "execute_result"
    },
    {
     "data": {
      "text/plain": [
       "it: 199, loss: 0.005562, lr: 0.005000, spd: 49.16 it/s, avgSpd: 49.10 it/s, left: 0 h 0.3 min\t\n"
      ]
     },
     "execution_count": 26,
     "metadata": {},
     "output_type": "execute_result"
    },
    {
     "data": {
      "text/plain": [
       "it: 200, loss: 0.005593, lr: 0.005000, spd: 49.11 it/s, avgSpd: 49.10 it/s, left: 0 h 0.3 min\t\n"
      ]
     },
     "execution_count": 26,
     "metadata": {},
     "output_type": "execute_result"
    },
    {
     "data": {
      "text/plain": [
       "it: 201, loss: 0.005691, lr: 0.005000, spd: 48.91 it/s, avgSpd: 49.08 it/s, left: 0 h 0.3 min\t\n"
      ]
     },
     "execution_count": 26,
     "metadata": {},
     "output_type": "execute_result"
    },
    {
     "data": {
      "text/plain": [
       "it: 202, loss: 0.005690, lr: 0.005000, spd: 48.91 it/s, avgSpd: 49.06 it/s, left: 0 h 0.3 min\t\n"
      ]
     },
     "execution_count": 26,
     "metadata": {},
     "output_type": "execute_result"
    },
    {
     "data": {
      "text/plain": [
       "it: 203, loss: 0.005812, lr: 0.005000, spd: 49.21 it/s, avgSpd: 49.08 it/s, left: 0 h 0.3 min\t\n"
      ]
     },
     "execution_count": 26,
     "metadata": {},
     "output_type": "execute_result"
    },
    {
     "data": {
      "text/plain": [
       "it: 204, loss: 0.005709, lr: 0.005000, spd: 48.76 it/s, avgSpd: 49.05 it/s, left: 0 h 0.3 min\t\n"
      ]
     },
     "execution_count": 26,
     "metadata": {},
     "output_type": "execute_result"
    },
    {
     "data": {
      "text/plain": [
       "it: 205, loss: 0.005722, lr: 0.005000, spd: 49.15 it/s, avgSpd: 49.06 it/s, left: 0 h 0.3 min\t\n"
      ]
     },
     "execution_count": 26,
     "metadata": {},
     "output_type": "execute_result"
    },
    {
     "data": {
      "text/plain": [
       "it: 206, loss: 0.005554, lr: 0.005000, spd: 49.17 it/s, avgSpd: 49.07 it/s, left: 0 h 0.3 min\t\n"
      ]
     },
     "execution_count": 26,
     "metadata": {},
     "output_type": "execute_result"
    },
    {
     "data": {
      "text/plain": [
       "it: 207, loss: 0.005471, lr: 0.005000, spd: 48.98 it/s, avgSpd: 49.06 it/s, left: 0 h 0.3 min\t\n"
      ]
     },
     "execution_count": 26,
     "metadata": {},
     "output_type": "execute_result"
    },
    {
     "data": {
      "text/plain": [
       "it: 208, loss: 0.005360, lr: 0.005000, spd: 49.04 it/s, avgSpd: 49.06 it/s, left: 0 h 0.3 min\t\n"
      ]
     },
     "execution_count": 26,
     "metadata": {},
     "output_type": "execute_result"
    },
    {
     "data": {
      "text/plain": [
       "it: 209, loss: 0.005296, lr: 0.005000, spd: 49.25 it/s, avgSpd: 49.08 it/s, left: 0 h 0.3 min\t\n"
      ]
     },
     "execution_count": 26,
     "metadata": {},
     "output_type": "execute_result"
    },
    {
     "data": {
      "text/plain": [
       "it: 210, loss: 0.005264, lr: 0.005000, spd: 48.39 it/s, avgSpd: 49.01 it/s, left: 0 h 0.3 min\t\n"
      ]
     },
     "execution_count": 26,
     "metadata": {},
     "output_type": "execute_result"
    },
    {
     "data": {
      "text/plain": [
       "it: 211, loss: 0.005261, lr: 0.005000, spd: 48.55 it/s, avgSpd: 48.96 it/s, left: 0 h 0.3 min\t\n"
      ]
     },
     "execution_count": 26,
     "metadata": {},
     "output_type": "execute_result"
    },
    {
     "data": {
      "text/plain": [
       "it: 212, loss: 0.005281, lr: 0.005000, spd: 48.68 it/s, avgSpd: 48.93 it/s, left: 0 h 0.3 min\t\n"
      ]
     },
     "execution_count": 26,
     "metadata": {},
     "output_type": "execute_result"
    },
    {
     "data": {
      "text/plain": [
       "it: 213, loss: 0.005308, lr: 0.005000, spd: 48.84 it/s, avgSpd: 48.92 it/s, left: 0 h 0.3 min\t\n"
      ]
     },
     "execution_count": 26,
     "metadata": {},
     "output_type": "execute_result"
    },
    {
     "data": {
      "text/plain": [
       "it: 214, loss: 0.005373, lr: 0.005000, spd: 49.03 it/s, avgSpd: 48.93 it/s, left: 0 h 0.3 min\t\n"
      ]
     },
     "execution_count": 26,
     "metadata": {},
     "output_type": "execute_result"
    },
    {
     "data": {
      "text/plain": [
       "it: 215, loss: 0.005410, lr: 0.005000, spd: 49.28 it/s, avgSpd: 48.97 it/s, left: 0 h 0.3 min\t\n"
      ]
     },
     "execution_count": 26,
     "metadata": {},
     "output_type": "execute_result"
    },
    {
     "data": {
      "text/plain": [
       "it: 216, loss: 0.005550, lr: 0.005000, spd: 49.07 it/s, avgSpd: 48.98 it/s, left: 0 h 0.3 min\t\n"
      ]
     },
     "execution_count": 26,
     "metadata": {},
     "output_type": "execute_result"
    },
    {
     "data": {
      "text/plain": [
       "it: 217, loss: 0.005556, lr: 0.005000, spd: 49.08 it/s, avgSpd: 48.99 it/s, left: 0 h 0.3 min\t\n"
      ]
     },
     "execution_count": 26,
     "metadata": {},
     "output_type": "execute_result"
    },
    {
     "data": {
      "text/plain": [
       "it: 218, loss: 0.005753, lr: 0.005000, spd: 49.09 it/s, avgSpd: 49.00 it/s, left: 0 h 0.3 min\t\n"
      ]
     },
     "execution_count": 26,
     "metadata": {},
     "output_type": "execute_result"
    },
    {
     "data": {
      "text/plain": [
       "it: 219, loss: 0.005607, lr: 0.005000, spd: 49.11 it/s, avgSpd: 49.01 it/s, left: 0 h 0.3 min\t\n"
      ]
     },
     "execution_count": 26,
     "metadata": {},
     "output_type": "execute_result"
    },
    {
     "data": {
      "text/plain": [
       "it: 220, loss: 0.005641, lr: 0.005000, spd: 48.97 it/s, avgSpd: 49.01 it/s, left: 0 h 0.3 min\t\n"
      ]
     },
     "execution_count": 26,
     "metadata": {},
     "output_type": "execute_result"
    },
    {
     "data": {
      "text/plain": [
       "it: 221, loss: 0.005367, lr: 0.005000, spd: 49.22 it/s, avgSpd: 49.03 it/s, left: 0 h 0.3 min\t\n"
      ]
     },
     "execution_count": 26,
     "metadata": {},
     "output_type": "execute_result"
    },
    {
     "data": {
      "text/plain": [
       "it: 222, loss: 0.005216, lr: 0.005000, spd: 49.26 it/s, avgSpd: 49.05 it/s, left: 0 h 0.3 min\t\n"
      ]
     },
     "execution_count": 26,
     "metadata": {},
     "output_type": "execute_result"
    },
    {
     "data": {
      "text/plain": [
       "it: 223, loss: 0.005108, lr: 0.005000, spd: 49.04 it/s, avgSpd: 49.05 it/s, left: 0 h 0.3 min\t\n"
      ]
     },
     "execution_count": 26,
     "metadata": {},
     "output_type": "execute_result"
    },
    {
     "data": {
      "text/plain": [
       "it: 224, loss: 0.005100, lr: 0.005000, spd: 49.18 it/s, avgSpd: 49.06 it/s, left: 0 h 0.3 min\t\n"
      ]
     },
     "execution_count": 26,
     "metadata": {},
     "output_type": "execute_result"
    },
    {
     "data": {
      "text/plain": [
       "it: 225, loss: 0.005167, lr: 0.005000, spd: 49.17 it/s, avgSpd: 49.07 it/s, left: 0 h 0.3 min\t\n"
      ]
     },
     "execution_count": 26,
     "metadata": {},
     "output_type": "execute_result"
    },
    {
     "data": {
      "text/plain": [
       "it: 226, loss: 0.005251, lr: 0.005000, spd: 49.23 it/s, avgSpd: 49.09 it/s, left: 0 h 0.3 min\t\n"
      ]
     },
     "execution_count": 26,
     "metadata": {},
     "output_type": "execute_result"
    },
    {
     "data": {
      "text/plain": [
       "it: 227, loss: 0.005405, lr: 0.005000, spd: 49.01 it/s, avgSpd: 49.08 it/s, left: 0 h 0.3 min\t\n"
      ]
     },
     "execution_count": 26,
     "metadata": {},
     "output_type": "execute_result"
    },
    {
     "data": {
      "text/plain": [
       "it: 228, loss: 0.005356, lr: 0.005000, spd: 49.05 it/s, avgSpd: 49.08 it/s, left: 0 h 0.3 min\t\n"
      ]
     },
     "execution_count": 26,
     "metadata": {},
     "output_type": "execute_result"
    },
    {
     "data": {
      "text/plain": [
       "it: 229, loss: 0.005343, lr: 0.005000, spd: 49.09 it/s, avgSpd: 49.08 it/s, left: 0 h 0.3 min\t\n"
      ]
     },
     "execution_count": 26,
     "metadata": {},
     "output_type": "execute_result"
    },
    {
     "data": {
      "text/plain": [
       "it: 230, loss: 0.005155, lr: 0.005000, spd: 49.11 it/s, avgSpd: 49.08 it/s, left: 0 h 0.3 min\t\n"
      ]
     },
     "execution_count": 26,
     "metadata": {},
     "output_type": "execute_result"
    },
    {
     "data": {
      "text/plain": [
       "it: 231, loss: 0.005048, lr: 0.005000, spd: 49.08 it/s, avgSpd: 49.08 it/s, left: 0 h 0.3 min\t\n"
      ]
     },
     "execution_count": 26,
     "metadata": {},
     "output_type": "execute_result"
    },
    {
     "data": {
      "text/plain": [
       "it: 232, loss: 0.005012, lr: 0.005000, spd: 49.14 it/s, avgSpd: 49.09 it/s, left: 0 h 0.3 min\t\n"
      ]
     },
     "execution_count": 26,
     "metadata": {},
     "output_type": "execute_result"
    },
    {
     "data": {
      "text/plain": [
       "it: 233, loss: 0.005043, lr: 0.005000, spd: 49.06 it/s, avgSpd: 49.09 it/s, left: 0 h 0.3 min\t\n"
      ]
     },
     "execution_count": 26,
     "metadata": {},
     "output_type": "execute_result"
    },
    {
     "data": {
      "text/plain": [
       "it: 234, loss: 0.005123, lr: 0.005000, spd: 48.99 it/s, avgSpd: 49.08 it/s, left: 0 h 0.3 min\t\n"
      ]
     },
     "execution_count": 26,
     "metadata": {},
     "output_type": "execute_result"
    },
    {
     "data": {
      "text/plain": [
       "it: 235, loss: 0.005180, lr: 0.005000, spd: 48.90 it/s, avgSpd: 49.06 it/s, left: 0 h 0.3 min\t\n"
      ]
     },
     "execution_count": 26,
     "metadata": {},
     "output_type": "execute_result"
    },
    {
     "data": {
      "text/plain": [
       "it: 236, loss: 0.005286, lr: 0.005000, spd: 48.88 it/s, avgSpd: 49.04 it/s, left: 0 h 0.3 min\t\n"
      ]
     },
     "execution_count": 26,
     "metadata": {},
     "output_type": "execute_result"
    },
    {
     "data": {
      "text/plain": [
       "it: 237, loss: 0.005214, lr: 0.005000, spd: 48.33 it/s, avgSpd: 48.97 it/s, left: 0 h 0.3 min\t\n"
      ]
     },
     "execution_count": 26,
     "metadata": {},
     "output_type": "execute_result"
    },
    {
     "data": {
      "text/plain": [
       "it: 238, loss: 0.005193, lr: 0.005000, spd: 49.51 it/s, avgSpd: 49.02 it/s, left: 0 h 0.3 min\t\n"
      ]
     },
     "execution_count": 26,
     "metadata": {},
     "output_type": "execute_result"
    },
    {
     "data": {
      "text/plain": [
       "it: 239, loss: 0.005072, lr: 0.005000, spd: 49.08 it/s, avgSpd: 49.03 it/s, left: 0 h 0.3 min\t\n"
      ]
     },
     "execution_count": 26,
     "metadata": {},
     "output_type": "execute_result"
    },
    {
     "data": {
      "text/plain": [
       "it: 240, loss: 0.005006, lr: 0.005000, spd: 49.11 it/s, avgSpd: 49.04 it/s, left: 0 h 0.3 min\t\n"
      ]
     },
     "execution_count": 26,
     "metadata": {},
     "output_type": "execute_result"
    },
    {
     "data": {
      "text/plain": [
       "it: 241, loss: 0.004948, lr: 0.005000, spd: 48.16 it/s, avgSpd: 48.95 it/s, left: 0 h 0.3 min\t\n"
      ]
     },
     "execution_count": 26,
     "metadata": {},
     "output_type": "execute_result"
    },
    {
     "data": {
      "text/plain": [
       "it: 242, loss: 0.004918, lr: 0.005000, spd: 48.86 it/s, avgSpd: 48.94 it/s, left: 0 h 0.3 min\t\n"
      ]
     },
     "execution_count": 26,
     "metadata": {},
     "output_type": "execute_result"
    },
    {
     "data": {
      "text/plain": [
       "it: 243, loss: 0.004906, lr: 0.005000, spd: 48.62 it/s, avgSpd: 48.91 it/s, left: 0 h 0.3 min\t\n"
      ]
     },
     "execution_count": 26,
     "metadata": {},
     "output_type": "execute_result"
    },
    {
     "data": {
      "text/plain": [
       "it: 244, loss: 0.004905, lr: 0.005000, spd: 48.77 it/s, avgSpd: 48.89 it/s, left: 0 h 0.3 min\t\n"
      ]
     },
     "execution_count": 26,
     "metadata": {},
     "output_type": "execute_result"
    },
    {
     "data": {
      "text/plain": [
       "it: 245, loss: 0.004917, lr: 0.005000, spd: 48.73 it/s, avgSpd: 48.88 it/s, left: 0 h 0.3 min\t\n"
      ]
     },
     "execution_count": 26,
     "metadata": {},
     "output_type": "execute_result"
    },
    {
     "data": {
      "text/plain": [
       "it: 246, loss: 0.004938, lr: 0.005000, spd: 48.76 it/s, avgSpd: 48.87 it/s, left: 0 h 0.3 min\t\n"
      ]
     },
     "execution_count": 26,
     "metadata": {},
     "output_type": "execute_result"
    },
    {
     "data": {
      "text/plain": [
       "it: 247, loss: 0.004996, lr: 0.005000, spd: 48.11 it/s, avgSpd: 48.79 it/s, left: 0 h 0.3 min\t\n"
      ]
     },
     "execution_count": 26,
     "metadata": {},
     "output_type": "execute_result"
    },
    {
     "data": {
      "text/plain": [
       "it: 248, loss: 0.005064, lr: 0.005000, spd: 49.42 it/s, avgSpd: 48.85 it/s, left: 0 h 0.3 min\t\n"
      ]
     },
     "execution_count": 26,
     "metadata": {},
     "output_type": "execute_result"
    },
    {
     "data": {
      "text/plain": [
       "it: 249, loss: 0.005287, lr: 0.005000, spd: 49.58 it/s, avgSpd: 48.93 it/s, left: 0 h 0.3 min\t\n"
      ]
     },
     "execution_count": 26,
     "metadata": {},
     "output_type": "execute_result"
    },
    {
     "data": {
      "text/plain": [
       "it: 250, loss: 0.005410, lr: 0.005000, spd: 49.04 it/s, avgSpd: 48.94 it/s, left: 0 h 0.3 min\t\n"
      ]
     },
     "execution_count": 26,
     "metadata": {},
     "output_type": "execute_result"
    },
    {
     "data": {
      "text/plain": [
       "it: 251, loss: 0.005964, lr: 0.005000, spd: 48.99 it/s, avgSpd: 48.94 it/s, left: 0 h 0.3 min\t\n"
      ]
     },
     "execution_count": 26,
     "metadata": {},
     "output_type": "execute_result"
    },
    {
     "data": {
      "text/plain": [
       "it: 252, loss: 0.005624, lr: 0.005000, spd: 49.06 it/s, avgSpd: 48.95 it/s, left: 0 h 0.3 min\t\n"
      ]
     },
     "execution_count": 26,
     "metadata": {},
     "output_type": "execute_result"
    },
    {
     "data": {
      "text/plain": [
       "it: 253, loss: 0.005637, lr: 0.005000, spd: 48.97 it/s, avgSpd: 48.96 it/s, left: 0 h 0.3 min\t\n"
      ]
     },
     "execution_count": 26,
     "metadata": {},
     "output_type": "execute_result"
    },
    {
     "data": {
      "text/plain": [
       "it: 254, loss: 0.005027, lr: 0.005000, spd: 49.31 it/s, avgSpd: 48.99 it/s, left: 0 h 0.3 min\t\n"
      ]
     },
     "execution_count": 26,
     "metadata": {},
     "output_type": "execute_result"
    },
    {
     "data": {
      "text/plain": [
       "it: 255, loss: 0.004815, lr: 0.005000, spd: 48.98 it/s, avgSpd: 48.99 it/s, left: 0 h 0.3 min\t\n"
      ]
     },
     "execution_count": 26,
     "metadata": {},
     "output_type": "execute_result"
    },
    {
     "data": {
      "text/plain": [
       "it: 256, loss: 0.004951, lr: 0.005000, spd: 49.08 it/s, avgSpd: 49.00 it/s, left: 0 h 0.3 min\t\n"
      ]
     },
     "execution_count": 26,
     "metadata": {},
     "output_type": "execute_result"
    },
    {
     "data": {
      "text/plain": [
       "it: 257, loss: 0.005191, lr: 0.005000, spd: 48.90 it/s, avgSpd: 48.99 it/s, left: 0 h 0.3 min\t\n"
      ]
     },
     "execution_count": 26,
     "metadata": {},
     "output_type": "execute_result"
    },
    {
     "data": {
      "text/plain": [
       "it: 258, loss: 0.005529, lr: 0.005000, spd: 49.10 it/s, avgSpd: 49.00 it/s, left: 0 h 0.3 min\t\n"
      ]
     },
     "execution_count": 26,
     "metadata": {},
     "output_type": "execute_result"
    },
    {
     "data": {
      "text/plain": [
       "it: 259, loss: 0.005133, lr: 0.005000, spd: 49.17 it/s, avgSpd: 49.02 it/s, left: 0 h 0.3 min\t\n"
      ]
     },
     "execution_count": 26,
     "metadata": {},
     "output_type": "execute_result"
    },
    {
     "data": {
      "text/plain": [
       "it: 260, loss: 0.004867, lr: 0.005000, spd: 48.83 it/s, avgSpd: 49.00 it/s, left: 0 h 0.3 min\t\n"
      ]
     },
     "execution_count": 26,
     "metadata": {},
     "output_type": "execute_result"
    },
    {
     "data": {
      "text/plain": [
       "it: 261, loss: 0.004811, lr: 0.005000, spd: 49.16 it/s, avgSpd: 49.02 it/s, left: 0 h 0.3 min\t\n"
      ]
     },
     "execution_count": 26,
     "metadata": {},
     "output_type": "execute_result"
    },
    {
     "data": {
      "text/plain": [
       "it: 262, loss: 0.004997, lr: 0.005000, spd: 49.01 it/s, avgSpd: 49.01 it/s, left: 0 h 0.3 min\t\n"
      ]
     },
     "execution_count": 26,
     "metadata": {},
     "output_type": "execute_result"
    },
    {
     "data": {
      "text/plain": [
       "it: 263, loss: 0.005263, lr: 0.005000, spd: 49.20 it/s, avgSpd: 49.03 it/s, left: 0 h 0.3 min\t\n"
      ]
     },
     "execution_count": 26,
     "metadata": {},
     "output_type": "execute_result"
    },
    {
     "data": {
      "text/plain": [
       "it: 264, loss: 0.005048, lr: 0.005000, spd: 49.16 it/s, avgSpd: 49.05 it/s, left: 0 h 0.3 min\t\n"
      ]
     },
     "execution_count": 26,
     "metadata": {},
     "output_type": "execute_result"
    },
    {
     "data": {
      "text/plain": [
       "it: 265, loss: 0.004864, lr: 0.005000, spd: 48.97 it/s, avgSpd: 49.04 it/s, left: 0 h 0.2 min\t\n"
      ]
     },
     "execution_count": 26,
     "metadata": {},
     "output_type": "execute_result"
    },
    {
     "data": {
      "text/plain": [
       "it: 266, loss: 0.004758, lr: 0.005000, spd: 49.21 it/s, avgSpd: 49.06 it/s, left: 0 h 0.2 min\t\n"
      ]
     },
     "execution_count": 26,
     "metadata": {},
     "output_type": "execute_result"
    },
    {
     "data": {
      "text/plain": [
       "it: 267, loss: 0.004844, lr: 0.005000, spd: 48.94 it/s, avgSpd: 49.04 it/s, left: 0 h 0.2 min\t\n"
      ]
     },
     "execution_count": 26,
     "metadata": {},
     "output_type": "execute_result"
    },
    {
     "data": {
      "text/plain": [
       "it: 268, loss: 0.004987, lr: 0.005000, spd: 49.21 it/s, avgSpd: 49.06 it/s, left: 0 h 0.2 min\t\n"
      ]
     },
     "execution_count": 26,
     "metadata": {},
     "output_type": "execute_result"
    },
    {
     "data": {
      "text/plain": [
       "it: 269, loss: 0.004899, lr: 0.005000, spd: 48.99 it/s, avgSpd: 49.05 it/s, left: 0 h 0.2 min\t\n"
      ]
     },
     "execution_count": 26,
     "metadata": {},
     "output_type": "execute_result"
    },
    {
     "data": {
      "text/plain": [
       "it: 270, loss: 0.004794, lr: 0.005000, spd: 49.13 it/s, avgSpd: 49.06 it/s, left: 0 h 0.2 min\t\n"
      ]
     },
     "execution_count": 26,
     "metadata": {},
     "output_type": "execute_result"
    },
    {
     "data": {
      "text/plain": [
       "it: 271, loss: 0.004710, lr: 0.005000, spd: 48.99 it/s, avgSpd: 49.05 it/s, left: 0 h 0.2 min\t\n"
      ]
     },
     "execution_count": 26,
     "metadata": {},
     "output_type": "execute_result"
    },
    {
     "data": {
      "text/plain": [
       "it: 272, loss: 0.004733, lr: 0.005000, spd: 48.94 it/s, avgSpd: 49.04 it/s, left: 0 h 0.2 min\t\n"
      ]
     },
     "execution_count": 26,
     "metadata": {},
     "output_type": "execute_result"
    },
    {
     "data": {
      "text/plain": [
       "it: 273, loss: 0.004806, lr: 0.005000, spd: 49.17 it/s, avgSpd: 49.06 it/s, left: 0 h 0.2 min\t\n"
      ]
     },
     "execution_count": 26,
     "metadata": {},
     "output_type": "execute_result"
    },
    {
     "data": {
      "text/plain": [
       "it: 274, loss: 0.004796, lr: 0.005000, spd: 49.10 it/s, avgSpd: 49.06 it/s, left: 0 h 0.2 min\t\n"
      ]
     },
     "execution_count": 26,
     "metadata": {},
     "output_type": "execute_result"
    },
    {
     "data": {
      "text/plain": [
       "it: 275, loss: 0.004756, lr: 0.005000, spd: 49.18 it/s, avgSpd: 49.07 it/s, left: 0 h 0.2 min\t\n"
      ]
     },
     "execution_count": 26,
     "metadata": {},
     "output_type": "execute_result"
    },
    {
     "data": {
      "text/plain": [
       "it: 276, loss: 0.004693, lr: 0.005000, spd: 49.19 it/s, avgSpd: 49.08 it/s, left: 0 h 0.2 min\t\n"
      ]
     },
     "execution_count": 26,
     "metadata": {},
     "output_type": "execute_result"
    },
    {
     "data": {
      "text/plain": [
       "it: 277, loss: 0.004665, lr: 0.005000, spd: 48.91 it/s, avgSpd: 49.07 it/s, left: 0 h 0.2 min\t\n"
      ]
     },
     "execution_count": 26,
     "metadata": {},
     "output_type": "execute_result"
    },
    {
     "data": {
      "text/plain": [
       "it: 278, loss: 0.004673, lr: 0.005000, spd: 49.29 it/s, avgSpd: 49.09 it/s, left: 0 h 0.2 min\t\n"
      ]
     },
     "execution_count": 26,
     "metadata": {},
     "output_type": "execute_result"
    },
    {
     "data": {
      "text/plain": [
       "it: 279, loss: 0.004699, lr: 0.005000, spd: 49.12 it/s, avgSpd: 49.09 it/s, left: 0 h 0.2 min\t\n"
      ]
     },
     "execution_count": 26,
     "metadata": {},
     "output_type": "execute_result"
    },
    {
     "data": {
      "text/plain": [
       "it: 280, loss: 0.004728, lr: 0.005000, spd: 49.21 it/s, avgSpd: 49.10 it/s, left: 0 h 0.2 min\t\n"
      ]
     },
     "execution_count": 26,
     "metadata": {},
     "output_type": "execute_result"
    },
    {
     "data": {
      "text/plain": [
       "it: 281, loss: 0.004717, lr: 0.005000, spd: 49.19 it/s, avgSpd: 49.11 it/s, left: 0 h 0.2 min\t\n"
      ]
     },
     "execution_count": 26,
     "metadata": {},
     "output_type": "execute_result"
    },
    {
     "data": {
      "text/plain": [
       "it: 282, loss: 0.004707, lr: 0.005000, spd: 48.88 it/s, avgSpd: 49.09 it/s, left: 0 h 0.2 min\t\n"
      ]
     },
     "execution_count": 26,
     "metadata": {},
     "output_type": "execute_result"
    },
    {
     "data": {
      "text/plain": [
       "it: 283, loss: 0.004675, lr: 0.005000, spd: 49.21 it/s, avgSpd: 49.10 it/s, left: 0 h 0.2 min\t\n"
      ]
     },
     "execution_count": 26,
     "metadata": {},
     "output_type": "execute_result"
    },
    {
     "data": {
      "text/plain": [
       "it: 284, loss: 0.004654, lr: 0.005000, spd: 49.08 it/s, avgSpd: 49.10 it/s, left: 0 h 0.2 min\t\n"
      ]
     },
     "execution_count": 26,
     "metadata": {},
     "output_type": "execute_result"
    },
    {
     "data": {
      "text/plain": [
       "it: 285, loss: 0.004631, lr: 0.005000, spd: 49.13 it/s, avgSpd: 49.10 it/s, left: 0 h 0.2 min\t\n"
      ]
     },
     "execution_count": 26,
     "metadata": {},
     "output_type": "execute_result"
    },
    {
     "data": {
      "text/plain": [
       "it: 286, loss: 0.004617, lr: 0.005000, spd: 49.28 it/s, avgSpd: 49.12 it/s, left: 0 h 0.2 min\t\n"
      ]
     },
     "execution_count": 26,
     "metadata": {},
     "output_type": "execute_result"
    },
    {
     "data": {
      "text/plain": [
       "it: 287, loss: 0.004603, lr: 0.005000, spd: 49.13 it/s, avgSpd: 49.12 it/s, left: 0 h 0.2 min\t\n"
      ]
     },
     "execution_count": 26,
     "metadata": {},
     "output_type": "execute_result"
    },
    {
     "data": {
      "text/plain": [
       "it: 288, loss: 0.004593, lr: 0.005000, spd: 48.95 it/s, avgSpd: 49.10 it/s, left: 0 h 0.2 min\t\n"
      ]
     },
     "execution_count": 26,
     "metadata": {},
     "output_type": "execute_result"
    },
    {
     "data": {
      "text/plain": [
       "it: 289, loss: 0.004584, lr: 0.005000, spd: 49.12 it/s, avgSpd: 49.10 it/s, left: 0 h 0.2 min\t\n"
      ]
     },
     "execution_count": 26,
     "metadata": {},
     "output_type": "execute_result"
    },
    {
     "data": {
      "text/plain": [
       "it: 290, loss: 0.004577, lr: 0.005000, spd: 49.12 it/s, avgSpd: 49.11 it/s, left: 0 h 0.2 min\t\n"
      ]
     },
     "execution_count": 26,
     "metadata": {},
     "output_type": "execute_result"
    },
    {
     "data": {
      "text/plain": [
       "it: 291, loss: 0.004569, lr: 0.005000, spd: 49.08 it/s, avgSpd: 49.10 it/s, left: 0 h 0.2 min\t\n"
      ]
     },
     "execution_count": 26,
     "metadata": {},
     "output_type": "execute_result"
    },
    {
     "data": {
      "text/plain": [
       "it: 292, loss: 0.004563, lr: 0.005000, spd: 48.98 it/s, avgSpd: 49.09 it/s, left: 0 h 0.2 min\t\n"
      ]
     },
     "execution_count": 26,
     "metadata": {},
     "output_type": "execute_result"
    },
    {
     "data": {
      "text/plain": [
       "it: 293, loss: 0.004557, lr: 0.005000, spd: 49.12 it/s, avgSpd: 49.09 it/s, left: 0 h 0.2 min\t\n"
      ]
     },
     "execution_count": 26,
     "metadata": {},
     "output_type": "execute_result"
    },
    {
     "data": {
      "text/plain": [
       "it: 294, loss: 0.004551, lr: 0.005000, spd: 49.15 it/s, avgSpd: 49.10 it/s, left: 0 h 0.2 min\t\n"
      ]
     },
     "execution_count": 26,
     "metadata": {},
     "output_type": "execute_result"
    },
    {
     "data": {
      "text/plain": [
       "it: 295, loss: 0.004547, lr: 0.005000, spd: 49.09 it/s, avgSpd: 49.10 it/s, left: 0 h 0.2 min\t\n"
      ]
     },
     "execution_count": 26,
     "metadata": {},
     "output_type": "execute_result"
    },
    {
     "data": {
      "text/plain": [
       "it: 296, loss: 0.004546, lr: 0.005000, spd: 49.05 it/s, avgSpd: 49.09 it/s, left: 0 h 0.2 min\t\n"
      ]
     },
     "execution_count": 26,
     "metadata": {},
     "output_type": "execute_result"
    },
    {
     "data": {
      "text/plain": [
       "it: 297, loss: 0.004554, lr: 0.005000, spd: 49.16 it/s, avgSpd: 49.10 it/s, left: 0 h 0.2 min\t\n"
      ]
     },
     "execution_count": 26,
     "metadata": {},
     "output_type": "execute_result"
    },
    {
     "data": {
      "text/plain": [
       "it: 298, loss: 0.004590, lr: 0.005000, spd: 49.08 it/s, avgSpd: 49.10 it/s, left: 0 h 0.2 min\t\n"
      ]
     },
     "execution_count": 26,
     "metadata": {},
     "output_type": "execute_result"
    },
    {
     "data": {
      "text/plain": [
       "it: 299, loss: 0.004682, lr: 0.005000, spd: 49.08 it/s, avgSpd: 49.10 it/s, left: 0 h 0.2 min\t\n"
      ]
     },
     "execution_count": 26,
     "metadata": {},
     "output_type": "execute_result"
    },
    {
     "data": {
      "text/plain": [
       "it: 300, loss: 0.005015, lr: 0.005000, spd: 48.89 it/s, avgSpd: 49.08 it/s, left: 0 h 0.2 min\t\n"
      ]
     },
     "execution_count": 26,
     "metadata": {},
     "output_type": "execute_result"
    },
    {
     "data": {
      "text/plain": [
       "it: 301, loss: 0.005504, lr: 0.005000, spd: 48.39 it/s, avgSpd: 49.01 it/s, left: 0 h 0.2 min\t\n"
      ]
     },
     "execution_count": 26,
     "metadata": {},
     "output_type": "execute_result"
    },
    {
     "data": {
      "text/plain": [
       "it: 302, loss: 0.007496, lr: 0.005000, spd: 48.77 it/s, avgSpd: 48.98 it/s, left: 0 h 0.2 min\t\n"
      ]
     },
     "execution_count": 26,
     "metadata": {},
     "output_type": "execute_result"
    },
    {
     "data": {
      "text/plain": [
       "it: 303, loss: 0.006192, lr: 0.005000, spd: 48.87 it/s, avgSpd: 48.97 it/s, left: 0 h 0.2 min\t\n"
      ]
     },
     "execution_count": 26,
     "metadata": {},
     "output_type": "execute_result"
    },
    {
     "data": {
      "text/plain": [
       "it: 304, loss: 0.005886, lr: 0.005000, spd: 48.76 it/s, avgSpd: 48.95 it/s, left: 0 h 0.2 min\t\n"
      ]
     },
     "execution_count": 26,
     "metadata": {},
     "output_type": "execute_result"
    },
    {
     "data": {
      "text/plain": [
       "it: 305, loss: 0.004575, lr: 0.005000, spd: 48.70 it/s, avgSpd: 48.93 it/s, left: 0 h 0.2 min\t\n"
      ]
     },
     "execution_count": 26,
     "metadata": {},
     "output_type": "execute_result"
    },
    {
     "data": {
      "text/plain": [
       "it: 306, loss: 0.005404, lr: 0.005000, spd: 49.13 it/s, avgSpd: 48.95 it/s, left: 0 h 0.2 min\t\n"
      ]
     },
     "execution_count": 26,
     "metadata": {},
     "output_type": "execute_result"
    },
    {
     "data": {
      "text/plain": [
       "it: 307, loss: 0.007863, lr: 0.005000, spd: 49.33 it/s, avgSpd: 48.98 it/s, left: 0 h 0.2 min\t\n"
      ]
     },
     "execution_count": 26,
     "metadata": {},
     "output_type": "execute_result"
    },
    {
     "data": {
      "text/plain": [
       "it: 308, loss: 0.005064, lr: 0.005000, spd: 49.13 it/s, avgSpd: 49.00 it/s, left: 0 h 0.2 min\t\n"
      ]
     },
     "execution_count": 26,
     "metadata": {},
     "output_type": "execute_result"
    },
    {
     "data": {
      "text/plain": [
       "it: 309, loss: 0.004859, lr: 0.005000, spd: 49.12 it/s, avgSpd: 49.01 it/s, left: 0 h 0.2 min\t\n"
      ]
     },
     "execution_count": 26,
     "metadata": {},
     "output_type": "execute_result"
    },
    {
     "data": {
      "text/plain": [
       "it: 310, loss: 0.006128, lr: 0.005000, spd: 49.05 it/s, avgSpd: 49.02 it/s, left: 0 h 0.2 min\t\n"
      ]
     },
     "execution_count": 26,
     "metadata": {},
     "output_type": "execute_result"
    },
    {
     "data": {
      "text/plain": [
       "it: 311, loss: 0.004668, lr: 0.005000, spd: 48.93 it/s, avgSpd: 49.01 it/s, left: 0 h 0.2 min\t\n"
      ]
     },
     "execution_count": 26,
     "metadata": {},
     "output_type": "execute_result"
    },
    {
     "data": {
      "text/plain": [
       "it: 312, loss: 0.005312, lr: 0.005000, spd: 49.02 it/s, avgSpd: 49.01 it/s, left: 0 h 0.2 min\t\n"
      ]
     },
     "execution_count": 26,
     "metadata": {},
     "output_type": "execute_result"
    },
    {
     "data": {
      "text/plain": [
       "it: 313, loss: 0.006520, lr: 0.005000, spd: 49.18 it/s, avgSpd: 49.02 it/s, left: 0 h 0.2 min\t\n"
      ]
     },
     "execution_count": 26,
     "metadata": {},
     "output_type": "execute_result"
    },
    {
     "data": {
      "text/plain": [
       "it: 314, loss: 0.004546, lr: 0.005000, spd: 48.97 it/s, avgSpd: 49.02 it/s, left: 0 h 0.2 min\t\n"
      ]
     },
     "execution_count": 26,
     "metadata": {},
     "output_type": "execute_result"
    },
    {
     "data": {
      "text/plain": [
       "it: 315, loss: 0.006367, lr: 0.005000, spd: 49.42 it/s, avgSpd: 49.06 it/s, left: 0 h 0.2 min\t\n"
      ]
     },
     "execution_count": 26,
     "metadata": {},
     "output_type": "execute_result"
    },
    {
     "data": {
      "text/plain": [
       "it: 316, loss: 0.007372, lr: 0.005000, spd: 49.02 it/s, avgSpd: 49.06 it/s, left: 0 h 0.2 min\t\n"
      ]
     },
     "execution_count": 26,
     "metadata": {},
     "output_type": "execute_result"
    },
    {
     "data": {
      "text/plain": [
       "it: 317, loss: 0.005200, lr: 0.005000, spd: 49.06 it/s, avgSpd: 49.06 it/s, left: 0 h 0.2 min\t\n"
      ]
     },
     "execution_count": 26,
     "metadata": {},
     "output_type": "execute_result"
    },
    {
     "data": {
      "text/plain": [
       "it: 318, loss: 0.008966, lr: 0.005000, spd: 49.06 it/s, avgSpd: 49.06 it/s, left: 0 h 0.2 min\t\n"
      ]
     },
     "execution_count": 26,
     "metadata": {},
     "output_type": "execute_result"
    },
    {
     "data": {
      "text/plain": [
       "it: 319, loss: 0.007285, lr: 0.005000, spd: 49.03 it/s, avgSpd: 49.05 it/s, left: 0 h 0.2 min\t\n"
      ]
     },
     "execution_count": 26,
     "metadata": {},
     "output_type": "execute_result"
    },
    {
     "data": {
      "text/plain": [
       "it: 320, loss: 0.007127, lr: 0.005000, spd: 49.14 it/s, avgSpd: 49.06 it/s, left: 0 h 0.2 min\t\n"
      ]
     },
     "execution_count": 26,
     "metadata": {},
     "output_type": "execute_result"
    },
    {
     "data": {
      "text/plain": [
       "it: 321, loss: 0.006986, lr: 0.005000, spd: 49.03 it/s, avgSpd: 49.06 it/s, left: 0 h 0.2 min\t\n"
      ]
     },
     "execution_count": 26,
     "metadata": {},
     "output_type": "execute_result"
    },
    {
     "data": {
      "text/plain": [
       "it: 322, loss: 0.004761, lr: 0.005000, spd: 49.06 it/s, avgSpd: 49.06 it/s, left: 0 h 0.2 min\t\n"
      ]
     },
     "execution_count": 26,
     "metadata": {},
     "output_type": "execute_result"
    },
    {
     "data": {
      "text/plain": [
       "it: 323, loss: 0.006388, lr: 0.005000, spd: 49.13 it/s, avgSpd: 49.07 it/s, left: 0 h 0.2 min\t\n"
      ]
     },
     "execution_count": 26,
     "metadata": {},
     "output_type": "execute_result"
    },
    {
     "data": {
      "text/plain": [
       "it: 324, loss: 0.004819, lr: 0.005000, spd: 49.09 it/s, avgSpd: 49.07 it/s, left: 0 h 0.2 min\t\n"
      ]
     },
     "execution_count": 26,
     "metadata": {},
     "output_type": "execute_result"
    },
    {
     "data": {
      "text/plain": [
       "it: 325, loss: 0.006450, lr: 0.005000, spd: 49.09 it/s, avgSpd: 49.07 it/s, left: 0 h 0.2 min\t\n"
      ]
     },
     "execution_count": 26,
     "metadata": {},
     "output_type": "execute_result"
    },
    {
     "data": {
      "text/plain": [
       "it: 326, loss: 0.004695, lr: 0.005000, spd: 48.38 it/s, avgSpd: 49.00 it/s, left: 0 h 0.2 min\t\n"
      ]
     },
     "execution_count": 26,
     "metadata": {},
     "output_type": "execute_result"
    },
    {
     "data": {
      "text/plain": [
       "it: 327, loss: 0.005798, lr: 0.005000, spd: 49.52 it/s, avgSpd: 49.05 it/s, left: 0 h 0.2 min\t\n"
      ]
     },
     "execution_count": 26,
     "metadata": {},
     "output_type": "execute_result"
    },
    {
     "data": {
      "text/plain": [
       "it: 328, loss: 0.004615, lr: 0.005000, spd: 48.89 it/s, avgSpd: 49.04 it/s, left: 0 h 0.2 min\t\n"
      ]
     },
     "execution_count": 26,
     "metadata": {},
     "output_type": "execute_result"
    },
    {
     "data": {
      "text/plain": [
       "it: 329, loss: 0.005718, lr: 0.005000, spd: 48.14 it/s, avgSpd: 48.95 it/s, left: 0 h 0.2 min\t\n"
      ]
     },
     "execution_count": 26,
     "metadata": {},
     "output_type": "execute_result"
    },
    {
     "data": {
      "text/plain": [
       "it: 330, loss: 0.004685, lr: 0.005000, spd: 48.84 it/s, avgSpd: 48.94 it/s, left: 0 h 0.2 min\t\n"
      ]
     },
     "execution_count": 26,
     "metadata": {},
     "output_type": "execute_result"
    },
    {
     "data": {
      "text/plain": [
       "it: 331, loss: 0.005327, lr: 0.005000, spd: 48.77 it/s, avgSpd: 48.92 it/s, left: 0 h 0.2 min\t\n"
      ]
     },
     "execution_count": 26,
     "metadata": {},
     "output_type": "execute_result"
    },
    {
     "data": {
      "text/plain": [
       "it: 332, loss: 0.004654, lr: 0.005000, spd: 48.92 it/s, avgSpd: 48.92 it/s, left: 0 h 0.2 min\t\n"
      ]
     },
     "execution_count": 26,
     "metadata": {},
     "output_type": "execute_result"
    },
    {
     "data": {
      "text/plain": [
       "it: 333, loss: 0.005179, lr: 0.005000, spd: 48.81 it/s, avgSpd: 48.91 it/s, left: 0 h 0.2 min\t\n"
      ]
     },
     "execution_count": 26,
     "metadata": {},
     "output_type": "execute_result"
    },
    {
     "data": {
      "text/plain": [
       "it: 334, loss: 0.004698, lr: 0.005000, spd: 48.73 it/s, avgSpd: 48.89 it/s, left: 0 h 0.2 min\t\n"
      ]
     },
     "execution_count": 26,
     "metadata": {},
     "output_type": "execute_result"
    },
    {
     "data": {
      "text/plain": [
       "it: 335, loss: 0.005024, lr: 0.005000, spd: 48.81 it/s, avgSpd: 48.88 it/s, left: 0 h 0.2 min\t\n"
      ]
     },
     "execution_count": 26,
     "metadata": {},
     "output_type": "execute_result"
    },
    {
     "data": {
      "text/plain": [
       "it: 336, loss: 0.004575, lr: 0.005000, spd: 44.95 it/s, avgSpd: 48.49 it/s, left: 0 h 0.2 min\t\n"
      ]
     },
     "execution_count": 26,
     "metadata": {},
     "output_type": "execute_result"
    },
    {
     "data": {
      "text/plain": [
       "it: 337, loss: 0.004990, lr: 0.005000, spd: 48.56 it/s, avgSpd: 48.50 it/s, left: 0 h 0.2 min\t\n"
      ]
     },
     "execution_count": 26,
     "metadata": {},
     "output_type": "execute_result"
    },
    {
     "data": {
      "text/plain": [
       "it: 338, loss: 0.004608, lr: 0.005000, spd: 49.65 it/s, avgSpd: 48.61 it/s, left: 0 h 0.2 min\t\n"
      ]
     },
     "execution_count": 26,
     "metadata": {},
     "output_type": "execute_result"
    },
    {
     "data": {
      "text/plain": [
       "it: 339, loss: 0.004860, lr: 0.005000, spd: 48.33 it/s, avgSpd: 48.58 it/s, left: 0 h 0.2 min\t\n"
      ]
     },
     "execution_count": 26,
     "metadata": {},
     "output_type": "execute_result"
    },
    {
     "data": {
      "text/plain": [
       "it: 340, loss: 0.004566, lr: 0.005000, spd: 52.77 it/s, avgSpd: 49.00 it/s, left: 0 h 0.2 min\t\n"
      ]
     },
     "execution_count": 26,
     "metadata": {},
     "output_type": "execute_result"
    },
    {
     "data": {
      "text/plain": [
       "it: 341, loss: 0.004763, lr: 0.005000, spd: 49.27 it/s, avgSpd: 49.03 it/s, left: 0 h 0.2 min\t\n"
      ]
     },
     "execution_count": 26,
     "metadata": {},
     "output_type": "execute_result"
    },
    {
     "data": {
      "text/plain": [
       "it: 342, loss: 0.004609, lr: 0.005000, spd: 49.30 it/s, avgSpd: 49.06 it/s, left: 0 h 0.2 min\t\n"
      ]
     },
     "execution_count": 26,
     "metadata": {},
     "output_type": "execute_result"
    },
    {
     "data": {
      "text/plain": [
       "it: 343, loss: 0.004680, lr: 0.005000, spd: 48.84 it/s, avgSpd: 49.03 it/s, left: 0 h 0.2 min\t\n"
      ]
     },
     "execution_count": 26,
     "metadata": {},
     "output_type": "execute_result"
    },
    {
     "data": {
      "text/plain": [
       "it: 344, loss: 0.004559, lr: 0.005000, spd: 49.20 it/s, avgSpd: 49.05 it/s, left: 0 h 0.2 min\t\n"
      ]
     },
     "execution_count": 26,
     "metadata": {},
     "output_type": "execute_result"
    },
    {
     "data": {
      "text/plain": [
       "it: 345, loss: 0.004615, lr: 0.005000, spd: 49.15 it/s, avgSpd: 49.06 it/s, left: 0 h 0.2 min\t\n"
      ]
     },
     "execution_count": 26,
     "metadata": {},
     "output_type": "execute_result"
    },
    {
     "data": {
      "text/plain": [
       "it: 346, loss: 0.004567, lr: 0.005000, spd: 49.12 it/s, avgSpd: 49.07 it/s, left: 0 h 0.2 min\t\n"
      ]
     },
     "execution_count": 26,
     "metadata": {},
     "output_type": "execute_result"
    },
    {
     "data": {
      "text/plain": [
       "it: 347, loss: 0.004557, lr: 0.005000, spd: 49.30 it/s, avgSpd: 49.09 it/s, left: 0 h 0.2 min\t\n"
      ]
     },
     "execution_count": 26,
     "metadata": {},
     "output_type": "execute_result"
    },
    {
     "data": {
      "text/plain": [
       "it: 348, loss: 0.004562, lr: 0.005000, spd: 49.07 it/s, avgSpd: 49.09 it/s, left: 0 h 0.2 min\t\n"
      ]
     },
     "execution_count": 26,
     "metadata": {},
     "output_type": "execute_result"
    },
    {
     "data": {
      "text/plain": [
       "it: 349, loss: 0.004476, lr: 0.005000, spd: 49.10 it/s, avgSpd: 49.09 it/s, left: 0 h 0.2 min\t\n"
      ]
     },
     "execution_count": 26,
     "metadata": {},
     "output_type": "execute_result"
    },
    {
     "data": {
      "text/plain": [
       "it: 350, loss: 0.004555, lr: 0.005000, spd: 48.89 it/s, avgSpd: 49.07 it/s, left: 0 h 0.2 min\t\n"
      ]
     },
     "execution_count": 26,
     "metadata": {},
     "output_type": "execute_result"
    },
    {
     "data": {
      "text/plain": [
       "it: 351, loss: 0.004445, lr: 0.005000, spd: 49.19 it/s, avgSpd: 49.08 it/s, left: 0 h 0.2 min\t\n"
      ]
     },
     "execution_count": 26,
     "metadata": {},
     "output_type": "execute_result"
    },
    {
     "data": {
      "text/plain": [
       "it: 352, loss: 0.004530, lr: 0.005000, spd: 49.06 it/s, avgSpd: 49.08 it/s, left: 0 h 0.2 min\t\n"
      ]
     },
     "execution_count": 26,
     "metadata": {},
     "output_type": "execute_result"
    },
    {
     "data": {
      "text/plain": [
       "it: 353, loss: 0.004420, lr: 0.005000, spd: 49.10 it/s, avgSpd: 49.08 it/s, left: 0 h 0.2 min\t\n"
      ]
     },
     "execution_count": 26,
     "metadata": {},
     "output_type": "execute_result"
    },
    {
     "data": {
      "text/plain": [
       "it: 354, loss: 0.004489, lr: 0.005000, spd: 49.14 it/s, avgSpd: 49.09 it/s, left: 0 h 0.2 min\t\n"
      ]
     },
     "execution_count": 26,
     "metadata": {},
     "output_type": "execute_result"
    },
    {
     "data": {
      "text/plain": [
       "it: 355, loss: 0.004408, lr: 0.005000, spd: 48.91 it/s, avgSpd: 49.07 it/s, left: 0 h 0.2 min\t\n"
      ]
     },
     "execution_count": 26,
     "metadata": {},
     "output_type": "execute_result"
    },
    {
     "data": {
      "text/plain": [
       "it: 356, loss: 0.004463, lr: 0.005000, spd: 49.22 it/s, avgSpd: 49.08 it/s, left: 0 h 0.2 min\t\n"
      ]
     },
     "execution_count": 26,
     "metadata": {},
     "output_type": "execute_result"
    },
    {
     "data": {
      "text/plain": [
       "it: 357, loss: 0.004404, lr: 0.005000, spd: 48.96 it/s, avgSpd: 49.07 it/s, left: 0 h 0.2 min\t\n"
      ]
     },
     "execution_count": 26,
     "metadata": {},
     "output_type": "execute_result"
    },
    {
     "data": {
      "text/plain": [
       "it: 358, loss: 0.004425, lr: 0.005000, spd: 49.16 it/s, avgSpd: 49.08 it/s, left: 0 h 0.2 min\t\n"
      ]
     },
     "execution_count": 26,
     "metadata": {},
     "output_type": "execute_result"
    },
    {
     "data": {
      "text/plain": [
       "it: 359, loss: 0.004400, lr: 0.005000, spd: 49.16 it/s, avgSpd: 49.09 it/s, left: 0 h 0.2 min\t\n"
      ]
     },
     "execution_count": 26,
     "metadata": {},
     "output_type": "execute_result"
    },
    {
     "data": {
      "text/plain": [
       "it: 360, loss: 0.004386, lr: 0.005000, spd: 49.05 it/s, avgSpd: 49.09 it/s, left: 0 h 0.2 min\t\n"
      ]
     },
     "execution_count": 26,
     "metadata": {},
     "output_type": "execute_result"
    },
    {
     "data": {
      "text/plain": [
       "it: 361, loss: 0.004400, lr: 0.005000, spd: 48.98 it/s, avgSpd: 49.08 it/s, left: 0 h 0.2 min\t\n"
      ]
     },
     "execution_count": 26,
     "metadata": {},
     "output_type": "execute_result"
    },
    {
     "data": {
      "text/plain": [
       "it: 362, loss: 0.004358, lr: 0.005000, spd: 49.12 it/s, avgSpd: 49.08 it/s, left: 0 h 0.2 min\t\n"
      ]
     },
     "execution_count": 26,
     "metadata": {},
     "output_type": "execute_result"
    },
    {
     "data": {
      "text/plain": [
       "it: 363, loss: 0.004391, lr: 0.005000, spd: 49.16 it/s, avgSpd: 49.09 it/s, left: 0 h 0.2 min\t\n"
      ]
     },
     "execution_count": 26,
     "metadata": {},
     "output_type": "execute_result"
    },
    {
     "data": {
      "text/plain": [
       "it: 364, loss: 0.004345, lr: 0.005000, spd: 49.08 it/s, avgSpd: 49.09 it/s, left: 0 h 0.2 min\t\n"
      ]
     },
     "execution_count": 26,
     "metadata": {},
     "output_type": "execute_result"
    },
    {
     "data": {
      "text/plain": [
       "it: 365, loss: 0.004364, lr: 0.005000, spd: 49.04 it/s, avgSpd: 49.08 it/s, left: 0 h 0.2 min\t\n"
      ]
     },
     "execution_count": 26,
     "metadata": {},
     "output_type": "execute_result"
    },
    {
     "data": {
      "text/plain": [
       "it: 366, loss: 0.004343, lr: 0.005000, spd: 49.16 it/s, avgSpd: 49.09 it/s, left: 0 h 0.2 min\t\n"
      ]
     },
     "execution_count": 26,
     "metadata": {},
     "output_type": "execute_result"
    },
    {
     "data": {
      "text/plain": [
       "it: 367, loss: 0.004335, lr: 0.005000, spd: 49.13 it/s, avgSpd: 49.09 it/s, left: 0 h 0.2 min\t\n"
      ]
     },
     "execution_count": 26,
     "metadata": {},
     "output_type": "execute_result"
    },
    {
     "data": {
      "text/plain": [
       "it: 368, loss: 0.004341, lr: 0.005000, spd: 49.04 it/s, avgSpd: 49.09 it/s, left: 0 h 0.2 min\t\n"
      ]
     },
     "execution_count": 26,
     "metadata": {},
     "output_type": "execute_result"
    },
    {
     "data": {
      "text/plain": [
       "it: 369, loss: 0.004315, lr: 0.005000, spd: 49.08 it/s, avgSpd: 49.09 it/s, left: 0 h 0.2 min\t\n"
      ]
     },
     "execution_count": 26,
     "metadata": {},
     "output_type": "execute_result"
    },
    {
     "data": {
      "text/plain": [
       "it: 370, loss: 0.004329, lr: 0.005000, spd: 48.95 it/s, avgSpd: 49.07 it/s, left: 0 h 0.2 min\t\n"
      ]
     },
     "execution_count": 26,
     "metadata": {},
     "output_type": "execute_result"
    },
    {
     "data": {
      "text/plain": [
       "it: 371, loss: 0.004307, lr: 0.005000, spd: 49.18 it/s, avgSpd: 49.08 it/s, left: 0 h 0.2 min\t\n"
      ]
     },
     "execution_count": 26,
     "metadata": {},
     "output_type": "execute_result"
    },
    {
     "data": {
      "text/plain": [
       "it: 372, loss: 0.004307, lr: 0.005000, spd: 49.04 it/s, avgSpd: 49.08 it/s, left: 0 h 0.2 min\t\n"
      ]
     },
     "execution_count": 26,
     "metadata": {},
     "output_type": "execute_result"
    },
    {
     "data": {
      "text/plain": [
       "it: 373, loss: 0.004304, lr: 0.005000, spd: 49.08 it/s, avgSpd: 49.08 it/s, left: 0 h 0.2 min\t\n"
      ]
     },
     "execution_count": 26,
     "metadata": {},
     "output_type": "execute_result"
    },
    {
     "data": {
      "text/plain": [
       "it: 374, loss: 0.004288, lr: 0.005000, spd: 49.12 it/s, avgSpd: 49.08 it/s, left: 0 h 0.2 min\t\n"
      ]
     },
     "execution_count": 26,
     "metadata": {},
     "output_type": "execute_result"
    },
    {
     "data": {
      "text/plain": [
       "it: 375, loss: 0.004294, lr: 0.005000, spd: 49.01 it/s, avgSpd: 49.08 it/s, left: 0 h 0.2 min\t\n"
      ]
     },
     "execution_count": 26,
     "metadata": {},
     "output_type": "execute_result"
    },
    {
     "data": {
      "text/plain": [
       "it: 376, loss: 0.004278, lr: 0.005000, spd: 49.17 it/s, avgSpd: 49.08 it/s, left: 0 h 0.2 min\t\n"
      ]
     },
     "execution_count": 26,
     "metadata": {},
     "output_type": "execute_result"
    },
    {
     "data": {
      "text/plain": [
       "it: 377, loss: 0.004277, lr: 0.005000, spd: 49.00 it/s, avgSpd: 49.08 it/s, left: 0 h 0.2 min\t\n"
      ]
     },
     "execution_count": 26,
     "metadata": {},
     "output_type": "execute_result"
    },
    {
     "data": {
      "text/plain": [
       "it: 378, loss: 0.004272, lr: 0.005000, spd: 49.05 it/s, avgSpd: 49.07 it/s, left: 0 h 0.2 min\t\n"
      ]
     },
     "execution_count": 26,
     "metadata": {},
     "output_type": "execute_result"
    },
    {
     "data": {
      "text/plain": [
       "it: 379, loss: 0.004260, lr: 0.005000, spd: 49.01 it/s, avgSpd: 49.07 it/s, left: 0 h 0.2 min\t\n"
      ]
     },
     "execution_count": 26,
     "metadata": {},
     "output_type": "execute_result"
    },
    {
     "data": {
      "text/plain": [
       "it: 380, loss: 0.004264, lr: 0.005000, spd: 49.07 it/s, avgSpd: 49.07 it/s, left: 0 h 0.2 min\t\n"
      ]
     },
     "execution_count": 26,
     "metadata": {},
     "output_type": "execute_result"
    },
    {
     "data": {
      "text/plain": [
       "it: 381, loss: 0.004253, lr: 0.005000, spd: 48.97 it/s, avgSpd: 49.06 it/s, left: 0 h 0.2 min\t\n"
      ]
     },
     "execution_count": 26,
     "metadata": {},
     "output_type": "execute_result"
    },
    {
     "data": {
      "text/plain": [
       "it: 382, loss: 0.004247, lr: 0.005000, spd: 49.02 it/s, avgSpd: 49.05 it/s, left: 0 h 0.2 min\t\n"
      ]
     },
     "execution_count": 26,
     "metadata": {},
     "output_type": "execute_result"
    },
    {
     "data": {
      "text/plain": [
       "it: 383, loss: 0.004246, lr: 0.005000, spd: 49.22 it/s, avgSpd: 49.07 it/s, left: 0 h 0.2 min\t\n"
      ]
     },
     "execution_count": 26,
     "metadata": {},
     "output_type": "execute_result"
    },
    {
     "data": {
      "text/plain": [
       "it: 384, loss: 0.004236, lr: 0.005000, spd: 49.05 it/s, avgSpd: 49.07 it/s, left: 0 h 0.2 min\t\n"
      ]
     },
     "execution_count": 26,
     "metadata": {},
     "output_type": "execute_result"
    },
    {
     "data": {
      "text/plain": [
       "it: 385, loss: 0.004234, lr: 0.005000, spd: 49.16 it/s, avgSpd: 49.08 it/s, left: 0 h 0.2 min\t\n"
      ]
     },
     "execution_count": 26,
     "metadata": {},
     "output_type": "execute_result"
    },
    {
     "data": {
      "text/plain": [
       "it: 386, loss: 0.004229, lr: 0.005000, spd: 49.13 it/s, avgSpd: 49.08 it/s, left: 0 h 0.2 min\t\n"
      ]
     },
     "execution_count": 26,
     "metadata": {},
     "output_type": "execute_result"
    },
    {
     "data": {
      "text/plain": [
       "it: 387, loss: 0.004221, lr: 0.005000, spd: 48.38 it/s, avgSpd: 49.01 it/s, left: 0 h 0.2 min\t\n"
      ]
     },
     "execution_count": 26,
     "metadata": {},
     "output_type": "execute_result"
    },
    {
     "data": {
      "text/plain": [
       "it: 388, loss: 0.004219, lr: 0.005000, spd: 48.74 it/s, avgSpd: 48.99 it/s, left: 0 h 0.2 min\t\n"
      ]
     },
     "execution_count": 26,
     "metadata": {},
     "output_type": "execute_result"
    },
    {
     "data": {
      "text/plain": [
       "it: 389, loss: 0.004213, lr: 0.005000, spd: 48.72 it/s, avgSpd: 48.96 it/s, left: 0 h 0.2 min\t\n"
      ]
     },
     "execution_count": 26,
     "metadata": {},
     "output_type": "execute_result"
    },
    {
     "data": {
      "text/plain": [
       "it: 390, loss: 0.004207, lr: 0.005000, spd: 48.62 it/s, avgSpd: 48.93 it/s, left: 0 h 0.2 min\t\n"
      ]
     },
     "execution_count": 26,
     "metadata": {},
     "output_type": "execute_result"
    },
    {
     "data": {
      "text/plain": [
       "it: 391, loss: 0.004205, lr: 0.005000, spd: 48.68 it/s, avgSpd: 48.90 it/s, left: 0 h 0.2 min\t\n"
      ]
     },
     "execution_count": 26,
     "metadata": {},
     "output_type": "execute_result"
    },
    {
     "data": {
      "text/plain": [
       "it: 392, loss: 0.004198, lr: 0.005000, spd: 48.62 it/s, avgSpd: 48.87 it/s, left: 0 h 0.2 min\t\n"
      ]
     },
     "execution_count": 26,
     "metadata": {},
     "output_type": "execute_result"
    },
    {
     "data": {
      "text/plain": [
       "it: 393, loss: 0.004193, lr: 0.005000, spd: 49.14 it/s, avgSpd: 48.90 it/s, left: 0 h 0.2 min\t\n"
      ]
     },
     "execution_count": 26,
     "metadata": {},
     "output_type": "execute_result"
    },
    {
     "data": {
      "text/plain": [
       "it: 394, loss: 0.004190, lr: 0.005000, spd: 49.49 it/s, avgSpd: 48.96 it/s, left: 0 h 0.2 min\t\n"
      ]
     },
     "execution_count": 26,
     "metadata": {},
     "output_type": "execute_result"
    },
    {
     "data": {
      "text/plain": [
       "it: 395, loss: 0.004184, lr: 0.005000, spd: 49.01 it/s, avgSpd: 48.96 it/s, left: 0 h 0.2 min\t\n"
      ]
     },
     "execution_count": 26,
     "metadata": {},
     "output_type": "execute_result"
    },
    {
     "data": {
      "text/plain": [
       "it: 396, loss: 0.004179, lr: 0.005000, spd: 48.99 it/s, avgSpd: 48.97 it/s, left: 0 h 0.2 min\t\n"
      ]
     },
     "execution_count": 26,
     "metadata": {},
     "output_type": "execute_result"
    },
    {
     "data": {
      "text/plain": [
       "it: 397, loss: 0.004176, lr: 0.005000, spd: 48.97 it/s, avgSpd: 48.97 it/s, left: 0 h 0.2 min\t\n"
      ]
     },
     "execution_count": 26,
     "metadata": {},
     "output_type": "execute_result"
    },
    {
     "data": {
      "text/plain": [
       "it: 398, loss: 0.004170, lr: 0.005000, spd: 49.28 it/s, avgSpd: 49.00 it/s, left: 0 h 0.2 min\t\n"
      ]
     },
     "execution_count": 26,
     "metadata": {},
     "output_type": "execute_result"
    },
    {
     "data": {
      "text/plain": [
       "it: 399, loss: 0.004166, lr: 0.005000, spd: 48.99 it/s, avgSpd: 49.00 it/s, left: 0 h 0.2 min\t\n"
      ]
     },
     "execution_count": 26,
     "metadata": {},
     "output_type": "execute_result"
    },
    {
     "data": {
      "text/plain": [
       "it: 400, loss: 0.004162, lr: 0.005000, spd: 49.12 it/s, avgSpd: 49.01 it/s, left: 0 h 0.2 min\t\n"
      ]
     },
     "execution_count": 26,
     "metadata": {},
     "output_type": "execute_result"
    },
    {
     "data": {
      "text/plain": [
       "it: 401, loss: 0.004157, lr: 0.005000, spd: 49.16 it/s, avgSpd: 49.02 it/s, left: 0 h 0.2 min\t\n"
      ]
     },
     "execution_count": 26,
     "metadata": {},
     "output_type": "execute_result"
    },
    {
     "data": {
      "text/plain": [
       "it: 402, loss: 0.004152, lr: 0.005000, spd: 49.16 it/s, avgSpd: 49.04 it/s, left: 0 h 0.2 min\t\n"
      ]
     },
     "execution_count": 26,
     "metadata": {},
     "output_type": "execute_result"
    },
    {
     "data": {
      "text/plain": [
       "it: 403, loss: 0.004148, lr: 0.005000, spd: 49.08 it/s, avgSpd: 49.04 it/s, left: 0 h 0.2 min\t\n"
      ]
     },
     "execution_count": 26,
     "metadata": {},
     "output_type": "execute_result"
    },
    {
     "data": {
      "text/plain": [
       "it: 404, loss: 0.004144, lr: 0.005000, spd: 49.06 it/s, avgSpd: 49.04 it/s, left: 0 h 0.2 min\t\n"
      ]
     },
     "execution_count": 26,
     "metadata": {},
     "output_type": "execute_result"
    },
    {
     "data": {
      "text/plain": [
       "it: 405, loss: 0.004139, lr: 0.005000, spd: 49.07 it/s, avgSpd: 49.05 it/s, left: 0 h 0.2 min\t\n"
      ]
     },
     "execution_count": 26,
     "metadata": {},
     "output_type": "execute_result"
    },
    {
     "data": {
      "text/plain": [
       "it: 406, loss: 0.004135, lr: 0.005000, spd: 49.31 it/s, avgSpd: 49.07 it/s, left: 0 h 0.2 min\t\n"
      ]
     },
     "execution_count": 26,
     "metadata": {},
     "output_type": "execute_result"
    },
    {
     "data": {
      "text/plain": [
       "it: 407, loss: 0.004131, lr: 0.005000, spd: 49.00 it/s, avgSpd: 49.06 it/s, left: 0 h 0.2 min\t\n"
      ]
     },
     "execution_count": 26,
     "metadata": {},
     "output_type": "execute_result"
    },
    {
     "data": {
      "text/plain": [
       "it: 408, loss: 0.004126, lr: 0.005000, spd: 49.11 it/s, avgSpd: 49.07 it/s, left: 0 h 0.2 min\t\n"
      ]
     },
     "execution_count": 26,
     "metadata": {},
     "output_type": "execute_result"
    },
    {
     "data": {
      "text/plain": [
       "it: 409, loss: 0.004122, lr: 0.005000, spd: 48.85 it/s, avgSpd: 49.05 it/s, left: 0 h 0.2 min\t\n"
      ]
     },
     "execution_count": 26,
     "metadata": {},
     "output_type": "execute_result"
    },
    {
     "data": {
      "text/plain": [
       "it: 410, loss: 0.004118, lr: 0.005000, spd: 49.15 it/s, avgSpd: 49.06 it/s, left: 0 h 0.2 min\t\n"
      ]
     },
     "execution_count": 26,
     "metadata": {},
     "output_type": "execute_result"
    },
    {
     "data": {
      "text/plain": [
       "it: 411, loss: 0.004113, lr: 0.005000, spd: 49.29 it/s, avgSpd: 49.08 it/s, left: 0 h 0.2 min\t\n"
      ]
     },
     "execution_count": 26,
     "metadata": {},
     "output_type": "execute_result"
    },
    {
     "data": {
      "text/plain": [
       "it: 412, loss: 0.004108, lr: 0.005000, spd: 49.08 it/s, avgSpd: 49.08 it/s, left: 0 h 0.2 min\t\n"
      ]
     },
     "execution_count": 26,
     "metadata": {},
     "output_type": "execute_result"
    },
    {
     "data": {
      "text/plain": [
       "it: 413, loss: 0.004104, lr: 0.005000, spd: 49.15 it/s, avgSpd: 49.09 it/s, left: 0 h 0.2 min\t\n"
      ]
     },
     "execution_count": 26,
     "metadata": {},
     "output_type": "execute_result"
    },
    {
     "data": {
      "text/plain": [
       "it: 414, loss: 0.004099, lr: 0.005000, spd: 49.00 it/s, avgSpd: 49.08 it/s, left: 0 h 0.2 min\t\n"
      ]
     },
     "execution_count": 26,
     "metadata": {},
     "output_type": "execute_result"
    },
    {
     "data": {
      "text/plain": [
       "it: 415, loss: 0.004095, lr: 0.005000, spd: 48.38 it/s, avgSpd: 49.01 it/s, left: 0 h 0.2 min\t\n"
      ]
     },
     "execution_count": 26,
     "metadata": {},
     "output_type": "execute_result"
    },
    {
     "data": {
      "text/plain": [
       "it: 416, loss: 0.004090, lr: 0.005000, spd: 49.46 it/s, avgSpd: 49.05 it/s, left: 0 h 0.2 min\t"
      ]
     },
     "execution_count": 26,
     "metadata": {},
     "output_type": "execute_result"
    },
    {
     "data": {
      "text/plain": [
       "\n"
      ]
     },
     "execution_count": 26,
     "metadata": {},
     "output_type": "execute_result"
    },
    {
     "data": {
      "text/plain": [
       "it: 417, loss: 0.004086, lr: 0.005000, spd: 49.10 it/s, avgSpd: 49.06 it/s, left: 0 h 0.2 min\t\n"
      ]
     },
     "execution_count": 26,
     "metadata": {},
     "output_type": "execute_result"
    },
    {
     "data": {
      "text/plain": [
       "it: 418, loss: 0.004081, lr: 0.005000, spd: 48.25 it/s, avgSpd: 48.98 it/s, left: 0 h 0.2 min\t\n"
      ]
     },
     "execution_count": 26,
     "metadata": {},
     "output_type": "execute_result"
    },
    {
     "data": {
      "text/plain": [
       "it: 419, loss: 0.004077, lr: 0.005000, spd: 48.68 it/s, avgSpd: 48.95 it/s, left: 0 h 0.2 min\t\n"
      ]
     },
     "execution_count": 26,
     "metadata": {},
     "output_type": "execute_result"
    },
    {
     "data": {
      "text/plain": [
       "it: 420, loss: 0.004072, lr: 0.005000, spd: 48.86 it/s, avgSpd: 48.94 it/s, left: 0 h 0.2 min\t\n"
      ]
     },
     "execution_count": 26,
     "metadata": {},
     "output_type": "execute_result"
    },
    {
     "data": {
      "text/plain": [
       "it: 421, loss: 0.004067, lr: 0.005000, spd: 48.83 it/s, avgSpd: 48.93 it/s, left: 0 h 0.2 min\t\n"
      ]
     },
     "execution_count": 26,
     "metadata": {},
     "output_type": "execute_result"
    },
    {
     "data": {
      "text/plain": [
       "it: 422, loss: 0.004063, lr: 0.005000, spd: 48.87 it/s, avgSpd: 48.92 it/s, left: 0 h 0.2 min\t\n"
      ]
     },
     "execution_count": 26,
     "metadata": {},
     "output_type": "execute_result"
    },
    {
     "data": {
      "text/plain": [
       "it: 423, loss: 0.004058, lr: 0.005000, spd: 48.75 it/s, avgSpd: 48.91 it/s, left: 0 h 0.2 min\t\n"
      ]
     },
     "execution_count": 26,
     "metadata": {},
     "output_type": "execute_result"
    },
    {
     "data": {
      "text/plain": [
       "it: 424, loss: 0.004054, lr: 0.005000, spd: 44.15 it/s, avgSpd: 48.43 it/s, left: 0 h 0.2 min\t\n"
      ]
     },
     "execution_count": 26,
     "metadata": {},
     "output_type": "execute_result"
    },
    {
     "data": {
      "text/plain": [
       "it: 425, loss: 0.004050, lr: 0.005000, spd: 46.63 it/s, avgSpd: 48.25 it/s, left: 0 h 0.2 min\t\n"
      ]
     },
     "execution_count": 26,
     "metadata": {},
     "output_type": "execute_result"
    },
    {
     "data": {
      "text/plain": [
       "it: 426, loss: 0.004045, lr: 0.005000, spd: 49.06 it/s, avgSpd: 48.33 it/s, left: 0 h 0.2 min\t\n"
      ]
     },
     "execution_count": 26,
     "metadata": {},
     "output_type": "execute_result"
    },
    {
     "data": {
      "text/plain": [
       "it: 427, loss: 0.004040, lr: 0.005000, spd: 49.36 it/s, avgSpd: 48.43 it/s, left: 0 h 0.2 min\t\n"
      ]
     },
     "execution_count": 26,
     "metadata": {},
     "output_type": "execute_result"
    },
    {
     "data": {
      "text/plain": [
       "it: 428, loss: 0.004037, lr: 0.005000, spd: 52.82 it/s, avgSpd: 48.87 it/s, left: 0 h 0.2 min\t\n"
      ]
     },
     "execution_count": 26,
     "metadata": {},
     "output_type": "execute_result"
    },
    {
     "data": {
      "text/plain": [
       "it: 429, loss: 0.004031, lr: 0.005000, spd: 49.00 it/s, avgSpd: 48.89 it/s, left: 0 h 0.2 min\t\n"
      ]
     },
     "execution_count": 26,
     "metadata": {},
     "output_type": "execute_result"
    },
    {
     "data": {
      "text/plain": [
       "it: 430, loss: 0.004027, lr: 0.005000, spd: 49.20 it/s, avgSpd: 48.92 it/s, left: 0 h 0.2 min\t\n"
      ]
     },
     "execution_count": 26,
     "metadata": {},
     "output_type": "execute_result"
    },
    {
     "data": {
      "text/plain": [
       "it: 431, loss: 0.004023, lr: 0.005000, spd: 48.88 it/s, avgSpd: 48.91 it/s, left: 0 h 0.2 min\t\n"
      ]
     },
     "execution_count": 26,
     "metadata": {},
     "output_type": "execute_result"
    },
    {
     "data": {
      "text/plain": [
       "it: 432, loss: 0.004018, lr: 0.005000, spd: 49.11 it/s, avgSpd: 48.93 it/s, left: 0 h 0.2 min\t\n"
      ]
     },
     "execution_count": 26,
     "metadata": {},
     "output_type": "execute_result"
    },
    {
     "data": {
      "text/plain": [
       "it: 433, loss: 0.004015, lr: 0.005000, spd: 49.14 it/s, avgSpd: 48.95 it/s, left: 0 h 0.2 min\t\n"
      ]
     },
     "execution_count": 26,
     "metadata": {},
     "output_type": "execute_result"
    },
    {
     "data": {
      "text/plain": [
       "it: 434, loss: 0.004012, lr: 0.005000, spd: 49.16 it/s, avgSpd: 48.97 it/s, left: 0 h 0.2 min\t\n"
      ]
     },
     "execution_count": 26,
     "metadata": {},
     "output_type": "execute_result"
    },
    {
     "data": {
      "text/plain": [
       "it: 435, loss: 0.004008, lr: 0.005000, spd: 49.07 it/s, avgSpd: 48.98 it/s, left: 0 h 0.2 min\t\n"
      ]
     },
     "execution_count": 26,
     "metadata": {},
     "output_type": "execute_result"
    },
    {
     "data": {
      "text/plain": [
       "it: 436, loss: 0.004003, lr: 0.005000, spd: 49.00 it/s, avgSpd: 48.99 it/s, left: 0 h 0.2 min\t\n"
      ]
     },
     "execution_count": 26,
     "metadata": {},
     "output_type": "execute_result"
    },
    {
     "data": {
      "text/plain": [
       "it: 437, loss: 0.004000, lr: 0.005000, spd: 49.22 it/s, avgSpd: 49.01 it/s, left: 0 h 0.2 min\t\n"
      ]
     },
     "execution_count": 26,
     "metadata": {},
     "output_type": "execute_result"
    },
    {
     "data": {
      "text/plain": [
       "it: 438, loss: 0.003995, lr: 0.005000, spd: 48.96 it/s, avgSpd: 49.00 it/s, left: 0 h 0.2 min\t\n"
      ]
     },
     "execution_count": 26,
     "metadata": {},
     "output_type": "execute_result"
    },
    {
     "data": {
      "text/plain": [
       "it: 439, loss: 0.003994, lr: 0.005000, spd: 49.15 it/s, avgSpd: 49.02 it/s, left: 0 h 0.2 min\t\n"
      ]
     },
     "execution_count": 26,
     "metadata": {},
     "output_type": "execute_result"
    },
    {
     "data": {
      "text/plain": [
       "it: 440, loss: 0.004002, lr: 0.005000, spd: 49.13 it/s, avgSpd: 49.03 it/s, left: 0 h 0.2 min\t\n"
      ]
     },
     "execution_count": 26,
     "metadata": {},
     "output_type": "execute_result"
    },
    {
     "data": {
      "text/plain": [
       "it: 441, loss: 0.004003, lr: 0.005000, spd: 49.08 it/s, avgSpd: 49.04 it/s, left: 0 h 0.2 min\t\n"
      ]
     },
     "execution_count": 26,
     "metadata": {},
     "output_type": "execute_result"
    },
    {
     "data": {
      "text/plain": [
       "it: 442, loss: 0.004006, lr: 0.005000, spd: 49.20 it/s, avgSpd: 49.05 it/s, left: 0 h 0.2 min\t\n"
      ]
     },
     "execution_count": 26,
     "metadata": {},
     "output_type": "execute_result"
    },
    {
     "data": {
      "text/plain": [
       "it: 443, loss: 0.004013, lr: 0.005000, spd: 49.11 it/s, avgSpd: 49.06 it/s, left: 0 h 0.2 min\t\n"
      ]
     },
     "execution_count": 26,
     "metadata": {},
     "output_type": "execute_result"
    },
    {
     "data": {
      "text/plain": [
       "it: 444, loss: 0.004020, lr: 0.005000, spd: 48.97 it/s, avgSpd: 49.05 it/s, left: 0 h 0.2 min\t\n"
      ]
     },
     "execution_count": 26,
     "metadata": {},
     "output_type": "execute_result"
    },
    {
     "data": {
      "text/plain": [
       "it: 445, loss: 0.004036, lr: 0.005000, spd: 48.99 it/s, avgSpd: 49.04 it/s, left: 0 h 0.2 min\t\n"
      ]
     },
     "execution_count": 26,
     "metadata": {},
     "output_type": "execute_result"
    },
    {
     "data": {
      "text/plain": [
       "it: 446, loss: 0.004044, lr: 0.005000, spd: 49.03 it/s, avgSpd: 49.04 it/s, left: 0 h 0.2 min\t\n"
      ]
     },
     "execution_count": 26,
     "metadata": {},
     "output_type": "execute_result"
    },
    {
     "data": {
      "text/plain": [
       "it: 447, loss: 0.004062, lr: 0.005000, spd: 49.16 it/s, avgSpd: 49.05 it/s, left: 0 h 0.2 min\t\n"
      ]
     },
     "execution_count": 26,
     "metadata": {},
     "output_type": "execute_result"
    },
    {
     "data": {
      "text/plain": [
       "it: 448, loss: 0.004052, lr: 0.005000, spd: 48.92 it/s, avgSpd: 49.04 it/s, left: 0 h 0.2 min\t\n"
      ]
     },
     "execution_count": 26,
     "metadata": {},
     "output_type": "execute_result"
    },
    {
     "data": {
      "text/plain": [
       "it: 449, loss: 0.004047, lr: 0.005000, spd: 49.17 it/s, avgSpd: 49.05 it/s, left: 0 h 0.2 min\t\n"
      ]
     },
     "execution_count": 26,
     "metadata": {},
     "output_type": "execute_result"
    },
    {
     "data": {
      "text/plain": [
       "it: 450, loss: 0.004017, lr: 0.005000, spd: 49.15 it/s, avgSpd: 49.06 it/s, left: 0 h 0.2 min\t\n"
      ]
     },
     "execution_count": 26,
     "metadata": {},
     "output_type": "execute_result"
    },
    {
     "data": {
      "text/plain": [
       "it: 451, loss: 0.003997, lr: 0.005000, spd: 49.00 it/s, avgSpd: 49.06 it/s, left: 0 h 0.2 min\t\n"
      ]
     },
     "execution_count": 26,
     "metadata": {},
     "output_type": "execute_result"
    },
    {
     "data": {
      "text/plain": [
       "it: 452, loss: 0.003969, lr: 0.005000, spd: 49.01 it/s, avgSpd: 49.05 it/s, left: 0 h 0.2 min\t\n"
      ]
     },
     "execution_count": 26,
     "metadata": {},
     "output_type": "execute_result"
    },
    {
     "data": {
      "text/plain": [
       "it: 453, loss: 0.003950, lr: 0.005000, spd: 48.90 it/s, avgSpd: 49.04 it/s, left: 0 h 0.2 min\t\n"
      ]
     },
     "execution_count": 26,
     "metadata": {},
     "output_type": "execute_result"
    },
    {
     "data": {
      "text/plain": [
       "it: 454, loss: 0.003940, lr: 0.005000, spd: 49.22 it/s, avgSpd: 49.06 it/s, left: 0 h 0.2 min\t\n"
      ]
     },
     "execution_count": 26,
     "metadata": {},
     "output_type": "execute_result"
    },
    {
     "data": {
      "text/plain": [
       "it: 455, loss: 0.003932, lr: 0.005000, spd: 48.99 it/s, avgSpd: 49.05 it/s, left: 0 h 0.2 min\t\n"
      ]
     },
     "execution_count": 26,
     "metadata": {},
     "output_type": "execute_result"
    },
    {
     "data": {
      "text/plain": [
       "it: 456, loss: 0.003931, lr: 0.005000, spd: 49.08 it/s, avgSpd: 49.05 it/s, left: 0 h 0.2 min\t\n"
      ]
     },
     "execution_count": 26,
     "metadata": {},
     "output_type": "execute_result"
    },
    {
     "data": {
      "text/plain": [
       "it: 457, loss: 0.003935, lr: 0.005000, spd: 48.94 it/s, avgSpd: 49.04 it/s, left: 0 h 0.2 min\t\n"
      ]
     },
     "execution_count": 26,
     "metadata": {},
     "output_type": "execute_result"
    },
    {
     "data": {
      "text/plain": [
       "it: 458, loss: 0.003949, lr: 0.005000, spd: 49.12 it/s, avgSpd: 49.05 it/s, left: 0 h 0.2 min\t\n"
      ]
     },
     "execution_count": 26,
     "metadata": {},
     "output_type": "execute_result"
    },
    {
     "data": {
      "text/plain": [
       "it: 459, loss: 0.003972, lr: 0.005000, spd: 49.11 it/s, avgSpd: 49.06 it/s, left: 0 h 0.2 min\t\n"
      ]
     },
     "execution_count": 26,
     "metadata": {},
     "output_type": "execute_result"
    },
    {
     "data": {
      "text/plain": [
       "it: 460, loss: 0.004034, lr: 0.005000, spd: 49.13 it/s, avgSpd: 49.06 it/s, left: 0 h 0.2 min\t\n"
      ]
     },
     "execution_count": 26,
     "metadata": {},
     "output_type": "execute_result"
    },
    {
     "data": {
      "text/plain": [
       "it: 461, loss: 0.004112, lr: 0.005000, spd: 49.21 it/s, avgSpd: 49.08 it/s, left: 0 h 0.2 min\t\n"
      ]
     },
     "execution_count": 26,
     "metadata": {},
     "output_type": "execute_result"
    },
    {
     "data": {
      "text/plain": [
       "it: 462, loss: 0.004312, lr: 0.005000, spd: 49.10 it/s, avgSpd: 49.08 it/s, left: 0 h 0.2 min\t\n"
      ]
     },
     "execution_count": 26,
     "metadata": {},
     "output_type": "execute_result"
    },
    {
     "data": {
      "text/plain": [
       "it: 463, loss: 0.004348, lr: 0.005000, spd: 49.15 it/s, avgSpd: 49.09 it/s, left: 0 h 0.2 min\t\n"
      ]
     },
     "execution_count": 26,
     "metadata": {},
     "output_type": "execute_result"
    },
    {
     "data": {
      "text/plain": [
       "it: 464, loss: 0.004569, lr: 0.005000, spd: 49.13 it/s, avgSpd: 49.09 it/s, left: 0 h 0.2 min\t\n"
      ]
     },
     "execution_count": 26,
     "metadata": {},
     "output_type": "execute_result"
    },
    {
     "data": {
      "text/plain": [
       "it: 465, loss: 0.004278, lr: 0.005000, spd: 49.02 it/s, avgSpd: 49.08 it/s, left: 0 h 0.2 min\t\n"
      ]
     },
     "execution_count": 26,
     "metadata": {},
     "output_type": "execute_result"
    },
    {
     "data": {
      "text/plain": [
       "it: 466, loss: 0.004120, lr: 0.005000, spd: 49.14 it/s, avgSpd: 49.09 it/s, left: 0 h 0.2 min\t\n"
      ]
     },
     "execution_count": 26,
     "metadata": {},
     "output_type": "execute_result"
    },
    {
     "data": {
      "text/plain": [
       "it: 467, loss: 0.003931, lr: 0.005000, spd: 49.09 it/s, avgSpd: 49.09 it/s, left: 0 h 0.2 min\t\n"
      ]
     },
     "execution_count": 26,
     "metadata": {},
     "output_type": "execute_result"
    },
    {
     "data": {
      "text/plain": [
       "it: 468, loss: 0.003906, lr: 0.005000, spd: 48.78 it/s, avgSpd: 49.06 it/s, left: 0 h 0.2 min\t\n"
      ]
     },
     "execution_count": 26,
     "metadata": {},
     "output_type": "execute_result"
    },
    {
     "data": {
      "text/plain": [
       "it: 469, loss: 0.004001, lr: 0.005000, spd: 49.04 it/s, avgSpd: 49.06 it/s, left: 0 h 0.2 min\t\n"
      ]
     },
     "execution_count": 26,
     "metadata": {},
     "output_type": "execute_result"
    },
    {
     "data": {
      "text/plain": [
       "it: 470, loss: 0.004070, lr: 0.005000, spd: 48.92 it/s, avgSpd: 49.04 it/s, left: 0 h 0.2 min\t\n"
      ]
     },
     "execution_count": 26,
     "metadata": {},
     "output_type": "execute_result"
    },
    {
     "data": {
      "text/plain": [
       "it: 471, loss: 0.004109, lr: 0.005000, spd: 49.34 it/s, avgSpd: 49.07 it/s, left: 0 h 0.2 min\t\n"
      ]
     },
     "execution_count": 26,
     "metadata": {},
     "output_type": "execute_result"
    },
    {
     "data": {
      "text/plain": [
       "it: 472, loss: 0.003982, lr: 0.005000, spd: 48.86 it/s, avgSpd: 49.05 it/s, left: 0 h 0.2 min\t\n"
      ]
     },
     "execution_count": 26,
     "metadata": {},
     "output_type": "execute_result"
    },
    {
     "data": {
      "text/plain": [
       "it: 473, loss: 0.003890, lr: 0.005000, spd: 49.11 it/s, avgSpd: 49.06 it/s, left: 0 h 0.2 min\t\n"
      ]
     },
     "execution_count": 26,
     "metadata": {},
     "output_type": "execute_result"
    },
    {
     "data": {
      "text/plain": [
       "it: 474, loss: 0.003884, lr: 0.005000, spd: 49.20 it/s, avgSpd: 49.07 it/s, left: 0 h 0.2 min\t\n"
      ]
     },
     "execution_count": 26,
     "metadata": {},
     "output_type": "execute_result"
    },
    {
     "data": {
      "text/plain": [
       "it: 475, loss: 0.003945, lr: 0.005000, spd: 49.10 it/s, avgSpd: 49.07 it/s, left: 0 h 0.2 min\t\n"
      ]
     },
     "execution_count": 26,
     "metadata": {},
     "output_type": "execute_result"
    },
    {
     "data": {
      "text/plain": [
       "it: 476, loss: 0.004014, lr: 0.005000, spd: 49.19 it/s, avgSpd: 49.09 it/s, left: 0 h 0.2 min\t\n"
      ]
     },
     "execution_count": 26,
     "metadata": {},
     "output_type": "execute_result"
    },
    {
     "data": {
      "text/plain": [
       "it: 477, loss: 0.003989, lr: 0.005000, spd: 48.90 it/s, avgSpd: 49.07 it/s, left: 0 h 0.2 min\t\n"
      ]
     },
     "execution_count": 26,
     "metadata": {},
     "output_type": "execute_result"
    },
    {
     "data": {
      "text/plain": [
       "it: 478, loss: 0.003944, lr: 0.005000, spd: 49.14 it/s, avgSpd: 49.07 it/s, left: 0 h 0.2 min\t\n"
      ]
     },
     "execution_count": 26,
     "metadata": {},
     "output_type": "execute_result"
    },
    {
     "data": {
      "text/plain": [
       "it: 479, loss: 0.003874, lr: 0.005000, spd: 48.27 it/s, avgSpd: 48.99 it/s, left: 0 h 0.2 min\t\n"
      ]
     },
     "execution_count": 26,
     "metadata": {},
     "output_type": "execute_result"
    },
    {
     "data": {
      "text/plain": [
       "it: 480, loss: 0.003849, lr: 0.005000, spd: 48.64 it/s, avgSpd: 48.96 it/s, left: 0 h 0.2 min\t\n"
      ]
     },
     "execution_count": 26,
     "metadata": {},
     "output_type": "execute_result"
    },
    {
     "data": {
      "text/plain": [
       "it: 481, loss: 0.003866, lr: 0.005000, spd: 48.46 it/s, avgSpd: 48.91 it/s, left: 0 h 0.2 min\t\n"
      ]
     },
     "execution_count": 26,
     "metadata": {},
     "output_type": "execute_result"
    },
    {
     "data": {
      "text/plain": [
       "it: 482, loss: 0.003898, lr: 0.005000, spd: 48.83 it/s, avgSpd: 48.90 it/s, left: 0 h 0.2 min\t\n"
      ]
     },
     "execution_count": 26,
     "metadata": {},
     "output_type": "execute_result"
    },
    {
     "data": {
      "text/plain": [
       "it: 483, loss: 0.003939, lr: 0.005000, spd: 48.61 it/s, avgSpd: 48.87 it/s, left: 0 h 0.2 min\t\n"
      ]
     },
     "execution_count": 26,
     "metadata": {},
     "output_type": "execute_result"
    },
    {
     "data": {
      "text/plain": [
       "it: 484, loss: 0.003936, lr: 0.005000, spd: 48.82 it/s, avgSpd: 48.87 it/s, left: 0 h 0.2 min\t\n"
      ]
     },
     "execution_count": 26,
     "metadata": {},
     "output_type": "execute_result"
    },
    {
     "data": {
      "text/plain": [
       "it: 485, loss: 0.003935, lr: 0.005000, spd: 49.37 it/s, avgSpd: 48.92 it/s, left: 0 h 0.2 min\t\n"
      ]
     },
     "execution_count": 26,
     "metadata": {},
     "output_type": "execute_result"
    },
    {
     "data": {
      "text/plain": [
       "it: 486, loss: 0.003893, lr: 0.005000, spd: 49.02 it/s, avgSpd: 48.93 it/s, left: 0 h 0.2 min\t\n"
      ]
     },
     "execution_count": 26,
     "metadata": {},
     "output_type": "execute_result"
    },
    {
     "data": {
      "text/plain": [
       "it: 487, loss: 0.003862, lr: 0.005000, spd: 49.12 it/s, avgSpd: 48.95 it/s, left: 0 h 0.2 min\t\n"
      ]
     },
     "execution_count": 26,
     "metadata": {},
     "output_type": "execute_result"
    },
    {
     "data": {
      "text/plain": [
       "it: 488, loss: 0.003832, lr: 0.005000, spd: 48.81 it/s, avgSpd: 48.93 it/s, left: 0 h 0.2 min\t\n"
      ]
     },
     "execution_count": 26,
     "metadata": {},
     "output_type": "execute_result"
    },
    {
     "data": {
      "text/plain": [
       "it: 489, loss: 0.003815, lr: 0.005000, spd: 49.29 it/s, avgSpd: 48.97 it/s, left: 0 h 0.2 min\t\n"
      ]
     },
     "execution_count": 26,
     "metadata": {},
     "output_type": "execute_result"
    },
    {
     "data": {
      "text/plain": [
       "it: 490, loss: 0.003809, lr: 0.005000, spd: 48.89 it/s, avgSpd: 48.96 it/s, left: 0 h 0.2 min\t\n"
      ]
     },
     "execution_count": 26,
     "metadata": {},
     "output_type": "execute_result"
    },
    {
     "data": {
      "text/plain": [
       "it: 491, loss: 0.003811, lr: 0.005000, spd: 49.18 it/s, avgSpd: 48.98 it/s, left: 0 h 0.2 min\t\n"
      ]
     },
     "execution_count": 26,
     "metadata": {},
     "output_type": "execute_result"
    },
    {
     "data": {
      "text/plain": [
       "it: 492, loss: 0.003819, lr: 0.005000, spd: 49.15 it/s, avgSpd: 49.00 it/s, left: 0 h 0.2 min\t\n"
      ]
     },
     "execution_count": 26,
     "metadata": {},
     "output_type": "execute_result"
    },
    {
     "data": {
      "text/plain": [
       "it: 493, loss: 0.003830, lr: 0.005000, spd: 49.08 it/s, avgSpd: 49.01 it/s, left: 0 h 0.2 min\t\n"
      ]
     },
     "execution_count": 26,
     "metadata": {},
     "output_type": "execute_result"
    },
    {
     "data": {
      "text/plain": [
       "it: 494, loss: 0.003851, lr: 0.005000, spd: 48.99 it/s, avgSpd: 49.00 it/s, left: 0 h 0.2 min\t\n"
      ]
     },
     "execution_count": 26,
     "metadata": {},
     "output_type": "execute_result"
    },
    {
     "data": {
      "text/plain": [
       "it: 495, loss: 0.003868, lr: 0.005000, spd: 49.02 it/s, avgSpd: 49.01 it/s, left: 0 h 0.2 min\t\n"
      ]
     },
     "execution_count": 26,
     "metadata": {},
     "output_type": "execute_result"
    },
    {
     "data": {
      "text/plain": [
       "it: 496, loss: 0.003907, lr: 0.005000, spd: 48.87 it/s, avgSpd: 48.99 it/s, left: 0 h 0.2 min\t\n"
      ]
     },
     "execution_count": 26,
     "metadata": {},
     "output_type": "execute_result"
    },
    {
     "data": {
      "text/plain": [
       "it: 497, loss: 0.003931, lr: 0.005000, spd: 49.13 it/s, avgSpd: 49.01 it/s, left: 0 h 0.2 min\t\n"
      ]
     },
     "execution_count": 26,
     "metadata": {},
     "output_type": "execute_result"
    },
    {
     "data": {
      "text/plain": [
       "it: 498, loss: 0.004014, lr: 0.005000, spd: 49.02 it/s, avgSpd: 49.01 it/s, left: 0 h 0.2 min\t\n"
      ]
     },
     "execution_count": 26,
     "metadata": {},
     "output_type": "execute_result"
    },
    {
     "data": {
      "text/plain": [
       "it: 499, loss: 0.004044, lr: 0.005000, spd: 48.95 it/s, avgSpd: 49.00 it/s, left: 0 h 0.2 min\t\n"
      ]
     },
     "execution_count": 26,
     "metadata": {},
     "output_type": "execute_result"
    },
    {
     "data": {
      "text/plain": [
       "it: 500, loss: 0.004174, lr: 0.002500, spd: 48.96 it/s, avgSpd: 49.00 it/s, left: 0 h 0.2 min\t\n"
      ]
     },
     "execution_count": 26,
     "metadata": {},
     "output_type": "execute_result"
    },
    {
     "data": {
      "text/plain": [
       "it: 501, loss: 0.003779, lr: 0.002500, spd: 49.08 it/s, avgSpd: 49.01 it/s, left: 0 h 0.2 min\t\n"
      ]
     },
     "execution_count": 26,
     "metadata": {},
     "output_type": "execute_result"
    },
    {
     "data": {
      "text/plain": [
       "it: 502, loss: 0.004120, lr: 0.002500, spd: 48.95 it/s, avgSpd: 49.00 it/s, left: 0 h 0.2 min\t\n"
      ]
     },
     "execution_count": 26,
     "metadata": {},
     "output_type": "execute_result"
    },
    {
     "data": {
      "text/plain": [
       "it: 503, loss: 0.003776, lr: 0.002500, spd: 49.01 it/s, avgSpd: 49.00 it/s, left: 0 h 0.2 min\t\n"
      ]
     },
     "execution_count": 26,
     "metadata": {},
     "output_type": "execute_result"
    },
    {
     "data": {
      "text/plain": [
       "it: 504, loss: 0.004024, lr: 0.002500, spd: 49.14 it/s, avgSpd: 49.02 it/s, left: 0 h 0.2 min\t\n"
      ]
     },
     "execution_count": 26,
     "metadata": {},
     "output_type": "execute_result"
    },
    {
     "data": {
      "text/plain": [
       "it: 505, loss: 0.003766, lr: 0.002500, spd: 48.98 it/s, avgSpd: 49.01 it/s, left: 0 h 0.2 min\t\n"
      ]
     },
     "execution_count": 26,
     "metadata": {},
     "output_type": "execute_result"
    },
    {
     "data": {
      "text/plain": [
       "it: 506, loss: 0.003984, lr: 0.002500, spd: 49.08 it/s, avgSpd: 49.02 it/s, left: 0 h 0.2 min\t\n"
      ]
     },
     "execution_count": 26,
     "metadata": {},
     "output_type": "execute_result"
    },
    {
     "data": {
      "text/plain": [
       "it: 507, loss: 0.003770, lr: 0.002500, spd: 48.94 it/s, avgSpd: 49.01 it/s, left: 0 h 0.2 min\t\n"
      ]
     },
     "execution_count": 26,
     "metadata": {},
     "output_type": "execute_result"
    },
    {
     "data": {
      "text/plain": [
       "it: 508, loss: 0.003917, lr: 0.002500, spd: 49.04 it/s, avgSpd: 49.01 it/s, left: 0 h 0.2 min\t\n"
      ]
     },
     "execution_count": 26,
     "metadata": {},
     "output_type": "execute_result"
    },
    {
     "data": {
      "text/plain": [
       "it: 509, loss: 0.003759, lr: 0.002500, spd: 48.30 it/s, avgSpd: 48.94 it/s, left: 0 h 0.2 min\t\n"
      ]
     },
     "execution_count": 26,
     "metadata": {},
     "output_type": "execute_result"
    },
    {
     "data": {
      "text/plain": [
       "it: 510, loss: 0.003889, lr: 0.002500, spd: 49.32 it/s, avgSpd: 48.98 it/s, left: 0 h 0.2 min\t\n"
      ]
     },
     "execution_count": 26,
     "metadata": {},
     "output_type": "execute_result"
    },
    {
     "data": {
      "text/plain": [
       "it: 511, loss: 0.003757, lr: 0.002500, spd: 49.03 it/s, avgSpd: 48.98 it/s, left: 0 h 0.2 min\t\n"
      ]
     },
     "execution_count": 26,
     "metadata": {},
     "output_type": "execute_result"
    },
    {
     "data": {
      "text/plain": [
       "it: 512, loss: 0.003847, lr: 0.002500, spd: 49.06 it/s, avgSpd: 48.99 it/s, left: 0 h 0.2 min\t\n"
      ]
     },
     "execution_count": 26,
     "metadata": {},
     "output_type": "execute_result"
    },
    {
     "data": {
      "text/plain": [
       "it: 513, loss: 0.003752, lr: 0.002500, spd: 48.19 it/s, avgSpd: 48.91 it/s, left: 0 h 0.2 min\t\n"
      ]
     },
     "execution_count": 26,
     "metadata": {},
     "output_type": "execute_result"
    },
    {
     "data": {
      "text/plain": [
       "it: 514, loss: 0.003825, lr: 0.002500, spd: 48.66 it/s, avgSpd: 48.89 it/s, left: 0 h 0.2 min\t\n"
      ]
     },
     "execution_count": 26,
     "metadata": {},
     "output_type": "execute_result"
    },
    {
     "data": {
      "text/plain": [
       "it: 515, loss: 0.003747, lr: 0.002500, spd: 48.77 it/s, avgSpd: 48.87 it/s, left: 0 h 0.2 min\t\n"
      ]
     },
     "execution_count": 26,
     "metadata": {},
     "output_type": "execute_result"
    },
    {
     "data": {
      "text/plain": [
       "it: 516, loss: 0.003799, lr: 0.002500, spd: 48.66 it/s, avgSpd: 48.85 it/s, left: 0 h 0.2 min\t\n"
      ]
     },
     "execution_count": 26,
     "metadata": {},
     "output_type": "execute_result"
    },
    {
     "data": {
      "text/plain": [
       "it: 517, loss: 0.003739, lr: 0.002500, spd: 48.65 it/s, avgSpd: 48.83 it/s, left: 0 h 0.2 min\t\n"
      ]
     },
     "execution_count": 26,
     "metadata": {},
     "output_type": "execute_result"
    },
    {
     "data": {
      "text/plain": [
       "it: 518, loss: 0.003783, lr: 0.002500, spd: 48.74 it/s, avgSpd: 48.82 it/s, left: 0 h 0.2 min\t\n"
      ]
     },
     "execution_count": 26,
     "metadata": {},
     "output_type": "execute_result"
    },
    {
     "data": {
      "text/plain": [
       "it: 519, loss: 0.003734, lr: 0.002500, spd: 48.86 it/s, avgSpd: 48.83 it/s, left: 0 h 0.2 min\t\n"
      ]
     },
     "execution_count": 26,
     "metadata": {},
     "output_type": "execute_result"
    },
    {
     "data": {
      "text/plain": [
       "it: 520, loss: 0.003768, lr: 0.002500, spd: 47.83 it/s, avgSpd: 48.73 it/s, left: 0 h 0.2 min\t\n"
      ]
     },
     "execution_count": 26,
     "metadata": {},
     "output_type": "execute_result"
    },
    {
     "data": {
      "text/plain": [
       "it: 521, loss: 0.003729, lr: 0.002500, spd: 49.40 it/s, avgSpd: 48.79 it/s, left: 0 h 0.2 min\t\n"
      ]
     },
     "execution_count": 26,
     "metadata": {},
     "output_type": "execute_result"
    },
    {
     "data": {
      "text/plain": [
       "it: 522, loss: 0.003756, lr: 0.002500, spd: 47.88 it/s, avgSpd: 48.70 it/s, left: 0 h 0.2 min\t\n"
      ]
     },
     "execution_count": 26,
     "metadata": {},
     "output_type": "execute_result"
    },
    {
     "data": {
      "text/plain": [
       "it: 523, loss: 0.003721, lr: 0.002500, spd: 50.63 it/s, avgSpd: 48.90 it/s, left: 0 h 0.2 min\t\n"
      ]
     },
     "execution_count": 26,
     "metadata": {},
     "output_type": "execute_result"
    },
    {
     "data": {
      "text/plain": [
       "it: 524, loss: 0.003745, lr: 0.002500, spd: 49.09 it/s, avgSpd: 48.91 it/s, left: 0 h 0.2 min\t\n"
      ]
     },
     "execution_count": 26,
     "metadata": {},
     "output_type": "execute_result"
    },
    {
     "data": {
      "text/plain": [
       "it: 525, loss: 0.003717, lr: 0.002500, spd: 48.85 it/s, avgSpd: 48.91 it/s, left: 0 h 0.2 min\t\n"
      ]
     },
     "execution_count": 26,
     "metadata": {},
     "output_type": "execute_result"
    },
    {
     "data": {
      "text/plain": [
       "it: 526, loss: 0.003734, lr: 0.002500, spd: 49.10 it/s, avgSpd: 48.93 it/s, left: 0 h 0.2 min\t\n"
      ]
     },
     "execution_count": 26,
     "metadata": {},
     "output_type": "execute_result"
    },
    {
     "data": {
      "text/plain": [
       "it: 527, loss: 0.003709, lr: 0.002500, spd: 48.59 it/s, avgSpd: 48.89 it/s, left: 0 h 0.2 min\t\n"
      ]
     },
     "execution_count": 26,
     "metadata": {},
     "output_type": "execute_result"
    },
    {
     "data": {
      "text/plain": [
       "it: 528, loss: 0.003725, lr: 0.002500, spd: 49.16 it/s, avgSpd: 48.92 it/s, left: 0 h 0.2 min\t\n"
      ]
     },
     "execution_count": 26,
     "metadata": {},
     "output_type": "execute_result"
    },
    {
     "data": {
      "text/plain": [
       "it: 529, loss: 0.003706, lr: 0.002500, spd: 49.13 it/s, avgSpd: 48.94 it/s, left: 0 h 0.2 min\t\n"
      ]
     },
     "execution_count": 26,
     "metadata": {},
     "output_type": "execute_result"
    },
    {
     "data": {
      "text/plain": [
       "it: 530, loss: 0.003715, lr: 0.002500, spd: 49.12 it/s, avgSpd: 48.96 it/s, left: 0 h 0.2 min\t\n"
      ]
     },
     "execution_count": 26,
     "metadata": {},
     "output_type": "execute_result"
    },
    {
     "data": {
      "text/plain": [
       "it: 531, loss: 0.003699, lr: 0.002500, spd: 49.12 it/s, avgSpd: 48.98 it/s, left: 0 h 0.2 min\t\n"
      ]
     },
     "execution_count": 26,
     "metadata": {},
     "output_type": "execute_result"
    },
    {
     "data": {
      "text/plain": [
       "it: 532, loss: 0.003707, lr: 0.002500, spd: 49.00 it/s, avgSpd: 48.98 it/s, left: 0 h 0.2 min\t\n"
      ]
     },
     "execution_count": 26,
     "metadata": {},
     "output_type": "execute_result"
    },
    {
     "data": {
      "text/plain": [
       "it: 533, loss: 0.003694, lr: 0.002500, spd: 49.16 it/s, avgSpd: 49.00 it/s, left: 0 h 0.2 min\t\n"
      ]
     },
     "execution_count": 26,
     "metadata": {},
     "output_type": "execute_result"
    },
    {
     "data": {
      "text/plain": [
       "it: 534, loss: 0.003698, lr: 0.002500, spd: 48.98 it/s, avgSpd: 48.99 it/s, left: 0 h 0.2 min\t\n"
      ]
     },
     "execution_count": 26,
     "metadata": {},
     "output_type": "execute_result"
    },
    {
     "data": {
      "text/plain": [
       "it: 535, loss: 0.003689, lr: 0.002500, spd: 49.01 it/s, avgSpd: 49.00 it/s, left: 0 h 0.2 min\t\n"
      ]
     },
     "execution_count": 26,
     "metadata": {},
     "output_type": "execute_result"
    },
    {
     "data": {
      "text/plain": [
       "it: 536, loss: 0.003690, lr: 0.002500, spd: 48.93 it/s, avgSpd: 48.99 it/s, left: 0 h 0.2 min\t\n"
      ]
     },
     "execution_count": 26,
     "metadata": {},
     "output_type": "execute_result"
    },
    {
     "data": {
      "text/plain": [
       "it: 537, loss: 0.003684, lr: 0.002500, spd: 48.98 it/s, avgSpd: 48.99 it/s, left: 0 h 0.2 min\t\n"
      ]
     },
     "execution_count": 26,
     "metadata": {},
     "output_type": "execute_result"
    },
    {
     "data": {
      "text/plain": [
       "it: 538, loss: 0.003684, lr: 0.002500, spd: 49.16 it/s, avgSpd: 49.01 it/s, left: 0 h 0.2 min\t\n"
      ]
     },
     "execution_count": 26,
     "metadata": {},
     "output_type": "execute_result"
    },
    {
     "data": {
      "text/plain": [
       "it: 539, loss: 0.003678, lr: 0.002500, spd: 49.01 it/s, avgSpd: 49.01 it/s, left: 0 h 0.2 min\t\n"
      ]
     },
     "execution_count": 26,
     "metadata": {},
     "output_type": "execute_result"
    },
    {
     "data": {
      "text/plain": [
       "it: 540, loss: 0.003678, lr: 0.002500, spd: 49.06 it/s, avgSpd: 49.01 it/s, left: 0 h 0.2 min\t\n"
      ]
     },
     "execution_count": 26,
     "metadata": {},
     "output_type": "execute_result"
    },
    {
     "data": {
      "text/plain": [
       "it: 541, loss: 0.003672, lr: 0.002500, spd: 49.08 it/s, avgSpd: 49.02 it/s, left: 0 h 0.2 min\t\n"
      ]
     },
     "execution_count": 26,
     "metadata": {},
     "output_type": "execute_result"
    },
    {
     "data": {
      "text/plain": [
       "it: 542, loss: 0.003670, lr: 0.002500, spd: 49.12 it/s, avgSpd: 49.03 it/s, left: 0 h 0.2 min\t\n"
      ]
     },
     "execution_count": 26,
     "metadata": {},
     "output_type": "execute_result"
    },
    {
     "data": {
      "text/plain": [
       "it: 543, loss: 0.003666, lr: 0.002500, spd: 49.00 it/s, avgSpd: 49.02 it/s, left: 0 h 0.2 min\t\n"
      ]
     },
     "execution_count": 26,
     "metadata": {},
     "output_type": "execute_result"
    },
    {
     "data": {
      "text/plain": [
       "it: 544, loss: 0.003661, lr: 0.002500, spd: 49.08 it/s, avgSpd: 49.03 it/s, left: 0 h 0.2 min\t\n"
      ]
     },
     "execution_count": 26,
     "metadata": {},
     "output_type": "execute_result"
    },
    {
     "data": {
      "text/plain": [
       "it: 545, loss: 0.003659, lr: 0.002500, spd: 49.04 it/s, avgSpd: 49.03 it/s, left: 0 h 0.2 min\t\n"
      ]
     },
     "execution_count": 26,
     "metadata": {},
     "output_type": "execute_result"
    },
    {
     "data": {
      "text/plain": [
       "it: 546, loss: 0.003654, lr: 0.002500, spd: 48.83 it/s, avgSpd: 49.01 it/s, left: 0 h 0.2 min\t\n"
      ]
     },
     "execution_count": 26,
     "metadata": {},
     "output_type": "execute_result"
    },
    {
     "data": {
      "text/plain": [
       "it: 547, loss: 0.003653, lr: 0.002500, spd: 49.05 it/s, avgSpd: 49.02 it/s, left: 0 h 0.2 min\t\n"
      ]
     },
     "execution_count": 26,
     "metadata": {},
     "output_type": "execute_result"
    },
    {
     "data": {
      "text/plain": [
       "it: 548, loss: 0.003648, lr: 0.002500, spd: 48.95 it/s, avgSpd: 49.01 it/s, left: 0 h 0.2 min\t\n"
      ]
     },
     "execution_count": 26,
     "metadata": {},
     "output_type": "execute_result"
    },
    {
     "data": {
      "text/plain": [
       "it: 549, loss: 0.003646, lr: 0.002500, spd: 49.08 it/s, avgSpd: 49.02 it/s, left: 0 h 0.2 min\t\n"
      ]
     },
     "execution_count": 26,
     "metadata": {},
     "output_type": "execute_result"
    },
    {
     "data": {
      "text/plain": [
       "it: 550, loss: 0.003642, lr: 0.002500, spd: 48.94 it/s, avgSpd: 49.01 it/s, left: 0 h 0.2 min\t\n"
      ]
     },
     "execution_count": 26,
     "metadata": {},
     "output_type": "execute_result"
    },
    {
     "data": {
      "text/plain": [
       "it: 551, loss: 0.003640, lr: 0.002500, spd: 49.01 it/s, avgSpd: 49.01 it/s, left: 0 h 0.2 min\t\n"
      ]
     },
     "execution_count": 26,
     "metadata": {},
     "output_type": "execute_result"
    },
    {
     "data": {
      "text/plain": [
       "it: 552, loss: 0.003636, lr: 0.002500, spd: 49.11 it/s, avgSpd: 49.02 it/s, left: 0 h 0.2 min\t\n"
      ]
     },
     "execution_count": 26,
     "metadata": {},
     "output_type": "execute_result"
    },
    {
     "data": {
      "text/plain": [
       "it: 553, loss: 0.003631, lr: 0.002500, spd: 48.98 it/s, avgSpd: 49.02 it/s, left: 0 h 0.2 min\t\n"
      ]
     },
     "execution_count": 26,
     "metadata": {},
     "output_type": "execute_result"
    },
    {
     "data": {
      "text/plain": [
       "it: 554, loss: 0.003626, lr: 0.002500, spd: 49.07 it/s, avgSpd: 49.02 it/s, left: 0 h 0.2 min\t\n"
      ]
     },
     "execution_count": 26,
     "metadata": {},
     "output_type": "execute_result"
    },
    {
     "data": {
      "text/plain": [
       "it: 555, loss: 0.003622, lr: 0.002500, spd: 49.01 it/s, avgSpd: 49.02 it/s, left: 0 h 0.2 min\t\n"
      ]
     },
     "execution_count": 26,
     "metadata": {},
     "output_type": "execute_result"
    },
    {
     "data": {
      "text/plain": [
       "it: 556, loss: 0.003620, lr: 0.002500, spd: 49.15 it/s, avgSpd: 49.03 it/s, left: 0 h 0.2 min\t\n"
      ]
     },
     "execution_count": 26,
     "metadata": {},
     "output_type": "execute_result"
    },
    {
     "data": {
      "text/plain": [
       "it: 557, loss: 0.003623, lr: 0.002500, spd: 48.93 it/s, avgSpd: 49.02 it/s, left: 0 h 0.2 min\t\n"
      ]
     },
     "execution_count": 26,
     "metadata": {},
     "output_type": "execute_result"
    },
    {
     "data": {
      "text/plain": [
       "it: 558, loss: 0.003619, lr: 0.002500, spd: 48.94 it/s, avgSpd: 49.01 it/s, left: 0 h 0.2 min\t\n"
      ]
     },
     "execution_count": 26,
     "metadata": {},
     "output_type": "execute_result"
    },
    {
     "data": {
      "text/plain": [
       "it: 559, loss: 0.003613, lr: 0.002500, spd: 49.06 it/s, avgSpd: 49.02 it/s, left: 0 h 0.1 min\t\n"
      ]
     },
     "execution_count": 26,
     "metadata": {},
     "output_type": "execute_result"
    },
    {
     "data": {
      "text/plain": [
       "it: 560, loss: 0.003603, lr: 0.002500, spd: 49.03 it/s, avgSpd: 49.02 it/s, left: 0 h 0.1 min\t\n"
      ]
     },
     "execution_count": 26,
     "metadata": {},
     "output_type": "execute_result"
    },
    {
     "data": {
      "text/plain": [
       "it: 561, loss: 0.003605, lr: 0.002500, spd: 49.08 it/s, avgSpd: 49.03 it/s, left: 0 h 0.1 min\t\n"
      ]
     },
     "execution_count": 26,
     "metadata": {},
     "output_type": "execute_result"
    },
    {
     "data": {
      "text/plain": [
       "it: 562, loss: 0.003608, lr: 0.002500, spd: 49.07 it/s, avgSpd: 49.03 it/s, left: 0 h 0.1 min\t\n"
      ]
     },
     "execution_count": 26,
     "metadata": {},
     "output_type": "execute_result"
    },
    {
     "data": {
      "text/plain": [
       "it: 563, loss: 0.003593, lr: 0.002500, spd: 48.94 it/s, avgSpd: 49.02 it/s, left: 0 h 0.1 min\t\n"
      ]
     },
     "execution_count": 26,
     "metadata": {},
     "output_type": "execute_result"
    },
    {
     "data": {
      "text/plain": [
       "it: 564, loss: 0.003595, lr: 0.002500, spd: 49.04 it/s, avgSpd: 49.02 it/s, left: 0 h 0.1 min\t\n"
      ]
     },
     "execution_count": 26,
     "metadata": {},
     "output_type": "execute_result"
    },
    {
     "data": {
      "text/plain": [
       "it: 565, loss: 0.003598, lr: 0.002500, spd: 48.87 it/s, avgSpd: 49.01 it/s, left: 0 h 0.1 min\t\n"
      ]
     },
     "execution_count": 26,
     "metadata": {},
     "output_type": "execute_result"
    },
    {
     "data": {
      "text/plain": [
       "it: 566, loss: 0.003581, lr: 0.002500, spd: 48.93 it/s, avgSpd: 49.00 it/s, left: 0 h 0.1 min\t\n"
      ]
     },
     "execution_count": 26,
     "metadata": {},
     "output_type": "execute_result"
    },
    {
     "data": {
      "text/plain": [
       "it: 567, loss: 0.003596, lr: 0.002500, spd: 49.11 it/s, avgSpd: 49.01 it/s, left: 0 h 0.1 min\t\n"
      ]
     },
     "execution_count": 26,
     "metadata": {},
     "output_type": "execute_result"
    },
    {
     "data": {
      "text/plain": [
       "it: 568, loss: 0.003584, lr: 0.002500, spd: 49.03 it/s, avgSpd: 49.01 it/s, left: 0 h 0.1 min\t\n"
      ]
     },
     "execution_count": 26,
     "metadata": {},
     "output_type": "execute_result"
    },
    {
     "data": {
      "text/plain": [
       "it: 569, loss: 0.003578, lr: 0.002500, spd: 49.06 it/s, avgSpd: 49.02 it/s, left: 0 h 0.1 min\t\n"
      ]
     },
     "execution_count": 26,
     "metadata": {},
     "output_type": "execute_result"
    },
    {
     "data": {
      "text/plain": [
       "it: 570, loss: 0.003575, lr: 0.002500, spd: 49.11 it/s, avgSpd: 49.03 it/s, left: 0 h 0.1 min\t\n"
      ]
     },
     "execution_count": 26,
     "metadata": {},
     "output_type": "execute_result"
    },
    {
     "data": {
      "text/plain": [
       "it: 571, loss: 0.003567, lr: 0.002500, spd: 49.13 it/s, avgSpd: 49.04 it/s, left: 0 h 0.1 min\t\n"
      ]
     },
     "execution_count": 26,
     "metadata": {},
     "output_type": "execute_result"
    },
    {
     "data": {
      "text/plain": [
       "it: 572, loss: 0.003568, lr: 0.002500, spd: 48.93 it/s, avgSpd: 49.03 it/s, left: 0 h 0.1 min\t\n"
      ]
     },
     "execution_count": 26,
     "metadata": {},
     "output_type": "execute_result"
    },
    {
     "data": {
      "text/plain": [
       "it: 573, loss: 0.003559, lr: 0.002500, spd: 49.13 it/s, avgSpd: 49.04 it/s, left: 0 h 0.1 min\t\n"
      ]
     },
     "execution_count": 26,
     "metadata": {},
     "output_type": "execute_result"
    },
    {
     "data": {
      "text/plain": [
       "it: 574, loss: 0.003560, lr: 0.002500, spd: 48.98 it/s, avgSpd: 49.03 it/s, left: 0 h 0.1 min\t\n"
      ]
     },
     "execution_count": 26,
     "metadata": {},
     "output_type": "execute_result"
    },
    {
     "data": {
      "text/plain": [
       "it: 575, loss: 0.003548, lr: 0.002500, spd: 48.41 it/s, avgSpd: 48.97 it/s, left: 0 h 0.1 min\t\n"
      ]
     },
     "execution_count": 26,
     "metadata": {},
     "output_type": "execute_result"
    },
    {
     "data": {
      "text/plain": [
       "it: 576, loss: 0.003549, lr: 0.002500, spd: 48.69 it/s, avgSpd: 48.94 it/s, left: 0 h 0.1 min\t\n"
      ]
     },
     "execution_count": 26,
     "metadata": {},
     "output_type": "execute_result"
    },
    {
     "data": {
      "text/plain": [
       "it: 577, loss: 0.003535, lr: 0.002500, spd: 48.65 it/s, avgSpd: 48.91 it/s, left: 0 h 0.1 min\t\n"
      ]
     },
     "execution_count": 26,
     "metadata": {},
     "output_type": "execute_result"
    },
    {
     "data": {
      "text/plain": [
       "it: 578, loss: 0.003539, lr: 0.002500, spd: 48.77 it/s, avgSpd: 48.90 it/s, left: 0 h 0.1 min\t\n"
      ]
     },
     "execution_count": 26,
     "metadata": {},
     "output_type": "execute_result"
    },
    {
     "data": {
      "text/plain": [
       "it: 579, loss: 0.003528, lr: 0.002500, spd: 48.56 it/s, avgSpd: 48.86 it/s, left: 0 h 0.1 min\t\n"
      ]
     },
     "execution_count": 26,
     "metadata": {},
     "output_type": "execute_result"
    },
    {
     "data": {
      "text/plain": [
       "it: 580, loss: 0.003524, lr: 0.002500, spd: 49.19 it/s, avgSpd: 48.90 it/s, left: 0 h 0.1 min\t\n"
      ]
     },
     "execution_count": 26,
     "metadata": {},
     "output_type": "execute_result"
    },
    {
     "data": {
      "text/plain": [
       "it: 581, loss: 0.003522, lr: 0.002500, spd: 49.31 it/s, avgSpd: 48.94 it/s, left: 0 h 0.1 min\t\n"
      ]
     },
     "execution_count": 26,
     "metadata": {},
     "output_type": "execute_result"
    },
    {
     "data": {
      "text/plain": [
       "it: 582, loss: 0.003511, lr: 0.002500, spd: 49.14 it/s, avgSpd: 48.96 it/s, left: 0 h 0.1 min\t\n"
      ]
     },
     "execution_count": 26,
     "metadata": {},
     "output_type": "execute_result"
    },
    {
     "data": {
      "text/plain": [
       "it: 583, loss: 0.003510, lr: 0.002500, spd: 49.10 it/s, avgSpd: 48.97 it/s, left: 0 h 0.1 min\t\n"
      ]
     },
     "execution_count": 26,
     "metadata": {},
     "output_type": "execute_result"
    },
    {
     "data": {
      "text/plain": [
       "it: 584, loss: 0.003501, lr: 0.002500, spd: 49.06 it/s, avgSpd: 48.98 it/s, left: 0 h 0.1 min\t\n"
      ]
     },
     "execution_count": 26,
     "metadata": {},
     "output_type": "execute_result"
    },
    {
     "data": {
      "text/plain": [
       "it: 585, loss: 0.003496, lr: 0.002500, spd: 48.86 it/s, avgSpd: 48.97 it/s, left: 0 h 0.1 min\t\n"
      ]
     },
     "execution_count": 26,
     "metadata": {},
     "output_type": "execute_result"
    },
    {
     "data": {
      "text/plain": [
       "it: 586, loss: 0.003490, lr: 0.002500, spd: 49.04 it/s, avgSpd: 48.97 it/s, left: 0 h 0.1 min\t\n"
      ]
     },
     "execution_count": 26,
     "metadata": {},
     "output_type": "execute_result"
    },
    {
     "data": {
      "text/plain": [
       "it: 587, loss: 0.003486, lr: 0.002500, spd: 48.83 it/s, avgSpd: 48.96 it/s, left: 0 h 0.1 min\t\n"
      ]
     },
     "execution_count": 26,
     "metadata": {},
     "output_type": "execute_result"
    },
    {
     "data": {
      "text/plain": [
       "it: 588, loss: 0.003484, lr: 0.002500, spd: 49.01 it/s, avgSpd: 48.97 it/s, left: 0 h 0.1 min\t\n"
      ]
     },
     "execution_count": 26,
     "metadata": {},
     "output_type": "execute_result"
    },
    {
     "data": {
      "text/plain": [
       "it: 589, loss: 0.003488, lr: 0.002500, spd: 49.03 it/s, avgSpd: 48.97 it/s, left: 0 h 0.1 min\t\n"
      ]
     },
     "execution_count": 26,
     "metadata": {},
     "output_type": "execute_result"
    },
    {
     "data": {
      "text/plain": [
       "it: 590, loss: 0.003501, lr: 0.002500, spd: 48.87 it/s, avgSpd: 48.96 it/s, left: 0 h 0.1 min\t\n"
      ]
     },
     "execution_count": 26,
     "metadata": {},
     "output_type": "execute_result"
    },
    {
     "data": {
      "text/plain": [
       "it: 591, loss: 0.003487, lr: 0.002500, spd: 49.02 it/s, avgSpd: 48.97 it/s, left: 0 h 0.1 min\t\n"
      ]
     },
     "execution_count": 26,
     "metadata": {},
     "output_type": "execute_result"
    },
    {
     "data": {
      "text/plain": [
       "it: 592, loss: 0.003483, lr: 0.002500, spd: 49.01 it/s, avgSpd: 48.97 it/s, left: 0 h 0.1 min\t\n"
      ]
     },
     "execution_count": 26,
     "metadata": {},
     "output_type": "execute_result"
    },
    {
     "data": {
      "text/plain": [
       "it: 593, loss: 0.003495, lr: 0.002500, spd: 49.03 it/s, avgSpd: 48.98 it/s, left: 0 h 0.1 min\t\n"
      ]
     },
     "execution_count": 26,
     "metadata": {},
     "output_type": "execute_result"
    },
    {
     "data": {
      "text/plain": [
       "it: 594, loss: 0.003462, lr: 0.002500, spd: 49.08 it/s, avgSpd: 48.99 it/s, left: 0 h 0.1 min\t\n"
      ]
     },
     "execution_count": 26,
     "metadata": {},
     "output_type": "execute_result"
    },
    {
     "data": {
      "text/plain": [
       "it: 595, loss: 0.003485, lr: 0.002500, spd: 48.92 it/s, avgSpd: 48.98 it/s, left: 0 h 0.1 min\t\n"
      ]
     },
     "execution_count": 26,
     "metadata": {},
     "output_type": "execute_result"
    },
    {
     "data": {
      "text/plain": [
       "it: 596, loss: 0.003469, lr: 0.002500, spd: 49.02 it/s, avgSpd: 48.99 it/s, left: 0 h 0.1 min\t\n"
      ]
     },
     "execution_count": 26,
     "metadata": {},
     "output_type": "execute_result"
    },
    {
     "data": {
      "text/plain": [
       "it: 597, loss: 0.003449, lr: 0.002500, spd: 49.15 it/s, avgSpd: 49.00 it/s, left: 0 h 0.1 min\t\n"
      ]
     },
     "execution_count": 26,
     "metadata": {},
     "output_type": "execute_result"
    },
    {
     "data": {
      "text/plain": [
       "it: 598, loss: 0.003466, lr: 0.002500, spd: 49.02 it/s, avgSpd: 49.00 it/s, left: 0 h 0.1 min\t\n"
      ]
     },
     "execution_count": 26,
     "metadata": {},
     "output_type": "execute_result"
    },
    {
     "data": {
      "text/plain": [
       "it: 599, loss: 0.003432, lr: 0.002500, spd: 48.19 it/s, avgSpd: 48.92 it/s, left: 0 h 0.1 min\t\n"
      ]
     },
     "execution_count": 26,
     "metadata": {},
     "output_type": "execute_result"
    },
    {
     "data": {
      "text/plain": [
       "it: 600, loss: 0.003437, lr: 0.002500, spd: 49.38 it/s, avgSpd: 48.97 it/s, left: 0 h 0.1 min\t\n"
      ]
     },
     "execution_count": 26,
     "metadata": {},
     "output_type": "execute_result"
    },
    {
     "data": {
      "text/plain": [
       "it: 601, loss: 0.003438, lr: 0.002500, spd: 48.99 it/s, avgSpd: 48.97 it/s, left: 0 h 0.1 min\t\n"
      ]
     },
     "execution_count": 26,
     "metadata": {},
     "output_type": "execute_result"
    },
    {
     "data": {
      "text/plain": [
       "it: 602, loss: 0.003414, lr: 0.002500, spd: 48.01 it/s, avgSpd: 48.87 it/s, left: 0 h 0.1 min\t\n"
      ]
     },
     "execution_count": 26,
     "metadata": {},
     "output_type": "execute_result"
    },
    {
     "data": {
      "text/plain": [
       "it: 603, loss: 0.003425, lr: 0.002500, spd: 48.74 it/s, avgSpd: 48.86 it/s, left: 0 h 0.1 min\t\n"
      ]
     },
     "execution_count": 26,
     "metadata": {},
     "output_type": "execute_result"
    },
    {
     "data": {
      "text/plain": [
       "it: 604, loss: 0.003407, lr: 0.002500, spd: 48.79 it/s, avgSpd: 48.85 it/s, left: 0 h 0.1 min\t\n"
      ]
     },
     "execution_count": 26,
     "metadata": {},
     "output_type": "execute_result"
    },
    {
     "data": {
      "text/plain": [
       "it: 605, loss: 0.003396, lr: 0.002500, spd: 48.89 it/s, avgSpd: 48.86 it/s, left: 0 h 0.1 min\t\n"
      ]
     },
     "execution_count": 26,
     "metadata": {},
     "output_type": "execute_result"
    },
    {
     "data": {
      "text/plain": [
       "it: 606, loss: 0.003397, lr: 0.002500, spd: 48.72 it/s, avgSpd: 48.84 it/s, left: 0 h 0.1 min\t\n"
      ]
     },
     "execution_count": 26,
     "metadata": {},
     "output_type": "execute_result"
    },
    {
     "data": {
      "text/plain": [
       "it: 607, loss: 0.003384, lr: 0.002500, spd: 48.71 it/s, avgSpd: 48.83 it/s, left: 0 h 0.1 min\t\n"
      ]
     },
     "execution_count": 26,
     "metadata": {},
     "output_type": "execute_result"
    },
    {
     "data": {
      "text/plain": [
       "it: 608, loss: 0.003378, lr: 0.002500, spd: 48.76 it/s, avgSpd: 48.82 it/s, left: 0 h 0.1 min\t\n"
      ]
     },
     "execution_count": 26,
     "metadata": {},
     "output_type": "execute_result"
    },
    {
     "data": {
      "text/plain": [
       "it: 609, loss: 0.003370, lr: 0.002500, spd: 44.43 it/s, avgSpd: 48.38 it/s, left: 0 h 0.1 min\t\n"
      ]
     },
     "execution_count": 26,
     "metadata": {},
     "output_type": "execute_result"
    },
    {
     "data": {
      "text/plain": [
       "it: 610, loss: 0.003366, lr: 0.002500, spd: 50.43 it/s, avgSpd: 48.59 it/s, left: 0 h 0.1 min\t\n"
      ]
     },
     "execution_count": 26,
     "metadata": {},
     "output_type": "execute_result"
    },
    {
     "data": {
      "text/plain": [
       "it: 611, loss: 0.003362, lr: 0.002500, spd: 52.45 it/s, avgSpd: 48.97 it/s, left: 0 h 0.1 min\t\n"
      ]
     },
     "execution_count": 26,
     "metadata": {},
     "output_type": "execute_result"
    },
    {
     "data": {
      "text/plain": [
       "it: 612, loss: 0.003359, lr: 0.002500, spd: 49.19 it/s, avgSpd: 49.00 it/s, left: 0 h 0.1 min\t\n"
      ]
     },
     "execution_count": 26,
     "metadata": {},
     "output_type": "execute_result"
    },
    {
     "data": {
      "text/plain": [
       "it: 613, loss: 0.003348, lr: 0.002500, spd: 49.15 it/s, avgSpd: 49.01 it/s, left: 0 h 0.1 min\t\n"
      ]
     },
     "execution_count": 26,
     "metadata": {},
     "output_type": "execute_result"
    },
    {
     "data": {
      "text/plain": [
       "it: 614, loss: 0.003341, lr: 0.002500, spd: 49.06 it/s, avgSpd: 49.02 it/s, left: 0 h 0.1 min\t\n"
      ]
     },
     "execution_count": 26,
     "metadata": {},
     "output_type": "execute_result"
    },
    {
     "data": {
      "text/plain": [
       "it: 615, loss: 0.003333, lr: 0.002500, spd: 49.04 it/s, avgSpd: 49.02 it/s, left: 0 h 0.1 min\t\n"
      ]
     },
     "execution_count": 26,
     "metadata": {},
     "output_type": "execute_result"
    },
    {
     "data": {
      "text/plain": [
       "it: 616, loss: 0.003330, lr: 0.002500, spd: 48.94 it/s, avgSpd: 49.01 it/s, left: 0 h 0.1 min\t\n"
      ]
     },
     "execution_count": 26,
     "metadata": {},
     "output_type": "execute_result"
    },
    {
     "data": {
      "text/plain": [
       "it: 617, loss: 0.003328, lr: 0.002500, spd: 49.00 it/s, avgSpd: 49.01 it/s, left: 0 h 0.1 min\t\n"
      ]
     },
     "execution_count": 26,
     "metadata": {},
     "output_type": "execute_result"
    },
    {
     "data": {
      "text/plain": [
       "it: 618, loss: 0.003329, lr: 0.002500, spd: 48.89 it/s, avgSpd: 49.00 it/s, left: 0 h 0.1 min\t\n"
      ]
     },
     "execution_count": 26,
     "metadata": {},
     "output_type": "execute_result"
    },
    {
     "data": {
      "text/plain": [
       "it: 619, loss: 0.003329, lr: 0.002500, spd: 49.08 it/s, avgSpd: 49.01 it/s, left: 0 h 0.1 min\t\n"
      ]
     },
     "execution_count": 26,
     "metadata": {},
     "output_type": "execute_result"
    },
    {
     "data": {
      "text/plain": [
       "it: 620, loss: 0.003339, lr: 0.002500, spd: 49.01 it/s, avgSpd: 49.01 it/s, left: 0 h 0.1 min\t\n"
      ]
     },
     "execution_count": 26,
     "metadata": {},
     "output_type": "execute_result"
    },
    {
     "data": {
      "text/plain": [
       "it: 621, loss: 0.003319, lr: 0.002500, spd: 48.90 it/s, avgSpd: 49.00 it/s, left: 0 h 0.1 min\t\n"
      ]
     },
     "execution_count": 26,
     "metadata": {},
     "output_type": "execute_result"
    },
    {
     "data": {
      "text/plain": [
       "it: 622, loss: 0.003306, lr: 0.002500, spd: 49.06 it/s, avgSpd: 49.00 it/s, left: 0 h 0.1 min\t\n"
      ]
     },
     "execution_count": 26,
     "metadata": {},
     "output_type": "execute_result"
    },
    {
     "data": {
      "text/plain": [
       "it: 623, loss: 0.003296, lr: 0.002500, spd: 49.02 it/s, avgSpd: 49.00 it/s, left: 0 h 0.1 min\t\n"
      ]
     },
     "execution_count": 26,
     "metadata": {},
     "output_type": "execute_result"
    },
    {
     "data": {
      "text/plain": [
       "it: 624, loss: 0.003291, lr: 0.002500, spd: 48.95 it/s, avgSpd: 49.00 it/s, left: 0 h 0.1 min\t\n"
      ]
     },
     "execution_count": 26,
     "metadata": {},
     "output_type": "execute_result"
    },
    {
     "data": {
      "text/plain": [
       "it: 625, loss: 0.003296, lr: 0.002500, spd: 48.87 it/s, avgSpd: 48.99 it/s, left: 0 h 0.1 min\t\n"
      ]
     },
     "execution_count": 26,
     "metadata": {},
     "output_type": "execute_result"
    },
    {
     "data": {
      "text/plain": [
       "it: 626, loss: 0.003289, lr: 0.002500, spd: 48.90 it/s, avgSpd: 48.98 it/s, left: 0 h 0.1 min\t\n"
      ]
     },
     "execution_count": 26,
     "metadata": {},
     "output_type": "execute_result"
    },
    {
     "data": {
      "text/plain": [
       "it: 627, loss: 0.003294, lr: 0.002500, spd: 49.24 it/s, avgSpd: 49.00 it/s, left: 0 h 0.1 min\t\n"
      ]
     },
     "execution_count": 26,
     "metadata": {},
     "output_type": "execute_result"
    },
    {
     "data": {
      "text/plain": [
       "it: 628, loss: 0.003274, lr: 0.002500, spd: 48.98 it/s, avgSpd: 49.00 it/s, left: 0 h 0.1 min\t\n"
      ]
     },
     "execution_count": 26,
     "metadata": {},
     "output_type": "execute_result"
    },
    {
     "data": {
      "text/plain": [
       "it: 629, loss: 0.003270, lr: 0.002500, spd: 49.03 it/s, avgSpd: 49.01 it/s, left: 0 h 0.1 min\t\n"
      ]
     },
     "execution_count": 26,
     "metadata": {},
     "output_type": "execute_result"
    },
    {
     "data": {
      "text/plain": [
       "it: 630, loss: 0.003263, lr: 0.002500, spd: 48.93 it/s, avgSpd: 49.00 it/s, left: 0 h 0.1 min\t\n"
      ]
     },
     "execution_count": 26,
     "metadata": {},
     "output_type": "execute_result"
    },
    {
     "data": {
      "text/plain": [
       "it: 631, loss: 0.003266, lr: 0.002500, spd: 48.01 it/s, avgSpd: 48.90 it/s, left: 0 h 0.1 min\t\n"
      ]
     },
     "execution_count": 26,
     "metadata": {},
     "output_type": "execute_result"
    },
    {
     "data": {
      "text/plain": [
       "it: 632, loss: 0.003288, lr: 0.002500, spd: 49.99 it/s, avgSpd: 49.01 it/s, left: 0 h 0.1 min\t\n"
      ]
     },
     "execution_count": 26,
     "metadata": {},
     "output_type": "execute_result"
    },
    {
     "data": {
      "text/plain": [
       "it: 633, loss: 0.003267, lr: 0.002500, spd: 49.06 it/s, avgSpd: 49.01 it/s, left: 0 h 0.1 min\t"
      ]
     },
     "execution_count": 26,
     "metadata": {},
     "output_type": "execute_result"
    },
    {
     "data": {
      "text/plain": [
       "\n"
      ]
     },
     "execution_count": 26,
     "metadata": {},
     "output_type": "execute_result"
    },
    {
     "data": {
      "text/plain": [
       "it: 634, loss: 0.003256, lr: 0.002500, spd: 49.03 it/s, avgSpd: 49.02 it/s, left: 0 h 0.1 min\t\n"
      ]
     },
     "execution_count": 26,
     "metadata": {},
     "output_type": "execute_result"
    },
    {
     "data": {
      "text/plain": [
       "it: 635, loss: 0.003246, lr: 0.002500, spd: 49.12 it/s, avgSpd: 49.03 it/s, left: 0 h 0.1 min\t\n"
      ]
     },
     "execution_count": 26,
     "metadata": {},
     "output_type": "execute_result"
    },
    {
     "data": {
      "text/plain": [
       "it: 636, loss: 0.003223, lr: 0.002500, spd: 48.86 it/s, avgSpd: 49.01 it/s, left: 0 h 0.1 min\t\n"
      ]
     },
     "execution_count": 26,
     "metadata": {},
     "output_type": "execute_result"
    },
    {
     "data": {
      "text/plain": [
       "it: 637, loss: 0.003221, lr: 0.002500, spd: 49.22 it/s, avgSpd: 49.03 it/s, left: 0 h 0.1 min\t\n"
      ]
     },
     "execution_count": 26,
     "metadata": {},
     "output_type": "execute_result"
    },
    {
     "data": {
      "text/plain": [
       "it: 638, loss: 0.003227, lr: 0.002500, spd: 49.04 it/s, avgSpd: 49.03 it/s, left: 0 h 0.1 min\t\n"
      ]
     },
     "execution_count": 26,
     "metadata": {},
     "output_type": "execute_result"
    },
    {
     "data": {
      "text/plain": [
       "it: 639, loss: 0.003231, lr: 0.002500, spd: 48.98 it/s, avgSpd: 49.03 it/s, left: 0 h 0.1 min\t\n"
      ]
     },
     "execution_count": 26,
     "metadata": {},
     "output_type": "execute_result"
    },
    {
     "data": {
      "text/plain": [
       "it: 640, loss: 0.003220, lr: 0.002500, spd: 49.16 it/s, avgSpd: 49.04 it/s, left: 0 h 0.1 min\t\n"
      ]
     },
     "execution_count": 26,
     "metadata": {},
     "output_type": "execute_result"
    },
    {
     "data": {
      "text/plain": [
       "it: 641, loss: 0.003249, lr: 0.002500, spd: 48.64 it/s, avgSpd: 49.00 it/s, left: 0 h 0.1 min\t\n"
      ]
     },
     "execution_count": 26,
     "metadata": {},
     "output_type": "execute_result"
    },
    {
     "data": {
      "text/plain": [
       "it: 642, loss: 0.003195, lr: 0.002500, spd: 49.36 it/s, avgSpd: 49.04 it/s, left: 0 h 0.1 min\t\n"
      ]
     },
     "execution_count": 26,
     "metadata": {},
     "output_type": "execute_result"
    },
    {
     "data": {
      "text/plain": [
       "it: 643, loss: 0.003231, lr: 0.002500, spd: 49.12 it/s, avgSpd: 49.04 it/s, left: 0 h 0.1 min\t\n"
      ]
     },
     "execution_count": 26,
     "metadata": {},
     "output_type": "execute_result"
    },
    {
     "data": {
      "text/plain": [
       "it: 644, loss: 0.003346, lr: 0.002500, spd: 48.86 it/s, avgSpd: 49.03 it/s, left: 0 h 0.1 min\t\n"
      ]
     },
     "execution_count": 26,
     "metadata": {},
     "output_type": "execute_result"
    },
    {
     "data": {
      "text/plain": [
       "it: 645, loss: 0.003272, lr: 0.002500, spd: 49.17 it/s, avgSpd: 49.04 it/s, left: 0 h 0.1 min\t\n"
      ]
     },
     "execution_count": 26,
     "metadata": {},
     "output_type": "execute_result"
    },
    {
     "data": {
      "text/plain": [
       "it: 646, loss: 0.003265, lr: 0.002500, spd: 49.06 it/s, avgSpd: 49.04 it/s, left: 0 h 0.1 min\t\n"
      ]
     },
     "execution_count": 26,
     "metadata": {},
     "output_type": "execute_result"
    },
    {
     "data": {
      "text/plain": [
       "it: 647, loss: 0.003238, lr: 0.002500, spd: 49.01 it/s, avgSpd: 49.04 it/s, left: 0 h 0.1 min\t\n"
      ]
     },
     "execution_count": 26,
     "metadata": {},
     "output_type": "execute_result"
    },
    {
     "data": {
      "text/plain": [
       "it: 648, loss: 0.003254, lr: 0.002500, spd: 49.00 it/s, avgSpd: 49.04 it/s, left: 0 h 0.1 min\t\n"
      ]
     },
     "execution_count": 26,
     "metadata": {},
     "output_type": "execute_result"
    },
    {
     "data": {
      "text/plain": [
       "it: 649, loss: 0.003204, lr: 0.002500, spd: 48.93 it/s, avgSpd: 49.02 it/s, left: 0 h 0.1 min\t\n"
      ]
     },
     "execution_count": 26,
     "metadata": {},
     "output_type": "execute_result"
    },
    {
     "data": {
      "text/plain": [
       "it: 650, loss: 0.003231, lr: 0.002500, spd: 49.06 it/s, avgSpd: 49.03 it/s, left: 0 h 0.1 min\t\n"
      ]
     },
     "execution_count": 26,
     "metadata": {},
     "output_type": "execute_result"
    },
    {
     "data": {
      "text/plain": [
       "it: 651, loss: 0.003194, lr: 0.002500, spd: 49.03 it/s, avgSpd: 49.03 it/s, left: 0 h 0.1 min\t\n"
      ]
     },
     "execution_count": 26,
     "metadata": {},
     "output_type": "execute_result"
    },
    {
     "data": {
      "text/plain": [
       "it: 652, loss: 0.003198, lr: 0.002500, spd: 48.89 it/s, avgSpd: 49.01 it/s, left: 0 h 0.1 min\t\n"
      ]
     },
     "execution_count": 26,
     "metadata": {},
     "output_type": "execute_result"
    },
    {
     "data": {
      "text/plain": [
       "it: 653, loss: 0.003192, lr: 0.002500, spd: 48.97 it/s, avgSpd: 49.01 it/s, left: 0 h 0.1 min\t\n"
      ]
     },
     "execution_count": 26,
     "metadata": {},
     "output_type": "execute_result"
    },
    {
     "data": {
      "text/plain": [
       "it: 654, loss: 0.003175, lr: 0.002500, spd: 49.08 it/s, avgSpd: 49.02 it/s, left: 0 h 0.1 min\t\n"
      ]
     },
     "execution_count": 26,
     "metadata": {},
     "output_type": "execute_result"
    },
    {
     "data": {
      "text/plain": [
       "it: 655, loss: 0.003172, lr: 0.002500, spd: 48.95 it/s, avgSpd: 49.01 it/s, left: 0 h 0.1 min\t\n"
      ]
     },
     "execution_count": 26,
     "metadata": {},
     "output_type": "execute_result"
    },
    {
     "data": {
      "text/plain": [
       "it: 656, loss: 0.003168, lr: 0.002500, spd: 49.04 it/s, avgSpd: 49.01 it/s, left: 0 h 0.1 min\t\n"
      ]
     },
     "execution_count": 26,
     "metadata": {},
     "output_type": "execute_result"
    },
    {
     "data": {
      "text/plain": [
       "it: 657, loss: 0.003146, lr: 0.002500, spd: 49.03 it/s, avgSpd: 49.01 it/s, left: 0 h 0.1 min\t\n"
      ]
     },
     "execution_count": 26,
     "metadata": {},
     "output_type": "execute_result"
    },
    {
     "data": {
      "text/plain": [
       "it: 658, loss: 0.003135, lr: 0.002500, spd: 49.03 it/s, avgSpd: 49.02 it/s, left: 0 h 0.1 min\t\n"
      ]
     },
     "execution_count": 26,
     "metadata": {},
     "output_type": "execute_result"
    },
    {
     "data": {
      "text/plain": [
       "it: 659, loss: 0.003135, lr: 0.002500, spd: 48.99 it/s, avgSpd: 49.01 it/s, left: 0 h 0.1 min\t\n"
      ]
     },
     "execution_count": 26,
     "metadata": {},
     "output_type": "execute_result"
    },
    {
     "data": {
      "text/plain": [
       "it: 660, loss: 0.003123, lr: 0.002500, spd: 48.99 it/s, avgSpd: 49.01 it/s, left: 0 h 0.1 min\t\n"
      ]
     },
     "execution_count": 26,
     "metadata": {},
     "output_type": "execute_result"
    },
    {
     "data": {
      "text/plain": [
       "it: 661, loss: 0.003125, lr: 0.002500, spd: 48.06 it/s, avgSpd: 48.92 it/s, left: 0 h 0.1 min\t\n"
      ]
     },
     "execution_count": 26,
     "metadata": {},
     "output_type": "execute_result"
    },
    {
     "data": {
      "text/plain": [
       "it: 662, loss: 0.003104, lr: 0.002500, spd: 48.70 it/s, avgSpd: 48.89 it/s, left: 0 h 0.1 min\t\n"
      ]
     },
     "execution_count": 26,
     "metadata": {},
     "output_type": "execute_result"
    },
    {
     "data": {
      "text/plain": [
       "it: 663, loss: 0.003108, lr: 0.002500, spd: 48.65 it/s, avgSpd: 48.87 it/s, left: 0 h 0.1 min\t\n"
      ]
     },
     "execution_count": 26,
     "metadata": {},
     "output_type": "execute_result"
    },
    {
     "data": {
      "text/plain": [
       "it: 664, loss: 0.003097, lr: 0.002500, spd: 48.56 it/s, avgSpd: 48.84 it/s, left: 0 h 0.1 min\t\n"
      ]
     },
     "execution_count": 26,
     "metadata": {},
     "output_type": "execute_result"
    },
    {
     "data": {
      "text/plain": [
       "it: 665, loss: 0.003088, lr: 0.002500, spd: 49.16 it/s, avgSpd: 48.87 it/s, left: 0 h 0.1 min\t\n"
      ]
     },
     "execution_count": 26,
     "metadata": {},
     "output_type": "execute_result"
    },
    {
     "data": {
      "text/plain": [
       "it: 666, loss: 0.003077, lr: 0.002500, spd: 49.50 it/s, avgSpd: 48.93 it/s, left: 0 h 0.1 min\t\n"
      ]
     },
     "execution_count": 26,
     "metadata": {},
     "output_type": "execute_result"
    },
    {
     "data": {
      "text/plain": [
       "it: 667, loss: 0.003061, lr: 0.002500, spd: 48.80 it/s, avgSpd: 48.92 it/s, left: 0 h 0.1 min\t\n"
      ]
     },
     "execution_count": 26,
     "metadata": {},
     "output_type": "execute_result"
    },
    {
     "data": {
      "text/plain": [
       "it: 668, loss: 0.003074, lr: 0.002500, spd: 48.95 it/s, avgSpd: 48.92 it/s, left: 0 h 0.1 min\t\n"
      ]
     },
     "execution_count": 26,
     "metadata": {},
     "output_type": "execute_result"
    },
    {
     "data": {
      "text/plain": [
       "it: 669, loss: 0.003054, lr: 0.002500, spd: 48.96 it/s, avgSpd: 48.93 it/s, left: 0 h 0.1 min\t\n"
      ]
     },
     "execution_count": 26,
     "metadata": {},
     "output_type": "execute_result"
    },
    {
     "data": {
      "text/plain": [
       "it: 670, loss: 0.003038, lr: 0.002500, spd: 48.81 it/s, avgSpd: 48.92 it/s, left: 0 h 0.1 min\t\n"
      ]
     },
     "execution_count": 26,
     "metadata": {},
     "output_type": "execute_result"
    },
    {
     "data": {
      "text/plain": [
       "it: 671, loss: 0.003025, lr: 0.002500, spd: 49.08 it/s, avgSpd: 48.93 it/s, left: 0 h 0.1 min\t\n"
      ]
     },
     "execution_count": 26,
     "metadata": {},
     "output_type": "execute_result"
    },
    {
     "data": {
      "text/plain": [
       "it: 672, loss: 0.003028, lr: 0.002500, spd: 48.89 it/s, avgSpd: 48.93 it/s, left: 0 h 0.1 min\t\n"
      ]
     },
     "execution_count": 26,
     "metadata": {},
     "output_type": "execute_result"
    },
    {
     "data": {
      "text/plain": [
       "it: 673, loss: 0.003045, lr: 0.002500, spd: 48.90 it/s, avgSpd: 48.93 it/s, left: 0 h 0.1 min\t\n"
      ]
     },
     "execution_count": 26,
     "metadata": {},
     "output_type": "execute_result"
    },
    {
     "data": {
      "text/plain": [
       "it: 674, loss: 0.003102, lr: 0.002500, spd: 49.11 it/s, avgSpd: 48.94 it/s, left: 0 h 0.1 min\t\n"
      ]
     },
     "execution_count": 26,
     "metadata": {},
     "output_type": "execute_result"
    },
    {
     "data": {
      "text/plain": [
       "it: 675, loss: 0.003067, lr: 0.002500, spd: 49.25 it/s, avgSpd: 48.97 it/s, left: 0 h 0.1 min\t\n"
      ]
     },
     "execution_count": 26,
     "metadata": {},
     "output_type": "execute_result"
    },
    {
     "data": {
      "text/plain": [
       "it: 676, loss: 0.003041, lr: 0.002500, spd: 49.13 it/s, avgSpd: 48.99 it/s, left: 0 h 0.1 min\t\n"
      ]
     },
     "execution_count": 26,
     "metadata": {},
     "output_type": "execute_result"
    },
    {
     "data": {
      "text/plain": [
       "it: 677, loss: 0.003020, lr: 0.002500, spd: 49.01 it/s, avgSpd: 48.99 it/s, left: 0 h 0.1 min\t\n"
      ]
     },
     "execution_count": 26,
     "metadata": {},
     "output_type": "execute_result"
    },
    {
     "data": {
      "text/plain": [
       "it: 678, loss: 0.002980, lr: 0.002500, spd: 49.03 it/s, avgSpd: 49.00 it/s, left: 0 h 0.1 min\t\n"
      ]
     },
     "execution_count": 26,
     "metadata": {},
     "output_type": "execute_result"
    },
    {
     "data": {
      "text/plain": [
       "it: 679, loss: 0.002981, lr: 0.002500, spd: 48.94 it/s, avgSpd: 48.99 it/s, left: 0 h 0.1 min\t\n"
      ]
     },
     "execution_count": 26,
     "metadata": {},
     "output_type": "execute_result"
    },
    {
     "data": {
      "text/plain": [
       "it: 680, loss: 0.002977, lr: 0.002500, spd: 48.98 it/s, avgSpd: 48.99 it/s, left: 0 h 0.1 min\t\n"
      ]
     },
     "execution_count": 26,
     "metadata": {},
     "output_type": "execute_result"
    },
    {
     "data": {
      "text/plain": [
       "it: 681, loss: 0.002967, lr: 0.002500, spd: 48.98 it/s, avgSpd: 48.99 it/s, left: 0 h 0.1 min\t\n"
      ]
     },
     "execution_count": 26,
     "metadata": {},
     "output_type": "execute_result"
    },
    {
     "data": {
      "text/plain": [
       "it: 682, loss: 0.002968, lr: 0.002500, spd: 49.06 it/s, avgSpd: 49.00 it/s, left: 0 h 0.1 min\t\n"
      ]
     },
     "execution_count": 26,
     "metadata": {},
     "output_type": "execute_result"
    },
    {
     "data": {
      "text/plain": [
       "it: 683, loss: 0.002914, lr: 0.002500, spd: 48.96 it/s, avgSpd: 48.99 it/s, left: 0 h 0.1 min\t\n"
      ]
     },
     "execution_count": 26,
     "metadata": {},
     "output_type": "execute_result"
    },
    {
     "data": {
      "text/plain": [
       "it: 684, loss: 0.002920, lr: 0.002500, spd: 49.22 it/s, avgSpd: 49.01 it/s, left: 0 h 0.1 min\t\n"
      ]
     },
     "execution_count": 26,
     "metadata": {},
     "output_type": "execute_result"
    },
    {
     "data": {
      "text/plain": [
       "it: 685, loss: 0.002926, lr: 0.002500, spd: 49.11 it/s, avgSpd: 49.02 it/s, left: 0 h 0.1 min\t\n"
      ]
     },
     "execution_count": 26,
     "metadata": {},
     "output_type": "execute_result"
    },
    {
     "data": {
      "text/plain": [
       "it: 686, loss: 0.002914, lr: 0.002500, spd: 48.90 it/s, avgSpd: 49.01 it/s, left: 0 h 0.1 min\t\n"
      ]
     },
     "execution_count": 26,
     "metadata": {},
     "output_type": "execute_result"
    },
    {
     "data": {
      "text/plain": [
       "it: 687, loss: 0.002923, lr: 0.002500, spd: 49.02 it/s, avgSpd: 49.01 it/s, left: 0 h 0.1 min\t\n"
      ]
     },
     "execution_count": 26,
     "metadata": {},
     "output_type": "execute_result"
    },
    {
     "data": {
      "text/plain": [
       "it: 688, loss: 0.002878, lr: 0.002500, spd: 49.14 it/s, avgSpd: 49.03 it/s, left: 0 h 0.1 min\t\n"
      ]
     },
     "execution_count": 26,
     "metadata": {},
     "output_type": "execute_result"
    },
    {
     "data": {
      "text/plain": [
       "it: 689, loss: 0.002853, lr: 0.002500, spd: 48.09 it/s, avgSpd: 48.93 it/s, left: 0 h 0.1 min\t\n"
      ]
     },
     "execution_count": 26,
     "metadata": {},
     "output_type": "execute_result"
    },
    {
     "data": {
      "text/plain": [
       "it: 690, loss: 0.002865, lr: 0.002500, spd: 49.47 it/s, avgSpd: 48.99 it/s, left: 0 h 0.1 min\t\n"
      ]
     },
     "execution_count": 26,
     "metadata": {},
     "output_type": "execute_result"
    },
    {
     "data": {
      "text/plain": [
       "it: 691, loss: 0.002859, lr: 0.002500, spd: 49.19 it/s, avgSpd: 49.01 it/s, left: 0 h 0.1 min\t\n"
      ]
     },
     "execution_count": 26,
     "metadata": {},
     "output_type": "execute_result"
    },
    {
     "data": {
      "text/plain": [
       "it: 692, loss: 0.002855, lr: 0.002500, spd: 48.17 it/s, avgSpd: 48.92 it/s, left: 0 h 0.1 min\t\n"
      ]
     },
     "execution_count": 26,
     "metadata": {},
     "output_type": "execute_result"
    },
    {
     "data": {
      "text/plain": [
       "it: 693, loss: 0.002826, lr: 0.002500, spd: 48.77 it/s, avgSpd: 48.91 it/s, left: 0 h 0.1 min\t\n"
      ]
     },
     "execution_count": 26,
     "metadata": {},
     "output_type": "execute_result"
    },
    {
     "data": {
      "text/plain": [
       "it: 694, loss: 0.002811, lr: 0.002500, spd: 48.79 it/s, avgSpd: 48.90 it/s, left: 0 h 0.1 min\t\n"
      ]
     },
     "execution_count": 26,
     "metadata": {},
     "output_type": "execute_result"
    },
    {
     "data": {
      "text/plain": [
       "it: 695, loss: 0.002809, lr: 0.002500, spd: 48.79 it/s, avgSpd: 48.88 it/s, left: 0 h 0.1 min\t\n"
      ]
     },
     "execution_count": 26,
     "metadata": {},
     "output_type": "execute_result"
    },
    {
     "data": {
      "text/plain": [
       "it: 696, loss: 0.002817, lr: 0.002500, spd: 48.68 it/s, avgSpd: 48.86 it/s, left: 0 h 0.1 min\t\n"
      ]
     },
     "execution_count": 26,
     "metadata": {},
     "output_type": "execute_result"
    },
    {
     "data": {
      "text/plain": [
       "it: 697, loss: 0.002905, lr: 0.002500, spd: 48.93 it/s, avgSpd: 48.87 it/s, left: 0 h 0.1 min\t\n"
      ]
     },
     "execution_count": 26,
     "metadata": {},
     "output_type": "execute_result"
    },
    {
     "data": {
      "text/plain": [
       "it: 698, loss: 0.002816, lr: 0.002500, spd: 48.84 it/s, avgSpd: 48.87 it/s, left: 0 h 0.1 min\t\n"
      ]
     },
     "execution_count": 26,
     "metadata": {},
     "output_type": "execute_result"
    },
    {
     "data": {
      "text/plain": [
       "it: 699, loss: 0.002814, lr: 0.002500, spd: 44.63 it/s, avgSpd: 48.44 it/s, left: 0 h 0.1 min\t\n"
      ]
     },
     "execution_count": 26,
     "metadata": {},
     "output_type": "execute_result"
    },
    {
     "data": {
      "text/plain": [
       "it: 700, loss: 0.002834, lr: 0.002500, spd: 51.04 it/s, avgSpd: 48.70 it/s, left: 0 h 0.1 min\t\n"
      ]
     },
     "execution_count": 26,
     "metadata": {},
     "output_type": "execute_result"
    },
    {
     "data": {
      "text/plain": [
       "it: 701, loss: 0.002792, lr: 0.002500, spd: 50.41 it/s, avgSpd: 48.87 it/s, left: 0 h 0.1 min\t\n"
      ]
     },
     "execution_count": 26,
     "metadata": {},
     "output_type": "execute_result"
    },
    {
     "data": {
      "text/plain": [
       "it: 702, loss: 0.002775, lr: 0.002500, spd: 48.97 it/s, avgSpd: 48.88 it/s, left: 0 h 0.1 min\t\n"
      ]
     },
     "execution_count": 26,
     "metadata": {},
     "output_type": "execute_result"
    },
    {
     "data": {
      "text/plain": [
       "it: 703, loss: 0.002759, lr: 0.002500, spd: 48.89 it/s, avgSpd: 48.88 it/s, left: 0 h 0.1 min\t\n"
      ]
     },
     "execution_count": 26,
     "metadata": {},
     "output_type": "execute_result"
    },
    {
     "data": {
      "text/plain": [
       "it: 704, loss: 0.002764, lr: 0.002500, spd: 49.22 it/s, avgSpd: 48.92 it/s, left: 0 h 0.1 min\t\n"
      ]
     },
     "execution_count": 26,
     "metadata": {},
     "output_type": "execute_result"
    },
    {
     "data": {
      "text/plain": [
       "it: 705, loss: 0.002751, lr: 0.002500, spd: 49.31 it/s, avgSpd: 48.96 it/s, left: 0 h 0.1 min\t\n"
      ]
     },
     "execution_count": 26,
     "metadata": {},
     "output_type": "execute_result"
    },
    {
     "data": {
      "text/plain": [
       "it: 706, loss: 0.002834, lr: 0.002500, spd: 48.93 it/s, avgSpd: 48.95 it/s, left: 0 h 0.1 min\t\n"
      ]
     },
     "execution_count": 26,
     "metadata": {},
     "output_type": "execute_result"
    },
    {
     "data": {
      "text/plain": [
       "it: 707, loss: 0.002767, lr: 0.002500, spd: 48.99 it/s, avgSpd: 48.96 it/s, left: 0 h 0.1 min\t\n"
      ]
     },
     "execution_count": 26,
     "metadata": {},
     "output_type": "execute_result"
    },
    {
     "data": {
      "text/plain": [
       "it: 708, loss: 0.002777, lr: 0.002500, spd: 48.99 it/s, avgSpd: 48.96 it/s, left: 0 h 0.1 min\t\n"
      ]
     },
     "execution_count": 26,
     "metadata": {},
     "output_type": "execute_result"
    },
    {
     "data": {
      "text/plain": [
       "it: 709, loss: 0.002774, lr: 0.002500, spd: 49.01 it/s, avgSpd: 48.97 it/s, left: 0 h 0.1 min\t\n"
      ]
     },
     "execution_count": 26,
     "metadata": {},
     "output_type": "execute_result"
    },
    {
     "data": {
      "text/plain": [
       "it: 710, loss: 0.002737, lr: 0.002500, spd: 48.97 it/s, avgSpd: 48.97 it/s, left: 0 h 0.1 min\t\n"
      ]
     },
     "execution_count": 26,
     "metadata": {},
     "output_type": "execute_result"
    },
    {
     "data": {
      "text/plain": [
       "it: 711, loss: 0.002719, lr: 0.002500, spd: 49.08 it/s, avgSpd: 48.98 it/s, left: 0 h 0.1 min\t\n"
      ]
     },
     "execution_count": 26,
     "metadata": {},
     "output_type": "execute_result"
    },
    {
     "data": {
      "text/plain": [
       "it: 712, loss: 0.002681, lr: 0.002500, spd: 49.08 it/s, avgSpd: 48.99 it/s, left: 0 h 0.1 min\t\n"
      ]
     },
     "execution_count": 26,
     "metadata": {},
     "output_type": "execute_result"
    },
    {
     "data": {
      "text/plain": [
       "it: 713, loss: 0.002709, lr: 0.002500, spd: 48.99 it/s, avgSpd: 48.99 it/s, left: 0 h 0.1 min\t\n"
      ]
     },
     "execution_count": 26,
     "metadata": {},
     "output_type": "execute_result"
    },
    {
     "data": {
      "text/plain": [
       "it: 714, loss: 0.002691, lr: 0.002500, spd: 49.09 it/s, avgSpd: 49.00 it/s, left: 0 h 0.1 min\t\n"
      ]
     },
     "execution_count": 26,
     "metadata": {},
     "output_type": "execute_result"
    },
    {
     "data": {
      "text/plain": [
       "it: 715, loss: 0.002665, lr: 0.002500, spd: 48.86 it/s, avgSpd: 48.99 it/s, left: 0 h 0.1 min\t\n"
      ]
     },
     "execution_count": 26,
     "metadata": {},
     "output_type": "execute_result"
    },
    {
     "data": {
      "text/plain": [
       "it: 716, loss: 0.002642, lr: 0.002500, spd: 49.03 it/s, avgSpd: 48.99 it/s, left: 0 h 0.1 min\t\n"
      ]
     },
     "execution_count": 26,
     "metadata": {},
     "output_type": "execute_result"
    },
    {
     "data": {
      "text/plain": [
       "it: 717, loss: 0.002605, lr: 0.002500, spd: 49.12 it/s, avgSpd: 49.00 it/s, left: 0 h 0.1 min\t\n"
      ]
     },
     "execution_count": 26,
     "metadata": {},
     "output_type": "execute_result"
    },
    {
     "data": {
      "text/plain": [
       "it: 718, loss: 0.002646, lr: 0.002500, spd: 49.01 it/s, avgSpd: 49.00 it/s, left: 0 h 0.1 min\t\n"
      ]
     },
     "execution_count": 26,
     "metadata": {},
     "output_type": "execute_result"
    },
    {
     "data": {
      "text/plain": [
       "it: 719, loss: 0.002687, lr: 0.002500, spd: 49.05 it/s, avgSpd: 49.01 it/s, left: 0 h 0.1 min\t\n"
      ]
     },
     "execution_count": 26,
     "metadata": {},
     "output_type": "execute_result"
    },
    {
     "data": {
      "text/plain": [
       "it: 720, loss: 0.002833, lr: 0.002500, spd: 49.02 it/s, avgSpd: 49.01 it/s, left: 0 h 0.1 min\t\n"
      ]
     },
     "execution_count": 26,
     "metadata": {},
     "output_type": "execute_result"
    },
    {
     "data": {
      "text/plain": [
       "it: 721, loss: 0.002720, lr: 0.002500, spd: 48.63 it/s, avgSpd: 48.97 it/s, left: 0 h 0.1 min\t\n"
      ]
     },
     "execution_count": 26,
     "metadata": {},
     "output_type": "execute_result"
    },
    {
     "data": {
      "text/plain": [
       "it: 722, loss: 0.002600, lr: 0.002500, spd: 48.81 it/s, avgSpd: 48.95 it/s, left: 0 h 0.1 min\t\n"
      ]
     },
     "execution_count": 26,
     "metadata": {},
     "output_type": "execute_result"
    },
    {
     "data": {
      "text/plain": [
       "it: 723, loss: 0.002603, lr: 0.002500, spd: 49.06 it/s, avgSpd: 48.97 it/s, left: 0 h 0.1 min\t\n"
      ]
     },
     "execution_count": 26,
     "metadata": {},
     "output_type": "execute_result"
    },
    {
     "data": {
      "text/plain": [
       "it: 724, loss: 0.002551, lr: 0.002500, spd: 49.25 it/s, avgSpd: 48.99 it/s, left: 0 h 0.1 min\t\n"
      ]
     },
     "execution_count": 26,
     "metadata": {},
     "output_type": "execute_result"
    },
    {
     "data": {
      "text/plain": [
       "it: 725, loss: 0.002579, lr: 0.002500, spd: 49.02 it/s, avgSpd: 49.00 it/s, left: 0 h 0.1 min\t\n"
      ]
     },
     "execution_count": 26,
     "metadata": {},
     "output_type": "execute_result"
    },
    {
     "data": {
      "text/plain": [
       "it: 726, loss: 0.002536, lr: 0.002500, spd: 48.99 it/s, avgSpd: 49.00 it/s, left: 0 h 0.1 min\t\n"
      ]
     },
     "execution_count": 26,
     "metadata": {},
     "output_type": "execute_result"
    },
    {
     "data": {
      "text/plain": [
       "it: 727, loss: 0.002553, lr: 0.002500, spd: 49.46 it/s, avgSpd: 49.04 it/s, left: 0 h 0.1 min\t\n"
      ]
     },
     "execution_count": 26,
     "metadata": {},
     "output_type": "execute_result"
    },
    {
     "data": {
      "text/plain": [
       "it: 728, loss: 0.002536, lr: 0.002500, spd: 48.97 it/s, avgSpd: 49.03 it/s, left: 0 h 0.1 min\t\n"
      ]
     },
     "execution_count": 26,
     "metadata": {},
     "output_type": "execute_result"
    },
    {
     "data": {
      "text/plain": [
       "it: 729, loss: 0.002528, lr: 0.002500, spd: 49.00 it/s, avgSpd: 49.03 it/s, left: 0 h 0.1 min\t\n"
      ]
     },
     "execution_count": 26,
     "metadata": {},
     "output_type": "execute_result"
    },
    {
     "data": {
      "text/plain": [
       "it: 730, loss: 0.002541, lr: 0.002500, spd: 48.92 it/s, avgSpd: 49.02 it/s, left: 0 h 0.1 min\t\n"
      ]
     },
     "execution_count": 26,
     "metadata": {},
     "output_type": "execute_result"
    },
    {
     "data": {
      "text/plain": [
       "it: 731, loss: 0.002515, lr: 0.002500, spd: 47.73 it/s, avgSpd: 48.89 it/s, left: 0 h 0.1 min\t\n"
      ]
     },
     "execution_count": 26,
     "metadata": {},
     "output_type": "execute_result"
    },
    {
     "data": {
      "text/plain": [
       "it: 732, loss: 0.002493, lr: 0.002500, spd: 50.68 it/s, avgSpd: 49.07 it/s, left: 0 h 0.1 min\t\n"
      ]
     },
     "execution_count": 26,
     "metadata": {},
     "output_type": "execute_result"
    },
    {
     "data": {
      "text/plain": [
       "it: 733, loss: 0.002452, lr: 0.002500, spd: 48.89 it/s, avgSpd: 49.05 it/s, left: 0 h 0.1 min\t\n"
      ]
     },
     "execution_count": 26,
     "metadata": {},
     "output_type": "execute_result"
    },
    {
     "data": {
      "text/plain": [
       "it: 734, loss: 0.002479, lr: 0.002500, spd: 49.06 it/s, avgSpd: 49.05 it/s, left: 0 h 0.1 min\t\n"
      ]
     },
     "execution_count": 26,
     "metadata": {},
     "output_type": "execute_result"
    },
    {
     "data": {
      "text/plain": [
       "it: 735, loss: 0.002462, lr: 0.002500, spd: 49.18 it/s, avgSpd: 49.07 it/s, left: 0 h 0.1 min\t\n"
      ]
     },
     "execution_count": 26,
     "metadata": {},
     "output_type": "execute_result"
    },
    {
     "data": {
      "text/plain": [
       "it: 736, loss: 0.002432, lr: 0.002500, spd: 49.00 it/s, avgSpd: 49.06 it/s, left: 0 h 0.1 min\t\n"
      ]
     },
     "execution_count": 26,
     "metadata": {},
     "output_type": "execute_result"
    },
    {
     "data": {
      "text/plain": [
       "it: 737, loss: 0.002427, lr: 0.002500, spd: 48.89 it/s, avgSpd: 49.04 it/s, left: 0 h 0.1 min\t\n"
      ]
     },
     "execution_count": 26,
     "metadata": {},
     "output_type": "execute_result"
    },
    {
     "data": {
      "text/plain": [
       "it: 738, loss: 0.002402, lr: 0.002500, spd: 49.02 it/s, avgSpd: 49.04 it/s, left: 0 h 0.1 min\t\n"
      ]
     },
     "execution_count": 26,
     "metadata": {},
     "output_type": "execute_result"
    },
    {
     "data": {
      "text/plain": [
       "it: 739, loss: 0.002394, lr: 0.002500, spd: 48.89 it/s, avgSpd: 49.03 it/s, left: 0 h 0.1 min\t\n"
      ]
     },
     "execution_count": 26,
     "metadata": {},
     "output_type": "execute_result"
    },
    {
     "data": {
      "text/plain": [
       "it: 740, loss: 0.002378, lr: 0.002500, spd: 49.12 it/s, avgSpd: 49.03 it/s, left: 0 h 0.1 min\t\n"
      ]
     },
     "execution_count": 26,
     "metadata": {},
     "output_type": "execute_result"
    },
    {
     "data": {
      "text/plain": [
       "it: 741, loss: 0.002377, lr: 0.002500, spd: 48.95 it/s, avgSpd: 49.03 it/s, left: 0 h 0.1 min\t\n"
      ]
     },
     "execution_count": 26,
     "metadata": {},
     "output_type": "execute_result"
    },
    {
     "data": {
      "text/plain": [
       "it: 742, loss: 0.002354, lr: 0.002500, spd: 48.82 it/s, avgSpd: 49.01 it/s, left: 0 h 0.1 min\t\n"
      ]
     },
     "execution_count": 26,
     "metadata": {},
     "output_type": "execute_result"
    },
    {
     "data": {
      "text/plain": [
       "it: 743, loss: 0.002366, lr: 0.002500, spd: 48.95 it/s, avgSpd: 49.00 it/s, left: 0 h 0.1 min\t\n"
      ]
     },
     "execution_count": 26,
     "metadata": {},
     "output_type": "execute_result"
    },
    {
     "data": {
      "text/plain": [
       "it: 744, loss: 0.002394, lr: 0.002500, spd: 49.12 it/s, avgSpd: 49.01 it/s, left: 0 h 0.1 min\t\n"
      ]
     },
     "execution_count": 26,
     "metadata": {},
     "output_type": "execute_result"
    },
    {
     "data": {
      "text/plain": [
       "it: 745, loss: 0.002464, lr: 0.002500, spd: 49.13 it/s, avgSpd: 49.02 it/s, left: 0 h 0.1 min\t\n"
      ]
     },
     "execution_count": 26,
     "metadata": {},
     "output_type": "execute_result"
    },
    {
     "data": {
      "text/plain": [
       "it: 746, loss: 0.002417, lr: 0.002500, spd: 49.07 it/s, avgSpd: 49.03 it/s, left: 0 h 0.1 min\t\n"
      ]
     },
     "execution_count": 26,
     "metadata": {},
     "output_type": "execute_result"
    },
    {
     "data": {
      "text/plain": [
       "it: 747, loss: 0.002371, lr: 0.002500, spd: 49.16 it/s, avgSpd: 49.04 it/s, left: 0 h 0.1 min\t\n"
      ]
     },
     "execution_count": 26,
     "metadata": {},
     "output_type": "execute_result"
    },
    {
     "data": {
      "text/plain": [
       "it: 748, loss: 0.002337, lr: 0.002500, spd: 49.00 it/s, avgSpd: 49.04 it/s, left: 0 h 0.1 min\t\n"
      ]
     },
     "execution_count": 26,
     "metadata": {},
     "output_type": "execute_result"
    },
    {
     "data": {
      "text/plain": [
       "it: 749, loss: 0.002374, lr: 0.002500, spd: 49.02 it/s, avgSpd: 49.04 it/s, left: 0 h 0.1 min\t\n"
      ]
     },
     "execution_count": 26,
     "metadata": {},
     "output_type": "execute_result"
    },
    {
     "data": {
      "text/plain": [
       "it: 750, loss: 0.002430, lr: 0.002500, spd: 49.09 it/s, avgSpd: 49.04 it/s, left: 0 h 0.1 min\t\n"
      ]
     },
     "execution_count": 26,
     "metadata": {},
     "output_type": "execute_result"
    },
    {
     "data": {
      "text/plain": [
       "it: 751, loss: 0.002334, lr: 0.002500, spd: 48.95 it/s, avgSpd: 49.03 it/s, left: 0 h 0.1 min\t\n"
      ]
     },
     "execution_count": 26,
     "metadata": {},
     "output_type": "execute_result"
    },
    {
     "data": {
      "text/plain": [
       "it: 752, loss: 0.002338, lr: 0.002500, spd: 48.26 it/s, avgSpd: 48.96 it/s, left: 0 h 0.1 min\t\n"
      ]
     },
     "execution_count": 26,
     "metadata": {},
     "output_type": "execute_result"
    },
    {
     "data": {
      "text/plain": [
       "it: 753, loss: 0.002282, lr: 0.002500, spd: 48.80 it/s, avgSpd: 48.94 it/s, left: 0 h 0.1 min\t\n"
      ]
     },
     "execution_count": 26,
     "metadata": {},
     "output_type": "execute_result"
    },
    {
     "data": {
      "text/plain": [
       "it: 754, loss: 0.002311, lr: 0.002500, spd: 48.69 it/s, avgSpd: 48.92 it/s, left: 0 h 0.1 min\t\n"
      ]
     },
     "execution_count": 26,
     "metadata": {},
     "output_type": "execute_result"
    },
    {
     "data": {
      "text/plain": [
       "it: 755, loss: 0.002297, lr: 0.002500, spd: 48.70 it/s, avgSpd: 48.89 it/s, left: 0 h 0.1 min\t\n"
      ]
     },
     "execution_count": 26,
     "metadata": {},
     "output_type": "execute_result"
    },
    {
     "data": {
      "text/plain": [
       "it: 756, loss: 0.002279, lr: 0.002500, spd: 48.80 it/s, avgSpd: 48.88 it/s, left: 0 h 0.1 min\t\n"
      ]
     },
     "execution_count": 26,
     "metadata": {},
     "output_type": "execute_result"
    },
    {
     "data": {
      "text/plain": [
       "it: 757, loss: 0.002282, lr: 0.002500, spd: 48.78 it/s, avgSpd: 48.87 it/s, left: 0 h 0.1 min\t\n"
      ]
     },
     "execution_count": 26,
     "metadata": {},
     "output_type": "execute_result"
    },
    {
     "data": {
      "text/plain": [
       "it: 758, loss: 0.002229, lr: 0.002500, spd: 49.20 it/s, avgSpd: 48.91 it/s, left: 0 h 0.1 min\t\n"
      ]
     },
     "execution_count": 26,
     "metadata": {},
     "output_type": "execute_result"
    },
    {
     "data": {
      "text/plain": [
       "it: 759, loss: 0.002244, lr: 0.002500, spd: 49.40 it/s, avgSpd: 48.96 it/s, left: 0 h 0.1 min\t\n"
      ]
     },
     "execution_count": 26,
     "metadata": {},
     "output_type": "execute_result"
    },
    {
     "data": {
      "text/plain": [
       "it: 760, loss: 0.002209, lr: 0.002500, spd: 48.97 it/s, avgSpd: 48.96 it/s, left: 0 h 0.1 min\t\n"
      ]
     },
     "execution_count": 26,
     "metadata": {},
     "output_type": "execute_result"
    },
    {
     "data": {
      "text/plain": [
       "it: 761, loss: 0.002201, lr: 0.002500, spd: 49.10 it/s, avgSpd: 48.97 it/s, left: 0 h 0.1 min\t\n"
      ]
     },
     "execution_count": 26,
     "metadata": {},
     "output_type": "execute_result"
    },
    {
     "data": {
      "text/plain": [
       "it: 762, loss: 0.002183, lr: 0.002500, spd: 49.03 it/s, avgSpd: 48.98 it/s, left: 0 h 0.1 min\t\n"
      ]
     },
     "execution_count": 26,
     "metadata": {},
     "output_type": "execute_result"
    },
    {
     "data": {
      "text/plain": [
       "it: 763, loss: 0.002165, lr: 0.002500, spd: 49.05 it/s, avgSpd: 48.99 it/s, left: 0 h 0.1 min\t\n"
      ]
     },
     "execution_count": 26,
     "metadata": {},
     "output_type": "execute_result"
    },
    {
     "data": {
      "text/plain": [
       "it: 764, loss: 0.002169, lr: 0.002500, spd: 49.10 it/s, avgSpd: 49.00 it/s, left: 0 h 0.1 min\t\n"
      ]
     },
     "execution_count": 26,
     "metadata": {},
     "output_type": "execute_result"
    },
    {
     "data": {
      "text/plain": [
       "it: 765, loss: 0.002140, lr: 0.002500, spd: 48.90 it/s, avgSpd: 48.99 it/s, left: 0 h 0.1 min\t\n"
      ]
     },
     "execution_count": 26,
     "metadata": {},
     "output_type": "execute_result"
    },
    {
     "data": {
      "text/plain": [
       "it: 766, loss: 0.002154, lr: 0.002500, spd: 49.06 it/s, avgSpd: 48.99 it/s, left: 0 h 0.1 min\t\n"
      ]
     },
     "execution_count": 26,
     "metadata": {},
     "output_type": "execute_result"
    },
    {
     "data": {
      "text/plain": [
       "it: 767, loss: 0.002135, lr: 0.002500, spd: 48.97 it/s, avgSpd: 48.99 it/s, left: 0 h 0.1 min\t\n"
      ]
     },
     "execution_count": 26,
     "metadata": {},
     "output_type": "execute_result"
    },
    {
     "data": {
      "text/plain": [
       "it: 768, loss: 0.002135, lr: 0.002500, spd: 49.20 it/s, avgSpd: 49.01 it/s, left: 0 h 0.1 min\t\n"
      ]
     },
     "execution_count": 26,
     "metadata": {},
     "output_type": "execute_result"
    },
    {
     "data": {
      "text/plain": [
       "it: 769, loss: 0.002148, lr: 0.002500, spd: 48.58 it/s, avgSpd: 48.97 it/s, left: 0 h 0.1 min\t\n"
      ]
     },
     "execution_count": 26,
     "metadata": {},
     "output_type": "execute_result"
    },
    {
     "data": {
      "text/plain": [
       "it: 770, loss: 0.002170, lr: 0.002500, spd: 49.12 it/s, avgSpd: 48.98 it/s, left: 0 h 0.1 min\t\n"
      ]
     },
     "execution_count": 26,
     "metadata": {},
     "output_type": "execute_result"
    },
    {
     "data": {
      "text/plain": [
       "it: 771, loss: 0.002207, lr: 0.002500, spd: 48.91 it/s, avgSpd: 48.98 it/s, left: 0 h 0.1 min\t\n"
      ]
     },
     "execution_count": 26,
     "metadata": {},
     "output_type": "execute_result"
    },
    {
     "data": {
      "text/plain": [
       "it: 772, loss: 0.002143, lr: 0.002500, spd: 48.96 it/s, avgSpd: 48.97 it/s, left: 0 h 0.1 min\t\n"
      ]
     },
     "execution_count": 26,
     "metadata": {},
     "output_type": "execute_result"
    },
    {
     "data": {
      "text/plain": [
       "it: 773, loss: 0.002104, lr: 0.002500, spd: 49.10 it/s, avgSpd: 48.99 it/s, left: 0 h 0.1 min\t\n"
      ]
     },
     "execution_count": 26,
     "metadata": {},
     "output_type": "execute_result"
    },
    {
     "data": {
      "text/plain": [
       "it: 774, loss: 0.002078, lr: 0.002500, spd: 48.95 it/s, avgSpd: 48.98 it/s, left: 0 h 0.1 min\t\n"
      ]
     },
     "execution_count": 26,
     "metadata": {},
     "output_type": "execute_result"
    },
    {
     "data": {
      "text/plain": [
       "it: 775, loss: 0.002050, lr: 0.002500, spd: 49.07 it/s, avgSpd: 48.99 it/s, left: 0 h 0.1 min\t\n"
      ]
     },
     "execution_count": 26,
     "metadata": {},
     "output_type": "execute_result"
    },
    {
     "data": {
      "text/plain": [
       "it: 776, loss: 0.002038, lr: 0.002500, spd: 49.09 it/s, avgSpd: 49.00 it/s, left: 0 h 0.1 min\t\n"
      ]
     },
     "execution_count": 26,
     "metadata": {},
     "output_type": "execute_result"
    },
    {
     "data": {
      "text/plain": [
       "it: 777, loss: 0.002056, lr: 0.002500, spd: 48.83 it/s, avgSpd: 48.98 it/s, left: 0 h 0.1 min\t\n"
      ]
     },
     "execution_count": 26,
     "metadata": {},
     "output_type": "execute_result"
    },
    {
     "data": {
      "text/plain": [
       "it: 778, loss: 0.002116, lr: 0.002500, spd: 48.44 it/s, avgSpd: 48.93 it/s, left: 0 h 0.1 min\t\n"
      ]
     },
     "execution_count": 26,
     "metadata": {},
     "output_type": "execute_result"
    },
    {
     "data": {
      "text/plain": [
       "it: 779, loss: 0.002130, lr: 0.002500, spd: 49.54 it/s, avgSpd: 48.99 it/s, left: 0 h 0.1 min\t\n"
      ]
     },
     "execution_count": 26,
     "metadata": {},
     "output_type": "execute_result"
    },
    {
     "data": {
      "text/plain": [
       "it: 780, loss: 0.002100, lr: 0.002500, spd: 49.04 it/s, avgSpd: 49.00 it/s, left: 0 h 0.1 min\t\n"
      ]
     },
     "execution_count": 26,
     "metadata": {},
     "output_type": "execute_result"
    },
    {
     "data": {
      "text/plain": [
       "it: 781, loss: 0.002019, lr: 0.002500, spd: 48.22 it/s, avgSpd: 48.92 it/s, left: 0 h 0.1 min\t\n"
      ]
     },
     "execution_count": 26,
     "metadata": {},
     "output_type": "execute_result"
    },
    {
     "data": {
      "text/plain": [
       "it: 782, loss: 0.002070, lr: 0.002500, spd: 48.52 it/s, avgSpd: 48.88 it/s, left: 0 h 0.1 min\t\n"
      ]
     },
     "execution_count": 26,
     "metadata": {},
     "output_type": "execute_result"
    },
    {
     "data": {
      "text/plain": [
       "it: 783, loss: 0.002100, lr: 0.002500, spd: 48.78 it/s, avgSpd: 48.87 it/s, left: 0 h 0.1 min\t\n"
      ]
     },
     "execution_count": 26,
     "metadata": {},
     "output_type": "execute_result"
    },
    {
     "data": {
      "text/plain": [
       "it: 784, loss: 0.002066, lr: 0.002500, spd: 48.65 it/s, avgSpd: 48.85 it/s, left: 0 h 0.1 min\t\n"
      ]
     },
     "execution_count": 26,
     "metadata": {},
     "output_type": "execute_result"
    },
    {
     "data": {
      "text/plain": [
       "it: 785, loss: 0.002069, lr: 0.002500, spd: 48.69 it/s, avgSpd: 48.83 it/s, left: 0 h 0.1 min\t\n"
      ]
     },
     "execution_count": 26,
     "metadata": {},
     "output_type": "execute_result"
    },
    {
     "data": {
      "text/plain": [
       "it: 786, loss: 0.002023, lr: 0.002500, spd: 48.72 it/s, avgSpd: 48.82 it/s, left: 0 h 0.1 min\t\n"
      ]
     },
     "execution_count": 26,
     "metadata": {},
     "output_type": "execute_result"
    },
    {
     "data": {
      "text/plain": [
       "it: 787, loss: 0.002020, lr: 0.002500, spd: 46.77 it/s, avgSpd: 48.61 it/s, left: 0 h 0.1 min\t\n"
      ]
     },
     "execution_count": 26,
     "metadata": {},
     "output_type": "execute_result"
    },
    {
     "data": {
      "text/plain": [
       "it: 788, loss: 0.002004, lr: 0.002500, spd: 48.95 it/s, avgSpd: 48.65 it/s, left: 0 h 0.1 min\t\n"
      ]
     },
     "execution_count": 26,
     "metadata": {},
     "output_type": "execute_result"
    },
    {
     "data": {
      "text/plain": [
       "it: 789, loss: 0.002016, lr: 0.002500, spd: 50.92 it/s, avgSpd: 48.88 it/s, left: 0 h 0.1 min\t\n"
      ]
     },
     "execution_count": 26,
     "metadata": {},
     "output_type": "execute_result"
    },
    {
     "data": {
      "text/plain": [
       "it: 790, loss: 0.002000, lr: 0.002500, spd: 49.10 it/s, avgSpd: 48.90 it/s, left: 0 h 0.1 min\t\n"
      ]
     },
     "execution_count": 26,
     "metadata": {},
     "output_type": "execute_result"
    },
    {
     "data": {
      "text/plain": [
       "it: 791, loss: 0.002004, lr: 0.002500, spd: 49.00 it/s, avgSpd: 48.91 it/s, left: 0 h 0.1 min\t\n"
      ]
     },
     "execution_count": 26,
     "metadata": {},
     "output_type": "execute_result"
    },
    {
     "data": {
      "text/plain": [
       "it: 792, loss: 0.001966, lr: 0.002500, spd: 49.15 it/s, avgSpd: 48.93 it/s, left: 0 h 0.1 min\t\n"
      ]
     },
     "execution_count": 26,
     "metadata": {},
     "output_type": "execute_result"
    },
    {
     "data": {
      "text/plain": [
       "it: 793, loss: 0.001972, lr: 0.002500, spd: 49.00 it/s, avgSpd: 48.94 it/s, left: 0 h 0.1 min\t\n"
      ]
     },
     "execution_count": 26,
     "metadata": {},
     "output_type": "execute_result"
    },
    {
     "data": {
      "text/plain": [
       "it: 794, loss: 0.001955, lr: 0.002500, spd: 48.92 it/s, avgSpd: 48.94 it/s, left: 0 h 0.1 min\t\n"
      ]
     },
     "execution_count": 26,
     "metadata": {},
     "output_type": "execute_result"
    },
    {
     "data": {
      "text/plain": [
       "it: 795, loss: 0.001945, lr: 0.002500, spd: 48.92 it/s, avgSpd: 48.93 it/s, left: 0 h 0.1 min\t\n"
      ]
     },
     "execution_count": 26,
     "metadata": {},
     "output_type": "execute_result"
    },
    {
     "data": {
      "text/plain": [
       "it: 796, loss: 0.001927, lr: 0.002500, spd: 48.82 it/s, avgSpd: 48.92 it/s, left: 0 h 0.1 min\t\n"
      ]
     },
     "execution_count": 26,
     "metadata": {},
     "output_type": "execute_result"
    },
    {
     "data": {
      "text/plain": [
       "it: 797, loss: 0.001901, lr: 0.002500, spd: 49.25 it/s, avgSpd: 48.96 it/s, left: 0 h 0.1 min\t\n"
      ]
     },
     "execution_count": 26,
     "metadata": {},
     "output_type": "execute_result"
    },
    {
     "data": {
      "text/plain": [
       "it: 798, loss: 0.001921, lr: 0.002500, spd: 48.99 it/s, avgSpd: 48.96 it/s, left: 0 h 0.1 min\t\n"
      ]
     },
     "execution_count": 26,
     "metadata": {},
     "output_type": "execute_result"
    },
    {
     "data": {
      "text/plain": [
       "it: 799, loss: 0.001883, lr: 0.002500, spd: 49.09 it/s, avgSpd: 48.97 it/s, left: 0 h 0.1 min\t\n"
      ]
     },
     "execution_count": 26,
     "metadata": {},
     "output_type": "execute_result"
    },
    {
     "data": {
      "text/plain": [
       "it: 800, loss: 0.001872, lr: 0.001250, spd: 49.05 it/s, avgSpd: 48.98 it/s, left: 0 h 0.1 min\t\n"
      ]
     },
     "execution_count": 26,
     "metadata": {},
     "output_type": "execute_result"
    },
    {
     "data": {
      "text/plain": [
       "it: 801, loss: 0.001841, lr: 0.001250, spd: 48.98 it/s, avgSpd: 48.98 it/s, left: 0 h 0.1 min\t\n"
      ]
     },
     "execution_count": 26,
     "metadata": {},
     "output_type": "execute_result"
    },
    {
     "data": {
      "text/plain": [
       "it: 802, loss: 0.001833, lr: 0.001250, spd: 49.07 it/s, avgSpd: 48.99 it/s, left: 0 h 0.1 min\t\n"
      ]
     },
     "execution_count": 26,
     "metadata": {},
     "output_type": "execute_result"
    },
    {
     "data": {
      "text/plain": [
       "it: 803, loss: 0.001838, lr: 0.001250, spd: 48.95 it/s, avgSpd: 48.99 it/s, left: 0 h 0.1 min\t\n"
      ]
     },
     "execution_count": 26,
     "metadata": {},
     "output_type": "execute_result"
    },
    {
     "data": {
      "text/plain": [
       "it: 804, loss: 0.001823, lr: 0.001250, spd: 49.10 it/s, avgSpd: 49.00 it/s, left: 0 h 0.1 min\t\n"
      ]
     },
     "execution_count": 26,
     "metadata": {},
     "output_type": "execute_result"
    },
    {
     "data": {
      "text/plain": [
       "it: 805, loss: 0.001809, lr: 0.001250, spd: 49.19 it/s, avgSpd: 49.02 it/s, left: 0 h 0.1 min\t\n"
      ]
     },
     "execution_count": 26,
     "metadata": {},
     "output_type": "execute_result"
    },
    {
     "data": {
      "text/plain": [
       "it: 806, loss: 0.001816, lr: 0.001250, spd: 49.08 it/s, avgSpd: 49.02 it/s, left: 0 h 0.1 min\t\n"
      ]
     },
     "execution_count": 26,
     "metadata": {},
     "output_type": "execute_result"
    },
    {
     "data": {
      "text/plain": [
       "it: 807, loss: 0.001799, lr: 0.001250, spd: 49.10 it/s, avgSpd: 49.03 it/s, left: 0 h 0.1 min\t\n"
      ]
     },
     "execution_count": 26,
     "metadata": {},
     "output_type": "execute_result"
    },
    {
     "data": {
      "text/plain": [
       "it: 808, loss: 0.001796, lr: 0.001250, spd: 48.96 it/s, avgSpd: 49.02 it/s, left: 0 h 0.1 min\t\n"
      ]
     },
     "execution_count": 26,
     "metadata": {},
     "output_type": "execute_result"
    },
    {
     "data": {
      "text/plain": [
       "it: 809, loss: 0.001794, lr: 0.001250, spd: 49.16 it/s, avgSpd: 49.04 it/s, left: 0 h 0.1 min\t\n"
      ]
     },
     "execution_count": 26,
     "metadata": {},
     "output_type": "execute_result"
    },
    {
     "data": {
      "text/plain": [
       "it: 810, loss: 0.001786, lr: 0.001250, spd: 49.01 it/s, avgSpd: 49.03 it/s, left: 0 h 0.1 min\t\n"
      ]
     },
     "execution_count": 26,
     "metadata": {},
     "output_type": "execute_result"
    },
    {
     "data": {
      "text/plain": [
       "it: 811, loss: 0.001775, lr: 0.001250, spd: 49.07 it/s, avgSpd: 49.04 it/s, left: 0 h 0.1 min\t\n"
      ]
     },
     "execution_count": 26,
     "metadata": {},
     "output_type": "execute_result"
    },
    {
     "data": {
      "text/plain": [
       "it: 812, loss: 0.001776, lr: 0.001250, spd: 49.05 it/s, avgSpd: 49.04 it/s, left: 0 h 0.1 min\t\n"
      ]
     },
     "execution_count": 26,
     "metadata": {},
     "output_type": "execute_result"
    },
    {
     "data": {
      "text/plain": [
       "it: 813, loss: 0.001767, lr: 0.001250, spd: 49.16 it/s, avgSpd: 49.05 it/s, left: 0 h 0.1 min\t\n"
      ]
     },
     "execution_count": 26,
     "metadata": {},
     "output_type": "execute_result"
    },
    {
     "data": {
      "text/plain": [
       "it: 814, loss: 0.001763, lr: 0.001250, spd: 49.12 it/s, avgSpd: 49.06 it/s, left: 0 h 0.1 min\t\n"
      ]
     },
     "execution_count": 26,
     "metadata": {},
     "output_type": "execute_result"
    },
    {
     "data": {
      "text/plain": [
       "it: 815, loss: 0.001760, lr: 0.001250, spd: 49.02 it/s, avgSpd: 49.06 it/s, left: 0 h 0.1 min\t\n"
      ]
     },
     "execution_count": 26,
     "metadata": {},
     "output_type": "execute_result"
    },
    {
     "data": {
      "text/plain": [
       "it: 816, loss: 0.001750, lr: 0.001250, spd: 49.05 it/s, avgSpd: 49.05 it/s, left: 0 h 0.1 min\t\n"
      ]
     },
     "execution_count": 26,
     "metadata": {},
     "output_type": "execute_result"
    },
    {
     "data": {
      "text/plain": [
       "it: 817, loss: 0.001747, lr: 0.001250, spd: 48.83 it/s, avgSpd: 49.03 it/s, left: 0 h 0.1 min\t\n"
      ]
     },
     "execution_count": 26,
     "metadata": {},
     "output_type": "execute_result"
    },
    {
     "data": {
      "text/plain": [
       "it: 818, loss: 0.001743, lr: 0.001250, spd: 49.00 it/s, avgSpd: 49.03 it/s, left: 0 h 0.1 min\t\n"
      ]
     },
     "execution_count": 26,
     "metadata": {},
     "output_type": "execute_result"
    },
    {
     "data": {
      "text/plain": [
       "it: 819, loss: 0.001736, lr: 0.001250, spd: 49.09 it/s, avgSpd: 49.03 it/s, left: 0 h 0.1 min\t\n"
      ]
     },
     "execution_count": 26,
     "metadata": {},
     "output_type": "execute_result"
    },
    {
     "data": {
      "text/plain": [
       "it: 820, loss: 0.001733, lr: 0.001250, spd: 48.81 it/s, avgSpd: 49.01 it/s, left: 0 h 0.1 min\t\n"
      ]
     },
     "execution_count": 26,
     "metadata": {},
     "output_type": "execute_result"
    },
    {
     "data": {
      "text/plain": [
       "it: 821, loss: 0.001728, lr: 0.001250, spd: 49.25 it/s, avgSpd: 49.04 it/s, left: 0 h 0.1 min\t\n"
      ]
     },
     "execution_count": 26,
     "metadata": {},
     "output_type": "execute_result"
    },
    {
     "data": {
      "text/plain": [
       "it: 822, loss: 0.001722, lr: 0.001250, spd: 49.03 it/s, avgSpd: 49.03 it/s, left: 0 h 0.1 min\t\n"
      ]
     },
     "execution_count": 26,
     "metadata": {},
     "output_type": "execute_result"
    },
    {
     "data": {
      "text/plain": [
       "it: 823, loss: 0.001720, lr: 0.001250, spd: 49.00 it/s, avgSpd: 49.03 it/s, left: 0 h 0.1 min\t\n"
      ]
     },
     "execution_count": 26,
     "metadata": {},
     "output_type": "execute_result"
    },
    {
     "data": {
      "text/plain": [
       "it: 824, loss: 0.001713, lr: 0.001250, spd: 49.00 it/s, avgSpd: 49.03 it/s, left: 0 h 0.1 min\t\n"
      ]
     },
     "execution_count": 26,
     "metadata": {},
     "output_type": "execute_result"
    },
    {
     "data": {
      "text/plain": [
       "it: 825, loss: 0.001709, lr: 0.001250, spd: 48.83 it/s, avgSpd: 49.01 it/s, left: 0 h 0.1 min\t\n"
      ]
     },
     "execution_count": 26,
     "metadata": {},
     "output_type": "execute_result"
    },
    {
     "data": {
      "text/plain": [
       "it: 826, loss: 0.001705, lr: 0.001250, spd: 48.96 it/s, avgSpd: 49.00 it/s, left: 0 h 0.1 min\t\n"
      ]
     },
     "execution_count": 26,
     "metadata": {},
     "output_type": "execute_result"
    },
    {
     "data": {
      "text/plain": [
       "it: 827, loss: 0.001700, lr: 0.001250, spd: 48.89 it/s, avgSpd: 48.99 it/s, left: 0 h 0.1 min\t\n"
      ]
     },
     "execution_count": 26,
     "metadata": {},
     "output_type": "execute_result"
    },
    {
     "data": {
      "text/plain": [
       "it: 828, loss: 0.001696, lr: 0.001250, spd: 49.03 it/s, avgSpd: 49.00 it/s, left: 0 h 0.1 min\t\n"
      ]
     },
     "execution_count": 26,
     "metadata": {},
     "output_type": "execute_result"
    },
    {
     "data": {
      "text/plain": [
       "it: 829, loss: 0.001693, lr: 0.001250, spd: 49.08 it/s, avgSpd: 49.00 it/s, left: 0 h 0.1 min\t\n"
      ]
     },
     "execution_count": 26,
     "metadata": {},
     "output_type": "execute_result"
    },
    {
     "data": {
      "text/plain": [
       "it: 830, loss: 0.001688, lr: 0.001250, spd: 49.04 it/s, avgSpd: 49.01 it/s, left: 0 h 0.1 min\t\n"
      ]
     },
     "execution_count": 26,
     "metadata": {},
     "output_type": "execute_result"
    },
    {
     "data": {
      "text/plain": [
       "it: 831, loss: 0.001683, lr: 0.001250, spd: 49.04 it/s, avgSpd: 49.01 it/s, left: 0 h 0.1 min\t\n"
      ]
     },
     "execution_count": 26,
     "metadata": {},
     "output_type": "execute_result"
    },
    {
     "data": {
      "text/plain": [
       "it: 832, loss: 0.001679, lr: 0.001250, spd: 49.00 it/s, avgSpd: 49.01 it/s, left: 0 h 0.1 min\t\n"
      ]
     },
     "execution_count": 26,
     "metadata": {},
     "output_type": "execute_result"
    },
    {
     "data": {
      "text/plain": [
       "it: 833, loss: 0.001676, lr: 0.001250, spd: 48.95 it/s, avgSpd: 49.00 it/s, left: 0 h 0.1 min\t\n"
      ]
     },
     "execution_count": 26,
     "metadata": {},
     "output_type": "execute_result"
    },
    {
     "data": {
      "text/plain": [
       "it: 834, loss: 0.001672, lr: 0.001250, spd: 48.95 it/s, avgSpd: 49.00 it/s, left: 0 h 0.1 min\t\n"
      ]
     },
     "execution_count": 26,
     "metadata": {},
     "output_type": "execute_result"
    },
    {
     "data": {
      "text/plain": [
       "it: 835, loss: 0.001668, lr: 0.001250, spd: 49.03 it/s, avgSpd: 49.00 it/s, left: 0 h 0.1 min\t\n"
      ]
     },
     "execution_count": 26,
     "metadata": {},
     "output_type": "execute_result"
    },
    {
     "data": {
      "text/plain": [
       "it: 836, loss: 0.001663, lr: 0.001250, spd: 48.95 it/s, avgSpd: 49.00 it/s, left: 0 h 0.1 min\t\n"
      ]
     },
     "execution_count": 26,
     "metadata": {},
     "output_type": "execute_result"
    },
    {
     "data": {
      "text/plain": [
       "it: 837, loss: 0.001660, lr: 0.001250, spd: 49.10 it/s, avgSpd: 49.01 it/s, left: 0 h 0.1 min\t\n"
      ]
     },
     "execution_count": 26,
     "metadata": {},
     "output_type": "execute_result"
    },
    {
     "data": {
      "text/plain": [
       "it: 838, loss: 0.001657, lr: 0.001250, spd: 48.99 it/s, avgSpd: 49.01 it/s, left: 0 h 0.1 min\t\n"
      ]
     },
     "execution_count": 26,
     "metadata": {},
     "output_type": "execute_result"
    },
    {
     "data": {
      "text/plain": [
       "it: 839, loss: 0.001654, lr: 0.001250, spd: 49.14 it/s, avgSpd: 49.02 it/s, left: 0 h 0.1 min\t\n"
      ]
     },
     "execution_count": 26,
     "metadata": {},
     "output_type": "execute_result"
    },
    {
     "data": {
      "text/plain": [
       "it: 840, loss: 0.001650, lr: 0.001250, spd: 48.18 it/s, avgSpd: 48.94 it/s, left: 0 h 0.1 min\t\n"
      ]
     },
     "execution_count": 26,
     "metadata": {},
     "output_type": "execute_result"
    },
    {
     "data": {
      "text/plain": [
       "it: 841, loss: 0.001646, lr: 0.001250, spd: 48.59 it/s, avgSpd: 48.90 it/s, left: 0 h 0.1 min\t\n"
      ]
     },
     "execution_count": 26,
     "metadata": {},
     "output_type": "execute_result"
    },
    {
     "data": {
      "text/plain": [
       "it: 842, loss: 0.001644, lr: 0.001250, spd: 48.72 it/s, avgSpd: 48.88 it/s, left: 0 h 0.1 min\t\n"
      ]
     },
     "execution_count": 26,
     "metadata": {},
     "output_type": "execute_result"
    },
    {
     "data": {
      "text/plain": [
       "it: 843, loss: 0.001642, lr: 0.001250, spd: 48.79 it/s, avgSpd: 48.87 it/s, left: 0 h 0.1 min\t\n"
      ]
     },
     "execution_count": 26,
     "metadata": {},
     "output_type": "execute_result"
    },
    {
     "data": {
      "text/plain": [
       "it: 844, loss: 0.001638, lr: 0.001250, spd: 48.61 it/s, avgSpd: 48.85 it/s, left: 0 h 0.1 min\t\n"
      ]
     },
     "execution_count": 26,
     "metadata": {},
     "output_type": "execute_result"
    },
    {
     "data": {
      "text/plain": [
       "it: 845, loss: 0.001632, lr: 0.001250, spd: 48.84 it/s, avgSpd: 48.85 it/s, left: 0 h 0.1 min\t\n"
      ]
     },
     "execution_count": 26,
     "metadata": {},
     "output_type": "execute_result"
    },
    {
     "data": {
      "text/plain": [
       "it: 846, loss: 0.001628, lr: 0.001250, spd: 49.32 it/s, avgSpd: 48.89 it/s, left: 0 h 0.1 min\t\n"
      ]
     },
     "execution_count": 26,
     "metadata": {},
     "output_type": "execute_result"
    },
    {
     "data": {
      "text/plain": [
       "it: 847, loss: 0.001624, lr: 0.001250, spd: 49.01 it/s, avgSpd: 48.91 it/s, left: 0 h 0.1 min\t\n"
      ]
     },
     "execution_count": 26,
     "metadata": {},
     "output_type": "execute_result"
    },
    {
     "data": {
      "text/plain": [
       "it: 848, loss: 0.001622, lr: 0.001250, spd: 48.90 it/s, avgSpd: 48.91 it/s, left: 0 h 0.1 min\t\n"
      ]
     },
     "execution_count": 26,
     "metadata": {},
     "output_type": "execute_result"
    },
    {
     "data": {
      "text/plain": [
       "it: 849, loss: 0.001619, lr: 0.001250, spd: 48.94 it/s, avgSpd: 48.91 it/s, left: 0 h 0.1 min\t\n"
      ]
     },
     "execution_count": 26,
     "metadata": {},
     "output_type": "execute_result"
    },
    {
     "data": {
      "text/plain": [
       "it: 850, loss: 0.001614, lr: 0.001250, spd: 49.15 it/s, avgSpd: 48.93 it/s, left: 0 h 0.1 min\t\n"
      ]
     },
     "execution_count": 26,
     "metadata": {},
     "output_type": "execute_result"
    },
    {
     "data": {
      "text/plain": [
       "it: 851, loss: 0.001609, lr: 0.001250, spd: 49.03 it/s, avgSpd: 48.94 it/s, left: 0 h 0.1 min\t\n"
      ]
     },
     "execution_count": 26,
     "metadata": {},
     "output_type": "execute_result"
    },
    {
     "data": {
      "text/plain": [
       "it: 852, loss: 0.001608, lr: 0.001250, spd: 49.23 it/s, avgSpd: 48.97 it/s, left: 0 h 0.1 min\t\n"
      ]
     },
     "execution_count": 26,
     "metadata": {},
     "output_type": "execute_result"
    },
    {
     "data": {
      "text/plain": [
       "it: 853, loss: 0.001604, lr: 0.001250, spd: 49.02 it/s, avgSpd: 48.98 it/s, left: 0 h 0.1 min\t\n"
      ]
     },
     "execution_count": 26,
     "metadata": {},
     "output_type": "execute_result"
    },
    {
     "data": {
      "text/plain": [
       "it: 854, loss: 0.001599, lr: 0.001250, spd: 48.82 it/s, avgSpd: 48.96 it/s, left: 0 h 0.0 min\t\n"
      ]
     },
     "execution_count": 26,
     "metadata": {},
     "output_type": "execute_result"
    },
    {
     "data": {
      "text/plain": [
       "it: 855, loss: 0.001595, lr: 0.001250, spd: 49.14 it/s, avgSpd: 48.98 it/s, left: 0 h 0.0 min\t\n"
      ]
     },
     "execution_count": 26,
     "metadata": {},
     "output_type": "execute_result"
    },
    {
     "data": {
      "text/plain": [
       "it: 856, loss: 0.001591, lr: 0.001250, spd: 49.07 it/s, avgSpd: 48.99 it/s, left: 0 h 0.0 min\t\n"
      ]
     },
     "execution_count": 26,
     "metadata": {},
     "output_type": "execute_result"
    },
    {
     "data": {
      "text/plain": [
       "it: 857, loss: 0.001589, lr: 0.001250, spd: 49.16 it/s, avgSpd: 49.00 it/s, left: 0 h 0.0 min\t\n"
      ]
     },
     "execution_count": 26,
     "metadata": {},
     "output_type": "execute_result"
    },
    {
     "data": {
      "text/plain": [
       "it: 858, loss: 0.001590, lr: 0.001250, spd: 49.08 it/s, avgSpd: 49.01 it/s, left: 0 h 0.0 min\t\n"
      ]
     },
     "execution_count": 26,
     "metadata": {},
     "output_type": "execute_result"
    },
    {
     "data": {
      "text/plain": [
       "it: 859, loss: 0.001588, lr: 0.001250, spd: 49.00 it/s, avgSpd: 49.01 it/s, left: 0 h 0.0 min\t\n"
      ]
     },
     "execution_count": 26,
     "metadata": {},
     "output_type": "execute_result"
    },
    {
     "data": {
      "text/plain": [
       "it: 860, loss: 0.001589, lr: 0.001250, spd: 48.94 it/s, avgSpd: 49.00 it/s, left: 0 h 0.0 min\t\n"
      ]
     },
     "execution_count": 26,
     "metadata": {},
     "output_type": "execute_result"
    },
    {
     "data": {
      "text/plain": [
       "it: 861, loss: 0.001601, lr: 0.001250, spd: 49.04 it/s, avgSpd: 49.01 it/s, left: 0 h 0.0 min\t\n"
      ]
     },
     "execution_count": 26,
     "metadata": {},
     "output_type": "execute_result"
    },
    {
     "data": {
      "text/plain": [
       "it: 862, loss: 0.001602, lr: 0.001250, spd: 48.82 it/s, avgSpd: 48.99 it/s, left: 0 h 0.0 min\t\n"
      ]
     },
     "execution_count": 26,
     "metadata": {},
     "output_type": "execute_result"
    },
    {
     "data": {
      "text/plain": [
       "it: 863, loss: 0.001593, lr: 0.001250, spd: 49.03 it/s, avgSpd: 48.99 it/s, left: 0 h 0.0 min\t\n"
      ]
     },
     "execution_count": 26,
     "metadata": {},
     "output_type": "execute_result"
    },
    {
     "data": {
      "text/plain": [
       "it: 864, loss: 0.001585, lr: 0.001250, spd: 49.14 it/s, avgSpd: 49.01 it/s, left: 0 h 0.0 min\t\n"
      ]
     },
     "execution_count": 26,
     "metadata": {},
     "output_type": "execute_result"
    },
    {
     "data": {
      "text/plain": [
       "it: 865, loss: 0.001569, lr: 0.001250, spd: 49.05 it/s, avgSpd: 49.01 it/s, left: 0 h 0.0 min\t\n"
      ]
     },
     "execution_count": 26,
     "metadata": {},
     "output_type": "execute_result"
    },
    {
     "data": {
      "text/plain": [
       "it: 866, loss: 0.001572, lr: 0.001250, spd: 48.64 it/s, avgSpd: 48.97 it/s, left: 0 h 0.0 min\t\n"
      ]
     },
     "execution_count": 26,
     "metadata": {},
     "output_type": "execute_result"
    },
    {
     "data": {
      "text/plain": [
       "it: 867, loss: 0.001572, lr: 0.001250, spd: 49.44 it/s, avgSpd: 49.02 it/s, left: 0 h 0.0 min\t\n"
      ]
     },
     "execution_count": 26,
     "metadata": {},
     "output_type": "execute_result"
    },
    {
     "data": {
      "text/plain": [
       "it: 868, loss: 0.001561, lr: 0.001250, spd: 48.98 it/s, avgSpd: 49.02 it/s, left: 0 h 0.0 min\t\n"
      ]
     },
     "execution_count": 26,
     "metadata": {},
     "output_type": "execute_result"
    },
    {
     "data": {
      "text/plain": [
       "it: 869, loss: 0.001557, lr: 0.001250, spd: 48.16 it/s, avgSpd: 48.93 it/s, left: 0 h 0.0 min\t\n"
      ]
     },
     "execution_count": 26,
     "metadata": {},
     "output_type": "execute_result"
    },
    {
     "data": {
      "text/plain": [
       "it: 870, loss: 0.001553, lr: 0.001250, spd: 48.68 it/s, avgSpd: 48.90 it/s, left: 0 h 0.0 min\t\n"
      ]
     },
     "execution_count": 26,
     "metadata": {},
     "output_type": "execute_result"
    },
    {
     "data": {
      "text/plain": [
       "it: 871, loss: 0.001553, lr: 0.001250, spd: 48.80 it/s, avgSpd: 48.89 it/s, left: 0 h 0.0 min\t\n"
      ]
     },
     "execution_count": 26,
     "metadata": {},
     "output_type": "execute_result"
    },
    {
     "data": {
      "text/plain": [
       "it: 872, loss: 0.001547, lr: 0.001250, spd: 48.66 it/s, avgSpd: 48.87 it/s, left: 0 h 0.0 min\t\n"
      ]
     },
     "execution_count": 26,
     "metadata": {},
     "output_type": "execute_result"
    },
    {
     "data": {
      "text/plain": [
       "it: 873, loss: 0.001540, lr: 0.001250, spd: 48.67 it/s, avgSpd: 48.85 it/s, left: 0 h 0.0 min\t\n"
      ]
     },
     "execution_count": 26,
     "metadata": {},
     "output_type": "execute_result"
    },
    {
     "data": {
      "text/plain": [
       "it: 874, loss: 0.001540, lr: 0.001250, spd: 48.79 it/s, avgSpd: 48.85 it/s, left: 0 h 0.0 min\t\n"
      ]
     },
     "execution_count": 26,
     "metadata": {},
     "output_type": "execute_result"
    },
    {
     "data": {
      "text/plain": [
       "it: 875, loss: 0.001534, lr: 0.001250, spd: 48.95 it/s, avgSpd: 48.86 it/s, left: 0 h 0.0 min\t\n"
      ]
     },
     "execution_count": 26,
     "metadata": {},
     "output_type": "execute_result"
    },
    {
     "data": {
      "text/plain": [
       "it: 876, loss: 0.001530, lr: 0.001250, spd: 47.77 it/s, avgSpd: 48.75 it/s, left: 0 h 0.0 min\t\n"
      ]
     },
     "execution_count": 26,
     "metadata": {},
     "output_type": "execute_result"
    },
    {
     "data": {
      "text/plain": [
       "it: 877, loss: 0.001531, lr: 0.001250, spd: 49.61 it/s, avgSpd: 48.83 it/s, left: 0 h 0.0 min\t\n"
      ]
     },
     "execution_count": 26,
     "metadata": {},
     "output_type": "execute_result"
    },
    {
     "data": {
      "text/plain": [
       "it: 878, loss: 0.001529, lr: 0.001250, spd: 49.22 it/s, avgSpd: 48.87 it/s, left: 0 h 0.0 min\t\n"
      ]
     },
     "execution_count": 26,
     "metadata": {},
     "output_type": "execute_result"
    },
    {
     "data": {
      "text/plain": [
       "it: 879, loss: 0.001527, lr: 0.001250, spd: 48.91 it/s, avgSpd: 48.88 it/s, left: 0 h 0.0 min\t\n"
      ]
     },
     "execution_count": 26,
     "metadata": {},
     "output_type": "execute_result"
    },
    {
     "data": {
      "text/plain": [
       "it: 880, loss: 0.001522, lr: 0.001250, spd: 48.95 it/s, avgSpd: 48.88 it/s, left: 0 h 0.0 min\t\n"
      ]
     },
     "execution_count": 26,
     "metadata": {},
     "output_type": "execute_result"
    },
    {
     "data": {
      "text/plain": [
       "it: 881, loss: 0.001515, lr: 0.001250, spd: 49.03 it/s, avgSpd: 48.90 it/s, left: 0 h 0.0 min\t\n"
      ]
     },
     "execution_count": 26,
     "metadata": {},
     "output_type": "execute_result"
    },
    {
     "data": {
      "text/plain": [
       "it: 882, loss: 0.001516, lr: 0.001250, spd: 49.02 it/s, avgSpd: 48.91 it/s, left: 0 h 0.0 min\t\n"
      ]
     },
     "execution_count": 26,
     "metadata": {},
     "output_type": "execute_result"
    },
    {
     "data": {
      "text/plain": [
       "it: 883, loss: 0.001511, lr: 0.001250, spd: 49.03 it/s, avgSpd: 48.92 it/s, left: 0 h 0.0 min\t\n"
      ]
     },
     "execution_count": 26,
     "metadata": {},
     "output_type": "execute_result"
    },
    {
     "data": {
      "text/plain": [
       "it: 884, loss: 0.001514, lr: 0.001250, spd: 49.12 it/s, avgSpd: 48.94 it/s, left: 0 h 0.0 min\t\n"
      ]
     },
     "execution_count": 26,
     "metadata": {},
     "output_type": "execute_result"
    },
    {
     "data": {
      "text/plain": [
       "it: 885, loss: 0.001521, lr: 0.001250, spd: 49.08 it/s, avgSpd: 48.96 it/s, left: 0 h 0.0 min\t\n"
      ]
     },
     "execution_count": 26,
     "metadata": {},
     "output_type": "execute_result"
    },
    {
     "data": {
      "text/plain": [
       "it: 886, loss: 0.001522, lr: 0.001250, spd: 49.10 it/s, avgSpd: 48.97 it/s, left: 0 h 0.0 min\t\n"
      ]
     },
     "execution_count": 26,
     "metadata": {},
     "output_type": "execute_result"
    },
    {
     "data": {
      "text/plain": [
       "it: 887, loss: 0.001522, lr: 0.001250, spd: 48.87 it/s, avgSpd: 48.96 it/s, left: 0 h 0.0 min\t\n"
      ]
     },
     "execution_count": 26,
     "metadata": {},
     "output_type": "execute_result"
    },
    {
     "data": {
      "text/plain": [
       "it: 888, loss: 0.001505, lr: 0.001250, spd: 49.00 it/s, avgSpd: 48.96 it/s, left: 0 h 0.0 min\t\n"
      ]
     },
     "execution_count": 26,
     "metadata": {},
     "output_type": "execute_result"
    },
    {
     "data": {
      "text/plain": [
       "it: 889, loss: 0.001496, lr: 0.001250, spd: 48.98 it/s, avgSpd: 48.97 it/s, left: 0 h 0.0 min\t\n"
      ]
     },
     "execution_count": 26,
     "metadata": {},
     "output_type": "execute_result"
    },
    {
     "data": {
      "text/plain": [
       "it: 890, loss: 0.001503, lr: 0.001250, spd: 49.07 it/s, avgSpd: 48.98 it/s, left: 0 h 0.0 min\t\n"
      ]
     },
     "execution_count": 26,
     "metadata": {},
     "output_type": "execute_result"
    },
    {
     "data": {
      "text/plain": [
       "it: 891, loss: 0.001499, lr: 0.001250, spd: 48.94 it/s, avgSpd: 48.97 it/s, left: 0 h 0.0 min\t\n"
      ]
     },
     "execution_count": 26,
     "metadata": {},
     "output_type": "execute_result"
    },
    {
     "data": {
      "text/plain": [
       "it: 892, loss: 0.001493, lr: 0.001250, spd: 48.97 it/s, avgSpd: 48.97 it/s, left: 0 h 0.0 min\t\n"
      ]
     },
     "execution_count": 26,
     "metadata": {},
     "output_type": "execute_result"
    },
    {
     "data": {
      "text/plain": [
       "it: 893, loss: 0.001488, lr: 0.001250, spd: 49.08 it/s, avgSpd: 48.98 it/s, left: 0 h 0.0 min\t\n"
      ]
     },
     "execution_count": 26,
     "metadata": {},
     "output_type": "execute_result"
    },
    {
     "data": {
      "text/plain": [
       "it: 894, loss: 0.001484, lr: 0.001250, spd: 48.91 it/s, avgSpd: 48.98 it/s, left: 0 h 0.0 min\t\n"
      ]
     },
     "execution_count": 26,
     "metadata": {},
     "output_type": "execute_result"
    },
    {
     "data": {
      "text/plain": [
       "it: 895, loss: 0.001481, lr: 0.001250, spd: 49.17 it/s, avgSpd: 48.99 it/s, left: 0 h 0.0 min\t\n"
      ]
     },
     "execution_count": 26,
     "metadata": {},
     "output_type": "execute_result"
    },
    {
     "data": {
      "text/plain": [
       "it: 896, loss: 0.001478, lr: 0.001250, spd: 48.95 it/s, avgSpd: 48.99 it/s, left: 0 h 0.0 min\t\n"
      ]
     },
     "execution_count": 26,
     "metadata": {},
     "output_type": "execute_result"
    },
    {
     "data": {
      "text/plain": [
       "it: 897, loss: 0.001476, lr: 0.001250, spd: 48.87 it/s, avgSpd: 48.98 it/s, left: 0 h 0.0 min\t\n"
      ]
     },
     "execution_count": 26,
     "metadata": {},
     "output_type": "execute_result"
    },
    {
     "data": {
      "text/plain": [
       "it: 898, loss: 0.001471, lr: 0.001250, spd: 48.92 it/s, avgSpd: 48.97 it/s, left: 0 h 0.0 min\t\n"
      ]
     },
     "execution_count": 26,
     "metadata": {},
     "output_type": "execute_result"
    },
    {
     "data": {
      "text/plain": [
       "it: 899, loss: 0.001466, lr: 0.001250, spd: 49.05 it/s, avgSpd: 48.98 it/s, left: 0 h 0.0 min\t\n"
      ]
     },
     "execution_count": 26,
     "metadata": {},
     "output_type": "execute_result"
    },
    {
     "data": {
      "text/plain": [
       "it: 900, loss: 0.001464, lr: 0.001250, spd: 49.23 it/s, avgSpd: 49.01 it/s, left: 0 h 0.0 min\t\n"
      ]
     },
     "execution_count": 26,
     "metadata": {},
     "output_type": "execute_result"
    },
    {
     "data": {
      "text/plain": [
       "it: 901, loss: 0.001465, lr: 0.001250, spd: 48.89 it/s, avgSpd: 48.99 it/s, left: 0 h 0.0 min\t\n"
      ]
     },
     "execution_count": 26,
     "metadata": {},
     "output_type": "execute_result"
    },
    {
     "data": {
      "text/plain": [
       "it: 902, loss: 0.001464, lr: 0.001250, spd: 49.19 it/s, avgSpd: 49.01 it/s, left: 0 h 0.0 min\t\n"
      ]
     },
     "execution_count": 26,
     "metadata": {},
     "output_type": "execute_result"
    },
    {
     "data": {
      "text/plain": [
       "it: 903, loss: 0.001459, lr: 0.001250, spd: 48.92 it/s, avgSpd: 49.00 it/s, left: 0 h 0.0 min\t\n"
      ]
     },
     "execution_count": 26,
     "metadata": {},
     "output_type": "execute_result"
    },
    {
     "data": {
      "text/plain": [
       "it: 904, loss: 0.001451, lr: 0.001250, spd: 48.94 it/s, avgSpd: 49.00 it/s, left: 0 h 0.0 min\t\n"
      ]
     },
     "execution_count": 26,
     "metadata": {},
     "output_type": "execute_result"
    },
    {
     "data": {
      "text/plain": [
       "it: 905, loss: 0.001452, lr: 0.001250, spd: 49.03 it/s, avgSpd: 49.00 it/s, left: 0 h 0.0 min\t\n"
      ]
     },
     "execution_count": 26,
     "metadata": {},
     "output_type": "execute_result"
    },
    {
     "data": {
      "text/plain": [
       "it: 906, loss: 0.001456, lr: 0.001250, spd: 49.06 it/s, avgSpd: 49.01 it/s, left: 0 h 0.0 min\t\n"
      ]
     },
     "execution_count": 26,
     "metadata": {},
     "output_type": "execute_result"
    },
    {
     "data": {
      "text/plain": [
       "it: 907, loss: 0.001445, lr: 0.001250, spd: 48.98 it/s, avgSpd: 49.00 it/s, left: 0 h 0.0 min\t\n"
      ]
     },
     "execution_count": 26,
     "metadata": {},
     "output_type": "execute_result"
    },
    {
     "data": {
      "text/plain": [
       "it: 908, loss: 0.001441, lr: 0.001250, spd: 49.01 it/s, avgSpd: 49.00 it/s, left: 0 h 0.0 min\t\n"
      ]
     },
     "execution_count": 26,
     "metadata": {},
     "output_type": "execute_result"
    },
    {
     "data": {
      "text/plain": [
       "it: 909, loss: 0.001439, lr: 0.001250, spd: 49.01 it/s, avgSpd: 49.01 it/s, left: 0 h 0.0 min\t\n"
      ]
     },
     "execution_count": 26,
     "metadata": {},
     "output_type": "execute_result"
    },
    {
     "data": {
      "text/plain": [
       "it: 910, loss: 0.001436, lr: 0.001250, spd: 49.21 it/s, avgSpd: 49.03 it/s, left: 0 h 0.0 min\t\n"
      ]
     },
     "execution_count": 26,
     "metadata": {},
     "output_type": "execute_result"
    },
    {
     "data": {
      "text/plain": [
       "it: 911, loss: 0.001431, lr: 0.001250, spd: 49.04 it/s, avgSpd: 49.03 it/s, left: 0 h 0.0 min\t\n"
      ]
     },
     "execution_count": 26,
     "metadata": {},
     "output_type": "execute_result"
    },
    {
     "data": {
      "text/plain": [
       "it: 912, loss: 0.001428, lr: 0.001250, spd: 49.10 it/s, avgSpd: 49.03 it/s, left: 0 h 0.0 min\t\n"
      ]
     },
     "execution_count": 26,
     "metadata": {},
     "output_type": "execute_result"
    },
    {
     "data": {
      "text/plain": [
       "it: 913, loss: 0.001427, lr: 0.001250, spd: 48.98 it/s, avgSpd: 49.03 it/s, left: 0 h 0.0 min\t\n"
      ]
     },
     "execution_count": 26,
     "metadata": {},
     "output_type": "execute_result"
    },
    {
     "data": {
      "text/plain": [
       "it: 914, loss: 0.001428, lr: 0.001250, spd: 49.06 it/s, avgSpd: 49.03 it/s, left: 0 h 0.0 min\t\n"
      ]
     },
     "execution_count": 26,
     "metadata": {},
     "output_type": "execute_result"
    },
    {
     "data": {
      "text/plain": [
       "it: 915, loss: 0.001431, lr: 0.001250, spd: 49.06 it/s, avgSpd: 49.03 it/s, left: 0 h 0.0 min\t\n"
      ]
     },
     "execution_count": 26,
     "metadata": {},
     "output_type": "execute_result"
    },
    {
     "data": {
      "text/plain": [
       "it: 916, loss: 0.001427, lr: 0.001250, spd: 49.01 it/s, avgSpd: 49.03 it/s, left: 0 h 0.0 min\t\n"
      ]
     },
     "execution_count": 26,
     "metadata": {},
     "output_type": "execute_result"
    },
    {
     "data": {
      "text/plain": [
       "it: 917, loss: 0.001435, lr: 0.001250, spd: 49.09 it/s, avgSpd: 49.04 it/s, left: 0 h 0.0 min\t\n"
      ]
     },
     "execution_count": 26,
     "metadata": {},
     "output_type": "execute_result"
    },
    {
     "data": {
      "text/plain": [
       "it: 918, loss: 0.001437, lr: 0.001250, spd: 48.80 it/s, avgSpd: 49.01 it/s, left: 0 h 0.0 min\t\n"
      ]
     },
     "execution_count": 26,
     "metadata": {},
     "output_type": "execute_result"
    },
    {
     "data": {
      "text/plain": [
       "it: 919, loss: 0.001419, lr: 0.001250, spd: 48.91 it/s, avgSpd: 49.00 it/s, left: 0 h 0.0 min\t\n"
      ]
     },
     "execution_count": 26,
     "metadata": {},
     "output_type": "execute_result"
    },
    {
     "data": {
      "text/plain": [
       "it: 920, loss: 0.001406, lr: 0.001250, spd: 48.91 it/s, avgSpd: 48.99 it/s, left: 0 h 0.0 min\t\n"
      ]
     },
     "execution_count": 26,
     "metadata": {},
     "output_type": "execute_result"
    },
    {
     "data": {
      "text/plain": [
       "it: 921, loss: 0.001409, lr: 0.001250, spd: 48.90 it/s, avgSpd: 48.99 it/s, left: 0 h 0.0 min\t\n"
      ]
     },
     "execution_count": 26,
     "metadata": {},
     "output_type": "execute_result"
    },
    {
     "data": {
      "text/plain": [
       "it: 922, loss: 0.001409, lr: 0.001250, spd: 48.86 it/s, avgSpd: 48.97 it/s, left: 0 h 0.0 min\t\n"
      ]
     },
     "execution_count": 26,
     "metadata": {},
     "output_type": "execute_result"
    },
    {
     "data": {
      "text/plain": [
       "it: 923, loss: 0.001402, lr: 0.001250, spd: 48.84 it/s, avgSpd: 48.96 it/s, left: 0 h 0.0 min\t\n"
      ]
     },
     "execution_count": 26,
     "metadata": {},
     "output_type": "execute_result"
    },
    {
     "data": {
      "text/plain": [
       "it: 924, loss: 0.001398, lr: 0.001250, spd: 48.75 it/s, avgSpd: 48.94 it/s, left: 0 h 0.0 min\t\n"
      ]
     },
     "execution_count": 26,
     "metadata": {},
     "output_type": "execute_result"
    },
    {
     "data": {
      "text/plain": [
       "it: 925, loss: 0.001400, lr: 0.001250, spd: 48.82 it/s, avgSpd: 48.93 it/s, left: 0 h 0.0 min\t\n"
      ]
     },
     "execution_count": 26,
     "metadata": {},
     "output_type": "execute_result"
    },
    {
     "data": {
      "text/plain": [
       "it: 926, loss: 0.001404, lr: 0.001250, spd: 48.69 it/s, avgSpd: 48.90 it/s, left: 0 h 0.0 min\t\n"
      ]
     },
     "execution_count": 26,
     "metadata": {},
     "output_type": "execute_result"
    },
    {
     "data": {
      "text/plain": [
       "it: 927, loss: 0.001407, lr: 0.001250, spd: 49.02 it/s, avgSpd: 48.92 it/s, left: 0 h 0.0 min\t\n"
      ]
     },
     "execution_count": 26,
     "metadata": {},
     "output_type": "execute_result"
    },
    {
     "data": {
      "text/plain": [
       "it: 928, loss: 0.001393, lr: 0.001250, spd: 48.77 it/s, avgSpd: 48.90 it/s, left: 0 h 0.0 min\t\n"
      ]
     },
     "execution_count": 26,
     "metadata": {},
     "output_type": "execute_result"
    },
    {
     "data": {
      "text/plain": [
       "it: 929, loss: 0.001383, lr: 0.001250, spd: 48.83 it/s, avgSpd: 48.89 it/s, left: 0 h 0.0 min\t\n"
      ]
     },
     "execution_count": 26,
     "metadata": {},
     "output_type": "execute_result"
    },
    {
     "data": {
      "text/plain": [
       "it: 930, loss: 0.001389, lr: 0.001250, spd: 48.87 it/s, avgSpd: 48.89 it/s, left: 0 h 0.0 min\t\n"
      ]
     },
     "execution_count": 26,
     "metadata": {},
     "output_type": "execute_result"
    },
    {
     "data": {
      "text/plain": [
       "it: 931, loss: 0.001386, lr: 0.001250, spd: 48.77 it/s, avgSpd: 48.88 it/s, left: 0 h 0.0 min\t\n"
      ]
     },
     "execution_count": 26,
     "metadata": {},
     "output_type": "execute_result"
    },
    {
     "data": {
      "text/plain": [
       "it: 932, loss: 0.001379, lr: 0.001250, spd: 48.13 it/s, avgSpd: 48.80 it/s, left: 0 h 0.0 min\t\n"
      ]
     },
     "execution_count": 26,
     "metadata": {},
     "output_type": "execute_result"
    },
    {
     "data": {
      "text/plain": [
       "it: 933, loss: 0.001379, lr: 0.001250, spd: 48.46 it/s, avgSpd: 48.77 it/s, left: 0 h 0.0 min\t\n"
      ]
     },
     "execution_count": 26,
     "metadata": {},
     "output_type": "execute_result"
    },
    {
     "data": {
      "text/plain": [
       "it: 934, loss: 0.001387, lr: 0.001250, spd: 48.50 it/s, avgSpd: 48.74 it/s, left: 0 h 0.0 min\t\n"
      ]
     },
     "execution_count": 26,
     "metadata": {},
     "output_type": "execute_result"
    },
    {
     "data": {
      "text/plain": [
       "it: 935, loss: 0.001386, lr: 0.001250, spd: 48.56 it/s, avgSpd: 48.72 it/s, left: 0 h 0.0 min\t\n"
      ]
     },
     "execution_count": 26,
     "metadata": {},
     "output_type": "execute_result"
    },
    {
     "data": {
      "text/plain": [
       "it: 936, loss: 0.001376, lr: 0.001250, spd: 48.52 it/s, avgSpd: 48.70 it/s, left: 0 h 0.0 min\t\n"
      ]
     },
     "execution_count": 26,
     "metadata": {},
     "output_type": "execute_result"
    },
    {
     "data": {
      "text/plain": [
       "it: 937, loss: 0.001372, lr: 0.001250, spd: 49.21 it/s, avgSpd: 48.75 it/s, left: 0 h 0.0 min\t\n"
      ]
     },
     "execution_count": 26,
     "metadata": {},
     "output_type": "execute_result"
    },
    {
     "data": {
      "text/plain": [
       "it: 938, loss: 0.001373, lr: 0.001250, spd: 48.79 it/s, avgSpd: 48.76 it/s, left: 0 h 0.0 min\t\n"
      ]
     },
     "execution_count": 26,
     "metadata": {},
     "output_type": "execute_result"
    },
    {
     "data": {
      "text/plain": [
       "it: 939, loss: 0.001372, lr: 0.001250, spd: 48.94 it/s, avgSpd: 48.78 it/s, left: 0 h 0.0 min\t\n"
      ]
     },
     "execution_count": 26,
     "metadata": {},
     "output_type": "execute_result"
    },
    {
     "data": {
      "text/plain": [
       "it: 940, loss: 0.001378, lr: 0.001250, spd: 48.58 it/s, avgSpd: 48.76 it/s, left: 0 h 0.0 min\t\n"
      ]
     },
     "execution_count": 26,
     "metadata": {},
     "output_type": "execute_result"
    },
    {
     "data": {
      "text/plain": [
       "it: 941, loss: 0.001401, lr: 0.001250, spd: 48.94 it/s, avgSpd: 48.77 it/s, left: 0 h 0.0 min\t\n"
      ]
     },
     "execution_count": 26,
     "metadata": {},
     "output_type": "execute_result"
    },
    {
     "data": {
      "text/plain": [
       "it: 942, loss: 0.001391, lr: 0.001250, spd: 48.64 it/s, avgSpd: 48.76 it/s, left: 0 h 0.0 min\t\n"
      ]
     },
     "execution_count": 26,
     "metadata": {},
     "output_type": "execute_result"
    },
    {
     "data": {
      "text/plain": [
       "it: 943, loss: 0.001355, lr: 0.001250, spd: 48.89 it/s, avgSpd: 48.77 it/s, left: 0 h 0.0 min\t\n"
      ]
     },
     "execution_count": 26,
     "metadata": {},
     "output_type": "execute_result"
    },
    {
     "data": {
      "text/plain": [
       "it: 944, loss: 0.001357, lr: 0.001250, spd: 48.79 it/s, avgSpd: 48.78 it/s, left: 0 h 0.0 min\t\n"
      ]
     },
     "execution_count": 26,
     "metadata": {},
     "output_type": "execute_result"
    },
    {
     "data": {
      "text/plain": [
       "it: 945, loss: 0.001371, lr: 0.001250, spd: 48.85 it/s, avgSpd: 48.78 it/s, left: 0 h 0.0 min\t\n"
      ]
     },
     "execution_count": 26,
     "metadata": {},
     "output_type": "execute_result"
    },
    {
     "data": {
      "text/plain": [
       "it: 946, loss: 0.001371, lr: 0.001250, spd: 48.92 it/s, avgSpd: 48.80 it/s, left: 0 h 0.0 min\t\n"
      ]
     },
     "execution_count": 26,
     "metadata": {},
     "output_type": "execute_result"
    },
    {
     "data": {
      "text/plain": [
       "it: 947, loss: 0.001366, lr: 0.001250, spd: 48.92 it/s, avgSpd: 48.81 it/s, left: 0 h 0.0 min\t\n"
      ]
     },
     "execution_count": 26,
     "metadata": {},
     "output_type": "execute_result"
    },
    {
     "data": {
      "text/plain": [
       "it: 948, loss: 0.001355, lr: 0.001250, spd: 48.87 it/s, avgSpd: 48.81 it/s, left: 0 h 0.0 min\t\n"
      ]
     },
     "execution_count": 26,
     "metadata": {},
     "output_type": "execute_result"
    },
    {
     "data": {
      "text/plain": [
       "it: 949, loss: 0.001340, lr: 0.001250, spd: 48.76 it/s, avgSpd: 48.81 it/s, left: 0 h 0.0 min\t\n"
      ]
     },
     "execution_count": 26,
     "metadata": {},
     "output_type": "execute_result"
    },
    {
     "data": {
      "text/plain": [
       "it: 950, loss: 0.001345, lr: 0.001250, spd: 48.88 it/s, avgSpd: 48.82 it/s, left: 0 h 0.0 min\t\n"
      ]
     },
     "execution_count": 26,
     "metadata": {},
     "output_type": "execute_result"
    },
    {
     "data": {
      "text/plain": [
       "it: 951, loss: 0.001349, lr: 0.001250, spd: 48.87 it/s, avgSpd: 48.82 it/s, left: 0 h 0.0 min\t\n"
      ]
     },
     "execution_count": 26,
     "metadata": {},
     "output_type": "execute_result"
    },
    {
     "data": {
      "text/plain": [
       "it: 952, loss: 0.001334, lr: 0.001250, spd: 48.78 it/s, avgSpd: 48.82 it/s, left: 0 h 0.0 min\t\n"
      ]
     },
     "execution_count": 26,
     "metadata": {},
     "output_type": "execute_result"
    },
    {
     "data": {
      "text/plain": [
       "it: 953, loss: 0.001333, lr: 0.001250, spd: 48.82 it/s, avgSpd: 48.82 it/s, left: 0 h 0.0 min\t\n"
      ]
     },
     "execution_count": 26,
     "metadata": {},
     "output_type": "execute_result"
    },
    {
     "data": {
      "text/plain": [
       "it: 954, loss: 0.001337, lr: 0.001250, spd: 48.69 it/s, avgSpd: 48.81 it/s, left: 0 h 0.0 min\t\n"
      ]
     },
     "execution_count": 26,
     "metadata": {},
     "output_type": "execute_result"
    },
    {
     "data": {
      "text/plain": [
       "it: 955, loss: 0.001328, lr: 0.001250, spd: 48.84 it/s, avgSpd: 48.81 it/s, left: 0 h 0.0 min\t\n"
      ]
     },
     "execution_count": 26,
     "metadata": {},
     "output_type": "execute_result"
    },
    {
     "data": {
      "text/plain": [
       "it: 956, loss: 0.001323, lr: 0.001250, spd: 48.02 it/s, avgSpd: 48.73 it/s, left: 0 h 0.0 min\t\n"
      ]
     },
     "execution_count": 26,
     "metadata": {},
     "output_type": "execute_result"
    },
    {
     "data": {
      "text/plain": [
       "it: 957, loss: 0.001324, lr: 0.001250, spd: 49.01 it/s, avgSpd: 48.76 it/s, left: 0 h 0.0 min\t\n"
      ]
     },
     "execution_count": 26,
     "metadata": {},
     "output_type": "execute_result"
    },
    {
     "data": {
      "text/plain": [
       "it: 958, loss: 0.001317, lr: 0.001250, spd: 48.69 it/s, avgSpd: 48.75 it/s, left: 0 h 0.0 min\t\n"
      ]
     },
     "execution_count": 26,
     "metadata": {},
     "output_type": "execute_result"
    },
    {
     "data": {
      "text/plain": [
       "it: 959, loss: 0.001312, lr: 0.001250, spd: 48.94 it/s, avgSpd: 48.77 it/s, left: 0 h 0.0 min\t\n"
      ]
     },
     "execution_count": 26,
     "metadata": {},
     "output_type": "execute_result"
    },
    {
     "data": {
      "text/plain": [
       "it: 960, loss: 0.001310, lr: 0.001250, spd: 48.03 it/s, avgSpd: 48.70 it/s, left: 0 h 0.0 min\t\n"
      ]
     },
     "execution_count": 26,
     "metadata": {},
     "output_type": "execute_result"
    },
    {
     "data": {
      "text/plain": [
       "it: 961, loss: 0.001305, lr: 0.001250, spd: 48.44 it/s, avgSpd: 48.67 it/s, left: 0 h 0.0 min\t\n"
      ]
     },
     "execution_count": 26,
     "metadata": {},
     "output_type": "execute_result"
    },
    {
     "data": {
      "text/plain": [
       "it: 962, loss: 0.001304, lr: 0.001250, spd: 48.65 it/s, avgSpd: 48.67 it/s, left: 0 h 0.0 min\t\n"
      ]
     },
     "execution_count": 26,
     "metadata": {},
     "output_type": "execute_result"
    },
    {
     "data": {
      "text/plain": [
       "it: 963, loss: 0.001306, lr: 0.001250, spd: 48.50 it/s, avgSpd: 48.65 it/s, left: 0 h 0.0 min\t\n"
      ]
     },
     "execution_count": 26,
     "metadata": {},
     "output_type": "execute_result"
    },
    {
     "data": {
      "text/plain": [
       "it: 964, loss: 0.001300, lr: 0.001250, spd: 48.42 it/s, avgSpd: 48.63 it/s, left: 0 h 0.0 min\t\n"
      ]
     },
     "execution_count": 26,
     "metadata": {},
     "output_type": "execute_result"
    },
    {
     "data": {
      "text/plain": [
       "it: 965, loss: 0.001309, lr: 0.001250, spd: 48.49 it/s, avgSpd: 48.61 it/s, left: 0 h 0.0 min\t\n"
      ]
     },
     "execution_count": 26,
     "metadata": {},
     "output_type": "execute_result"
    },
    {
     "data": {
      "text/plain": [
       "it: 966, loss: 0.001313, lr: 0.001250, spd: 47.85 it/s, avgSpd: 48.54 it/s, left: 0 h 0.0 min\t\n"
      ]
     },
     "execution_count": 26,
     "metadata": {},
     "output_type": "execute_result"
    },
    {
     "data": {
      "text/plain": [
       "it: 967, loss: 0.001328, lr: 0.001250, spd: 49.14 it/s, avgSpd: 48.60 it/s, left: 0 h 0.0 min\t\n"
      ]
     },
     "execution_count": 26,
     "metadata": {},
     "output_type": "execute_result"
    },
    {
     "data": {
      "text/plain": [
       "it: 968, loss: 0.001311, lr: 0.001250, spd: 49.27 it/s, avgSpd: 48.67 it/s, left: 0 h 0.0 min\t\n"
      ]
     },
     "execution_count": 26,
     "metadata": {},
     "output_type": "execute_result"
    },
    {
     "data": {
      "text/plain": [
       "it: 969, loss: 0.001298, lr: 0.001250, spd: 48.80 it/s, avgSpd: 48.68 it/s, left: 0 h 0.0 min\t\n"
      ]
     },
     "execution_count": 26,
     "metadata": {},
     "output_type": "execute_result"
    },
    {
     "data": {
      "text/plain": [
       "it: 970, loss: 0.001285, lr: 0.001250, spd: 48.85 it/s, avgSpd: 48.70 it/s, left: 0 h 0.0 min\t\n"
      ]
     },
     "execution_count": 26,
     "metadata": {},
     "output_type": "execute_result"
    },
    {
     "data": {
      "text/plain": [
       "it: 971, loss: 0.001283, lr: 0.001250, spd: 48.63 it/s, avgSpd: 48.69 it/s, left: 0 h 0.0 min\t\n"
      ]
     },
     "execution_count": 26,
     "metadata": {},
     "output_type": "execute_result"
    },
    {
     "data": {
      "text/plain": [
       "it: 972, loss: 0.001289, lr: 0.001250, spd: 48.88 it/s, avgSpd: 48.71 it/s, left: 0 h 0.0 min\t\n"
      ]
     },
     "execution_count": 26,
     "metadata": {},
     "output_type": "execute_result"
    },
    {
     "data": {
      "text/plain": [
       "it: 973, loss: 0.001292, lr: 0.001250, spd: 48.83 it/s, avgSpd: 48.72 it/s, left: 0 h 0.0 min\t\n"
      ]
     },
     "execution_count": 26,
     "metadata": {},
     "output_type": "execute_result"
    },
    {
     "data": {
      "text/plain": [
       "it: 974, loss: 0.001293, lr: 0.001250, spd: 48.90 it/s, avgSpd: 48.74 it/s, left: 0 h 0.0 min\t\n"
      ]
     },
     "execution_count": 26,
     "metadata": {},
     "output_type": "execute_result"
    },
    {
     "data": {
      "text/plain": [
       "it: 975, loss: 0.001284, lr: 0.001250, spd: 48.90 it/s, avgSpd: 48.75 it/s, left: 0 h 0.0 min\t\n"
      ]
     },
     "execution_count": 26,
     "metadata": {},
     "output_type": "execute_result"
    },
    {
     "data": {
      "text/plain": [
       "it: 976, loss: 0.001281, lr: 0.001250, spd: 48.87 it/s, avgSpd: 48.77 it/s, left: 0 h 0.0 min\t\n"
      ]
     },
     "execution_count": 26,
     "metadata": {},
     "output_type": "execute_result"
    },
    {
     "data": {
      "text/plain": [
       "it: 977, loss: 0.001282, lr: 0.001250, spd: 48.28 it/s, avgSpd: 48.72 it/s, left: 0 h 0.0 min\t\n"
      ]
     },
     "execution_count": 26,
     "metadata": {},
     "output_type": "execute_result"
    },
    {
     "data": {
      "text/plain": [
       "it: 978, loss: 0.001305, lr: 0.001250, spd: 49.12 it/s, avgSpd: 48.76 it/s, left: 0 h 0.0 min\t\n"
      ]
     },
     "execution_count": 26,
     "metadata": {},
     "output_type": "execute_result"
    },
    {
     "data": {
      "text/plain": [
       "it: 979, loss: 0.001334, lr: 0.001250, spd: 48.85 it/s, avgSpd: 48.77 it/s, left: 0 h 0.0 min\t\n"
      ]
     },
     "execution_count": 26,
     "metadata": {},
     "output_type": "execute_result"
    },
    {
     "data": {
      "text/plain": [
       "it: 980, loss: 0.001325, lr: 0.001250, spd: 48.89 it/s, avgSpd: 48.78 it/s, left: 0 h 0.0 min\t\n"
      ]
     },
     "execution_count": 26,
     "metadata": {},
     "output_type": "execute_result"
    },
    {
     "data": {
      "text/plain": [
       "it: 981, loss: 0.001292, lr: 0.001250, spd: 48.75 it/s, avgSpd: 48.78 it/s, left: 0 h 0.0 min\t\n"
      ]
     },
     "execution_count": 26,
     "metadata": {},
     "output_type": "execute_result"
    },
    {
     "data": {
      "text/plain": [
       "it: 982, loss: 0.001277, lr: 0.001250, spd: 48.95 it/s, avgSpd: 48.79 it/s, left: 0 h 0.0 min\t\n"
      ]
     },
     "execution_count": 26,
     "metadata": {},
     "output_type": "execute_result"
    },
    {
     "data": {
      "text/plain": [
       "it: 983, loss: 0.001298, lr: 0.001250, spd: 48.91 it/s, avgSpd: 48.81 it/s, left: 0 h 0.0 min\t\n"
      ]
     },
     "execution_count": 26,
     "metadata": {},
     "output_type": "execute_result"
    },
    {
     "data": {
      "text/plain": [
       "it: 984, loss: 0.001284, lr: 0.001250, spd: 48.76 it/s, avgSpd: 48.80 it/s, left: 0 h 0.0 min\t\n"
      ]
     },
     "execution_count": 26,
     "metadata": {},
     "output_type": "execute_result"
    },
    {
     "data": {
      "text/plain": [
       "it: 985, loss: 0.001288, lr: 0.001250, spd: 48.41 it/s, avgSpd: 48.76 it/s, left: 0 h 0.0 min\t\n"
      ]
     },
     "execution_count": 26,
     "metadata": {},
     "output_type": "execute_result"
    },
    {
     "data": {
      "text/plain": [
       "it: 986, loss: 0.001286, lr: 0.001250, spd: 48.67 it/s, avgSpd: 48.75 it/s, left: 0 h 0.0 min\t\n"
      ]
     },
     "execution_count": 26,
     "metadata": {},
     "output_type": "execute_result"
    },
    {
     "data": {
      "text/plain": [
       "it: 987, loss: 0.001257, lr: 0.001250, spd: 48.67 it/s, avgSpd: 48.75 it/s, left: 0 h 0.0 min\t\n"
      ]
     },
     "execution_count": 26,
     "metadata": {},
     "output_type": "execute_result"
    },
    {
     "data": {
      "text/plain": [
       "it: 988, loss: 0.001275, lr: 0.001250, spd: 48.89 it/s, avgSpd: 48.76 it/s, left: 0 h 0.0 min\t\n"
      ]
     },
     "execution_count": 26,
     "metadata": {},
     "output_type": "execute_result"
    },
    {
     "data": {
      "text/plain": [
       "it: 989, loss: 0.001268, lr: 0.001250, spd: 48.83 it/s, avgSpd: 48.77 it/s, left: 0 h 0.0 min\t\n"
      ]
     },
     "execution_count": 26,
     "metadata": {},
     "output_type": "execute_result"
    },
    {
     "data": {
      "text/plain": [
       "it: 990, loss: 0.001266, lr: 0.001250, spd: 48.83 it/s, avgSpd: 48.77 it/s, left: 0 h 0.0 min\t\n"
      ]
     },
     "execution_count": 26,
     "metadata": {},
     "output_type": "execute_result"
    },
    {
     "data": {
      "text/plain": [
       "it: 991, loss: 0.001269, lr: 0.001250, spd: 48.83 it/s, avgSpd: 48.78 it/s, left: 0 h 0.0 min\t\n"
      ]
     },
     "execution_count": 26,
     "metadata": {},
     "output_type": "execute_result"
    },
    {
     "data": {
      "text/plain": [
       "it: 992, loss: 0.001265, lr: 0.001250, spd: 49.02 it/s, avgSpd: 48.80 it/s, left: 0 h 0.0 min\t\n"
      ]
     },
     "execution_count": 26,
     "metadata": {},
     "output_type": "execute_result"
    },
    {
     "data": {
      "text/plain": [
       "it: 993, loss: 0.001290, lr: 0.001250, spd: 48.68 it/s, avgSpd: 48.79 it/s, left: 0 h 0.0 min\t\n"
      ]
     },
     "execution_count": 26,
     "metadata": {},
     "output_type": "execute_result"
    },
    {
     "data": {
      "text/plain": [
       "it: 994, loss: 0.001276, lr: 0.001250, spd: 48.63 it/s, avgSpd: 48.77 it/s, left: 0 h 0.0 min\t\n"
      ]
     },
     "execution_count": 26,
     "metadata": {},
     "output_type": "execute_result"
    },
    {
     "data": {
      "text/plain": [
       "it: 995, loss: 0.001260, lr: 0.001250, spd: 48.69 it/s, avgSpd: 48.77 it/s, left: 0 h 0.0 min\t\n"
      ]
     },
     "execution_count": 26,
     "metadata": {},
     "output_type": "execute_result"
    },
    {
     "data": {
      "text/plain": [
       "it: 996, loss: 0.001248, lr: 0.001250, spd: 48.65 it/s, avgSpd: 48.76 it/s, left: 0 h 0.0 min\t\n"
      ]
     },
     "execution_count": 26,
     "metadata": {},
     "output_type": "execute_result"
    },
    {
     "data": {
      "text/plain": [
       "it: 997, loss: 0.001254, lr: 0.001250, spd: 48.83 it/s, avgSpd: 48.76 it/s, left: 0 h 0.0 min\t\n"
      ]
     },
     "execution_count": 26,
     "metadata": {},
     "output_type": "execute_result"
    },
    {
     "data": {
      "text/plain": [
       "it: 998, loss: 0.001240, lr: 0.001250, spd: 48.61 it/s, avgSpd: 48.75 it/s, left: 0 h 0.0 min\t\n"
      ]
     },
     "execution_count": 26,
     "metadata": {},
     "output_type": "execute_result"
    },
    {
     "data": {
      "text/plain": [
       "it: 999, loss: 0.001240, lr: 0.001250, spd: 49.11 it/s, avgSpd: 48.78 it/s, left: 0 h 0.0 min\t\n"
      ]
     },
     "execution_count": 26,
     "metadata": {},
     "output_type": "execute_result"
    },
    {
     "data": {
      "text/plain": [
       "it: 1000, loss: 0.001245, lr: 0.001250, spd: 48.92 it/s, avgSpd: 48.80 it/s, left: 0 h 0.0 min\t\n"
      ]
     },
     "execution_count": 26,
     "metadata": {},
     "output_type": "execute_result"
    }
   ],
   "source": [
    "-- try overfiting a patch\n",
    "local function fevalOverfit(params)\n",
    "    gradParams:zero()\n",
    "        \n",
    "    local predict = net:forward(patchInput)\n",
    "    loss = criterion:forward(predict, patchGT)\n",
    "    local dloss_dpredict = criterion:backward(predict,patchGT)\n",
    "    local gradInput = net:backward(patchInput, dloss_dpredict)\n",
    "        \n",
    "    return loss, gradParams\n",
    "end\n",
    "\n",
    "-- settings\n",
    "local decayFrom = 500\n",
    "local decayEvery = 300\n",
    "local optimConfig = {}\n",
    "optimConfig.learningRate =  0.005\n",
    "optimConfig.weightDecay = 0\n",
    "optimConfig.beta1 = 0.9\n",
    "optimConfig.beta2 = 0.999\n",
    "optimConfig.epsilon = 1e-8\n",
    "local lrMin = 1e-6\n",
    "local itMaxOverfit = 1000\n",
    "local tic = sys.clock()\n",
    "\n",
    "net:training() -- set train = true\n",
    "math.randomseed(sys.clock()) \n",
    "for it = 1,itMaxOverfit do\n",
    "    if it>=decayFrom and (it-decayFrom)%decayEvery==0 then\n",
    "        optimConfig.learningRate = optimConfig.learningRate*decayRate\n",
    "    end\n",
    "    if optimConfig.learningRate<lrMin then\n",
    "        optimConfig.learningRate = lrMin\n",
    "    end\n",
    "\n",
    "    optim.adam(fevalOverfit,params,optimConfig)\n",
    "    \n",
    "    local toc = sys.clock()\n",
    "    speed = 1/(toc-tic)\n",
    "    avgSpeed = avgSpeed or speed\n",
    "    avgSpeed = 0.1*speed+0.9*avgSpeed\n",
    "    timeLeft = (itMaxOverfit-it)/avgSpeed\n",
    "    toc = tic\n",
    "    tic = sys.clock()\n",
    "    timeLeftMin = timeLeft/60\n",
    "    print(string.format(\n",
    "            'it: %d, loss: %f, lr: %f, spd: %.2f it/s, avgSpd: %.2f it/s, left: %d h %.1f min',\n",
    "            it,loss,optimConfig.learningRate,speed,avgSpeed,timeLeftMin/60,timeLeftMin%60))\n",
    "end"
   ]
  },
  {
   "cell_type": "code",
   "execution_count": 29,
   "metadata": {},
   "outputs": [
    {
     "ename": "[string \"-- try overfitting several batches...\"]:6: bad argument #1 to 'sort' (table expected, got string)\nstack traceback:\n\t[C]: in function 'sort'\n\t[string \"-- try overfitting several batches...\"]:6: in main chunk\n\t[C]: in function 'xpcall'\n\t/home/omnisky/torch/install/share/lua/5.1/itorch/main.lua:210: in function </home/omnisky/torch/install/share/lua/5.1/itorch/main.lua:174>\n\t/home/omnisky/torch/install/share/lua/5.1/lzmq/poller.lua:80: in function 'poll'\n\t...e/omnisky/torch/install/share/lua/5.1/lzmq/impl/loop.lua:307: in function 'poll'\n\t...e/omnisky/torch/install/share/lua/5.1/lzmq/impl/loop.lua:325: in function 'sleep_ex'\n\t...e/omnisky/torch/install/share/lua/5.1/lzmq/impl/loop.lua:370: in function 'start'\n\t/home/omnisky/torch/install/share/lua/5.1/itorch/main.lua:389: in main chunk\n\t[C]: in function 'require'\n\t(command line):1: in main chunk\n\t[C]: at 0x00406670",
     "evalue": "",
     "output_type": "error",
     "traceback": [
      "[string \"-- try overfitting several batches...\"]:6: bad argument #1 to 'sort' (table expected, got string)\nstack traceback:\n\t[C]: in function 'sort'\n\t[string \"-- try overfitting several batches...\"]:6: in main chunk\n\t[C]: in function 'xpcall'\n\t/home/omnisky/torch/install/share/lua/5.1/itorch/main.lua:210: in function </home/omnisky/torch/install/share/lua/5.1/itorch/main.lua:174>\n\t/home/omnisky/torch/install/share/lua/5.1/lzmq/poller.lua:80: in function 'poll'\n\t...e/omnisky/torch/install/share/lua/5.1/lzmq/impl/loop.lua:307: in function 'poll'\n\t...e/omnisky/torch/install/share/lua/5.1/lzmq/impl/loop.lua:325: in function 'sleep_ex'\n\t...e/omnisky/torch/install/share/lua/5.1/lzmq/impl/loop.lua:370: in function 'start'\n\t/home/omnisky/torch/install/share/lua/5.1/itorch/main.lua:389: in main chunk\n\t[C]: in function 'require'\n\t(command line):1: in main chunk\n\t[C]: at 0x00406670"
     ]
    }
   ],
   "source": [
    "-- try overfitting several batches\n",
    "videoIndexOverfit = 1\n",
    "batchNumOverfit = 1\n",
    "batchDirsOverfit = {}\n",
    "videoNamesOverfit = videoNames[videoIndexOverfit]\n",
    "\n",
    "for iBatch = 1,10 do\n",
    "    print(videoNameOverfit[iBatch])\n",
    "end\n",
    "print(string.format('Overfit %d batches from video %s',batchNumOverfit,videoNameOverfit))\n",
    "\n",
    "-- get batchDirs for overfitting\n",
    "-- for iBatch = 1,batchNumOverfit do\n",
    "--     table.insert(batchDirsOverfit,batchDirs[videoNamesOverfit][iBatch])\n",
    "--     print(batchDirsOverfit[#batchDirsOverfit])\n",
    "-- end\n",
    "\n",
    "-- math.randomseed(251) \n",
    "-- batchInput,batchGT = loadRandomBatchFrom(batchDirsOverfit,batchSize)\n",
    "-- print(#batchInput)\n",
    "-- print(#batchGT)\n",
    "\n",
    "-- showSampleBatch(batchInput,batchGT)\n",
    "\n",
    "-- math.randomseed(sys.clock()) \n",
    "-- loadRandomBatchFrom(videoNames,batchSize)"
   ]
  },
  {
   "cell_type": "code",
   "execution_count": null,
   "metadata": {},
   "outputs": [],
   "source": []
  }
 ],
 "metadata": {
  "kernelspec": {
   "display_name": "iTorch",
   "language": "lua",
   "name": "itorch"
  },
  "language_info": {
   "name": "lua",
   "version": "5.1"
  }
 },
 "nbformat": 4,
 "nbformat_minor": 2
}
